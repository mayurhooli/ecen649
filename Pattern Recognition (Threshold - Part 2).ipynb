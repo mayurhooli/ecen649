{
 "cells": [
  {
   "cell_type": "markdown",
   "metadata": {},
   "source": [
    "# Pattern Recognition Project"
   ]
  },
  {
   "cell_type": "code",
   "execution_count": 1,
   "metadata": {},
   "outputs": [],
   "source": [
    "%matplotlib inline\n",
    "\n",
    "import os\n",
    "import tarfile\n",
    "import shutil\n",
    "import hashlib\n",
    "import glob\n",
    "import random\n",
    "import pickle\n",
    "from datetime import datetime\n",
    "from typing import *\n",
    "\n",
    "from numba import jit\n",
    "import requests\n",
    "from joblib import Parallel, delayed\n",
    "from pathlib import Path\n",
    "from PIL import Image, ImageOps\n",
    "import numpy as np\n",
    "from sklearn.metrics import *\n",
    "\n",
    "import matplotlib.pyplot as plt\n",
    "import seaborn as sns\n",
    "\n",
    "sns.set_style(\"whitegrid\")\n",
    "sns.set_palette('muted')"
   ]
  },
  {
   "cell_type": "markdown",
   "metadata": {},
   "source": [
    "## Functions Used"
   ]
  },
  {
   "cell_type": "code",
   "execution_count": 2,
   "metadata": {},
   "outputs": [],
   "source": [
    "def to_float_array(img: Image.Image) -> np.ndarray:\n",
    "    return np.array(img).astype(np.float32) / 255.\n",
    "\n",
    "def to_image(values: np.ndarray) -> Image.Image:\n",
    "    return Image.fromarray(np.uint8(values * 255.))\n",
    "\n",
    "def gamma(values: np.ndarray, coeff: float=2.2) -> np.ndarray:\n",
    "    return values**(1./coeff)\n",
    "\n",
    "def gleam(values: np.ndarray) -> np.ndarray:\n",
    "    return np.sum(gamma(values), axis=2) / values.shape[2]\n",
    "\n",
    "def to_integral(img: np.ndarray) -> np.ndarray:\n",
    "    integral = np.cumsum(np.cumsum(img, axis=0), axis=1)\n",
    "    return np.pad(integral, (1, 1), 'constant', constant_values=(0, 0))[:-1, :-1]"
   ]
  },
  {
   "cell_type": "code",
   "execution_count": 3,
   "metadata": {},
   "outputs": [],
   "source": [
    "class Box:\n",
    "    def __init__(self, x: int, y: int, width: int, height: int):\n",
    "        self.coords_x = [x, x + width, x,          x + width]\n",
    "        self.coords_y = [y, y,         y + height, y + height]\n",
    "        self.coeffs   = [1, -1,        -1,         1]\n",
    "    \n",
    "    def __call__(self, integral_image: np.ndarray) -> float:\n",
    "        return np.sum(np.multiply(integral_image[self.coords_y, self.coords_x], self.coeffs))"
   ]
  },
  {
   "cell_type": "markdown",
   "metadata": {},
   "source": [
    "## Input Data"
   ]
  },
  {
   "cell_type": "markdown",
   "metadata": {},
   "source": [
    "We give the link to the directory where the training and test sets are stored and from there, we get the faces and non-faces for the training set"
   ]
  },
  {
   "cell_type": "code",
   "execution_count": 4,
   "metadata": {},
   "outputs": [],
   "source": [
    "data_dir=\"C:\\\\Courses\\\\ECEN649\\\\Project\\\\dataset\"\n",
    "train_data_dir=os.path.join(data_dir,\"trainset\")\n",
    "train_faces=os.path.join(train_data_dir,\"faces\")\n",
    "train_non_faces=os.path.join(train_data_dir,\"non-faces\")"
   ]
  },
  {
   "cell_type": "markdown",
   "metadata": {},
   "source": [
    "We find the number of samples for the faces and non-faces in the training data set"
   ]
  },
  {
   "cell_type": "code",
   "execution_count": 5,
   "metadata": {},
   "outputs": [
    {
     "data": {
      "text/plain": [
       "499"
      ]
     },
     "execution_count": 5,
     "metadata": {},
     "output_type": "execute_result"
    }
   ],
   "source": [
    "face_image_files = glob.glob(os.path.join(train_faces, '**', '*.png'), recursive=True)\n",
    "len(face_image_files)"
   ]
  },
  {
   "cell_type": "code",
   "execution_count": 6,
   "metadata": {},
   "outputs": [
    {
     "data": {
      "text/plain": [
       "2000"
      ]
     },
     "execution_count": 6,
     "metadata": {},
     "output_type": "execute_result"
    }
   ],
   "source": [
    "background_image_files=glob.glob(os.path.join(train_non_faces, '**', '*.png'), recursive=True)\n",
    "len(background_image_files)"
   ]
  },
  {
   "cell_type": "markdown",
   "metadata": {},
   "source": [
    "The pictures in the data set are 19×19. While the standard samples in Viola-Jones paper are 24×24, we adjust the window size based on the size of pictures we have"
   ]
  },
  {
   "cell_type": "code",
   "execution_count": 7,
   "metadata": {},
   "outputs": [],
   "source": [
    "WINDOW_SIZE=19"
   ]
  },
  {
   "cell_type": "markdown",
   "metadata": {},
   "source": [
    "We use the antialiasing on the image. This step may not be required as it doesn't add much value to the code, but was performed as a test."
   ]
  },
  {
   "cell_type": "code",
   "execution_count": 8,
   "metadata": {},
   "outputs": [],
   "source": [
    "def open_face(path: str, resize: bool=True) -> Image.Image:\n",
    "    \n",
    "    img = Image.open(path)\n",
    "    img = to_image(gamma(to_float_array(img)[:, :]))\n",
    "    min_size = np.min(img.size)\n",
    "    img = ImageOps.fit(img, (min_size, min_size), Image.ANTIALIAS)\n",
    "    if resize:\n",
    "        img = img.resize((WINDOW_SIZE, WINDOW_SIZE), Image.ANTIALIAS)\n",
    "    return img.convert('L')"
   ]
  },
  {
   "cell_type": "markdown",
   "metadata": {},
   "source": [
    "We stitch the images together just to make a sense of this"
   ]
  },
  {
   "cell_type": "code",
   "execution_count": 9,
   "metadata": {},
   "outputs": [],
   "source": [
    "def merge_images(files: Iterable[str], open_fun: Callable, resize: bool=False) -> Image.Image:\n",
    "    images = [open_fun(f, resize) for f in files]\n",
    "    sizes = [img.size for img in images]\n",
    "    collage_width = np.sum([size[0] for size in sizes])\n",
    "    collage_height = np.max([size[1] for size in sizes])\n",
    "\n",
    "    result = Image.new('L', (collage_width, collage_height))\n",
    "    x_offset = 0\n",
    "    for img, size in zip(images, sizes):\n",
    "        result.paste(im=img, box=(x_offset, 0))\n",
    "        x_offset += size[0]\n",
    "    return result"
   ]
  },
  {
   "cell_type": "code",
   "execution_count": 10,
   "metadata": {},
   "outputs": [
    {
     "data": {
      "image/png": "[encoded data removed]",
      "text/plain": [
       "<PIL.Image.Image image mode=L size=95x19 at 0x1894FF508C8>"
      ]
     },
     "execution_count": 10,
     "metadata": {},
     "output_type": "execute_result"
    }
   ],
   "source": [
    "random.seed(1000)\n",
    "random_face_files = random.sample(face_image_files, 5)\n",
    "merge_images(random_face_files, open_face)"
   ]
  },
  {
   "cell_type": "markdown",
   "metadata": {},
   "source": [
    "We do the same process for the background"
   ]
  },
  {
   "cell_type": "code",
   "execution_count": 11,
   "metadata": {},
   "outputs": [],
   "source": [
    "def random_crop(img: Image.Image) -> Image.Image:\n",
    "    max_allowed_size = np.min(img.size)\n",
    "    size = random.randint(WINDOW_SIZE, max_allowed_size)\n",
    "    max_width = img.size[0] - size - 1\n",
    "    max_height = img.size[1] - size - 1\n",
    "    left = 0 if (max_width <= 1)  else random.randint(0, max_width)\n",
    "    top  = 0 if (max_height <= 1) else random.randint(0, max_height)\n",
    "    return img.crop((left,top,left+size,top+size))\n",
    "\n",
    "def open_background(path: str, resize: bool=True) -> Image.Image:\n",
    "    img = Image.open(path)\n",
    "    #img = to_image(gleam(to_float_array(img)))\n",
    "    img = random_crop(img)\n",
    "    if resize:\n",
    "        img = img.resize((WINDOW_SIZE, WINDOW_SIZE), Image.ANTIALIAS)\n",
    "    return img.convert('L')"
   ]
  },
  {
   "cell_type": "code",
   "execution_count": 12,
   "metadata": {},
   "outputs": [
    {
     "data": {
      "image/png": "[encoded data removed]",
      "text/plain": [
       "<PIL.Image.Image image mode=L size=95x19 at 0x1894FF5D9C8>"
      ]
     },
     "execution_count": 12,
     "metadata": {},
     "output_type": "execute_result"
    }
   ],
   "source": [
    "random.seed(1000)\n",
    "random_background_files = random.sample(background_image_files, 5)\n",
    "merge_images(random_background_files, open_background)"
   ]
  },
  {
   "cell_type": "markdown",
   "metadata": {},
   "source": [
    "## Training the Classifier"
   ]
  },
  {
   "cell_type": "markdown",
   "metadata": {},
   "source": [
    "Before we can start the training process, we need to define the features in a way they can actually be evaluated. For this we're going to construct a class for each feature type and then parameterize it according to all possible values, yielding about 160k instances. The best features will be picked later by exhaustive search."
   ]
  },
  {
   "cell_type": "code",
   "execution_count": 13,
   "metadata": {},
   "outputs": [],
   "source": [
    "class Feature:\n",
    "    def __init__(self, x: int, y: int, width: int, height: int):\n",
    "        self.x = x\n",
    "        self.y = y\n",
    "        self.width = width\n",
    "        self.height = height\n",
    "    \n",
    "    def __call__(self, integral_image: np.ndarray) -> float:\n",
    "        try:\n",
    "            return np.sum(np.multiply(integral_image[self.coords_y, self.coords_x], self.coeffs))\n",
    "        except IndexError as e:\n",
    "            raise IndexError(str(e) + ' in ' + str(self))\n",
    "    \n",
    "    def __repr__(self):\n",
    "        return f'{self.__class__.__name__}(x={self.x}, y={self.y}, width={self.width}, height={self.height})'"
   ]
  },
  {
   "cell_type": "markdown",
   "metadata": {},
   "source": [
    "With this base class we can define our features:"
   ]
  },
  {
   "cell_type": "code",
   "execution_count": 14,
   "metadata": {},
   "outputs": [],
   "source": [
    "class Feature2h(Feature):\n",
    "    def __init__(self, x: int, y: int, width: int, height: int):\n",
    "        super().__init__(x, y, width, height)\n",
    "        hw = width // 2\n",
    "        self.coords_x = [x,      x + hw,     x,          x + hw,\n",
    "                         x + hw, x + width,  x + hw,     x + width]\n",
    "        self.coords_y = [y,      y,          y + height, y + height,\n",
    "                         y,      y,          y + height, y + height]\n",
    "        self.coeffs   = [1,     -1,         -1,          1,\n",
    "                         -1,     1,          1,         -1]"
   ]
  },
  {
   "cell_type": "code",
   "execution_count": 15,
   "metadata": {},
   "outputs": [],
   "source": [
    "class Feature2v(Feature):\n",
    "    def __init__(self, x: int, y: int, width: int, height: int):\n",
    "        super().__init__(x, y, width, height)\n",
    "        hh = height // 2        \n",
    "        self.coords_x = [x,      x + width,  x,          x + width,\n",
    "                         x,      x + width,  x,          x + width]\n",
    "        self.coords_y = [y,      y,          y + hh,     y + hh,\n",
    "                         y + hh, y + hh,     y + height, y + height]\n",
    "        self.coeffs   = [-1,     1,          1,         -1,\n",
    "                         1,     -1,         -1,          1]"
   ]
  },
  {
   "cell_type": "code",
   "execution_count": 16,
   "metadata": {},
   "outputs": [],
   "source": [
    "class Feature3h(Feature):\n",
    "    def __init__(self, x: int, y: int, width: int, height: int):\n",
    "        super().__init__(x, y, width, height)\n",
    "        tw = width // 3\n",
    "        self.coords_x = [x,        x + tw,    x,          x + tw,\n",
    "                         x + tw,   x + 2*tw,  x + tw,     x + 2*tw,\n",
    "                         x + 2*tw, x + width, x + 2*tw,   x + width]\n",
    "        self.coords_y = [y,        y,         y + height, y + height,\n",
    "                         y,        y,         y + height, y + height,\n",
    "                         y,        y,         y + height, y + height]\n",
    "        self.coeffs   = [-1,       1,         1,         -1,\n",
    "                          1,      -1,        -1,          1,\n",
    "                         -1,       1,         1,         -1]"
   ]
  },
  {
   "cell_type": "code",
   "execution_count": 17,
   "metadata": {},
   "outputs": [],
   "source": [
    "class Feature3v(Feature):\n",
    "    def __init__(self, x: int, y: int, width: int, height: int):\n",
    "        super().__init__(x, y, width, height)\n",
    "        th = height // 3\n",
    "        self.coords_x = [x,        x + width,  x,          x + width,\n",
    "                         x,        x + width,  x,          x + width,\n",
    "                         x,        x + width,  x,          x + width]\n",
    "        self.coords_y = [y,        y,          y + th,     y + th,\n",
    "                         y + th,   y + th,     y + 2*th,   y + 2*th,\n",
    "                         y + 2*th, y + 2*th,   y + height, y + height]\n",
    "        self.coeffs   = [-1,        1,         1,         -1,\n",
    "                          1,       -1,        -1,          1,\n",
    "                         -1,        1,         1,         -1]"
   ]
  },
  {
   "cell_type": "code",
   "execution_count": 18,
   "metadata": {},
   "outputs": [],
   "source": [
    "class Feature4(Feature):\n",
    "    def __init__(self, x: int, y: int, width: int, height: int):\n",
    "        super().__init__(x, y, width, height)\n",
    "        hw = width // 2\n",
    "        hh = height // 2\n",
    "        self.coords_x = [x,      x + hw,     x,          x + hw,     # upper row\n",
    "                         x + hw, x + width,  x + hw,     x + width,\n",
    "                         x,      x + hw,     x,          x + hw,     # lower row\n",
    "                         x + hw, x + width,  x + hw,     x + width]\n",
    "        self.coords_y = [y,      y,          y + hh,     y + hh,     # upper row\n",
    "                         y,      y,          y + hh,     y + hh,\n",
    "                         y + hh, y + hh,     y + height, y + height, # lower row\n",
    "                         y + hh, y + hh,     y + height, y + height]\n",
    "        self.coeffs   = [1,     -1,         -1,          1,          # upper row\n",
    "                         -1,     1,          1,         -1,\n",
    "                         -1,     1,          1,         -1,          # lower row\n",
    "                          1,    -1,         -1,          1]"
   ]
  },
  {
   "cell_type": "code",
   "execution_count": 19,
   "metadata": {},
   "outputs": [
    {
     "data": {
      "text/plain": [
       "-2"
      ]
     },
     "execution_count": 19,
     "metadata": {},
     "output_type": "execute_result"
    }
   ],
   "source": [
    "Feature4(0, 0, 2, 2)(to_integral(np.array([[0, 1], \n",
    "                                           [1, 0]])))"
   ]
  },
  {
   "cell_type": "markdown",
   "metadata": {},
   "source": [
    "We will now instantiate the feature detectors."
   ]
  },
  {
   "cell_type": "code",
   "execution_count": 20,
   "metadata": {},
   "outputs": [],
   "source": [
    "Size = NamedTuple('Size', [('height', int), ('width', int)])\n",
    "Location = NamedTuple('Location', [('top', int), ('left', int)])\n",
    "\n",
    "def possible_position(size: int, window_size: int = WINDOW_SIZE) -> Iterable[int]:\n",
    "    return range(0, window_size - size + 1)\n",
    "\n",
    "def possible_locations(base_shape: Size, window_size: int = WINDOW_SIZE) -> Iterable[Location]:\n",
    "    return (Location(left=x, top=y)\n",
    "            for x in possible_position(base_shape.width, window_size) \n",
    "            for y in possible_position(base_shape.height, window_size))\n",
    "\n",
    "def possible_shapes(base_shape: Size, window_size: int = WINDOW_SIZE) -> Iterable[Size]:\n",
    "    base_height = base_shape.height\n",
    "    base_width = base_shape.width\n",
    "    return (Size(height=height, width=width)\n",
    "            for width in range(base_width, window_size + 1, base_width)\n",
    "            for height in range(base_height, window_size + 1, base_height))"
   ]
  },
  {
   "cell_type": "markdown",
   "metadata": {},
   "source": [
    "We can instantiate all possible shapes of the feature:"
   ]
  },
  {
   "cell_type": "code",
   "execution_count": 21,
   "metadata": {},
   "outputs": [
    {
     "name": "stdout",
     "output_type": "stream",
     "text": [
      "Number of feature2h features: 17100\n",
      "Number of feature2v features: 17100\n",
      "Number of feature3h features: 10830\n",
      "Number of feature3v features: 10830\n",
      "Number of feature4 features:  8100\n",
      "Total number of features:     63960\n"
     ]
    }
   ],
   "source": [
    "feature2h = list(Feature2h(location.left, location.top, shape.width, shape.height)\n",
    "                 for shape in possible_shapes(Size(height=1, width=2), WINDOW_SIZE)\n",
    "                 for location in possible_locations(shape, WINDOW_SIZE))\n",
    "\n",
    "feature2v = list(Feature2v(location.left, location.top, shape.width, shape.height)\n",
    "                 for shape in possible_shapes(Size(height=2, width=1), WINDOW_SIZE)\n",
    "                 for location in possible_locations(shape, WINDOW_SIZE))\n",
    "\n",
    "feature3h = list(Feature3h(location.left, location.top, shape.width, shape.height)\n",
    "                 for shape in possible_shapes(Size(height=1, width=3), WINDOW_SIZE)\n",
    "                 for location in possible_locations(shape, WINDOW_SIZE))\n",
    "\n",
    "feature3v = list(Feature3v(location.left, location.top, shape.width, shape.height)\n",
    "                 for shape in possible_shapes(Size(height=3, width=1), WINDOW_SIZE)\n",
    "                 for location in possible_locations(shape, WINDOW_SIZE))\n",
    "\n",
    "feature4  = list(Feature4(location.left, location.top, shape.width, shape.height)\n",
    "                 for shape in possible_shapes(Size(height=2, width=2), WINDOW_SIZE)\n",
    "                 for location in possible_locations(shape, WINDOW_SIZE))\n",
    "\n",
    "features = feature2h + feature2v + feature3h + feature3v + feature4\n",
    "\n",
    "print(f'Number of feature2h features: {len(feature2h)}')\n",
    "print(f'Number of feature2v features: {len(feature2v)}')\n",
    "print(f'Number of feature3h features: {len(feature3h)}')\n",
    "print(f'Number of feature3v features: {len(feature3v)}')\n",
    "print(f'Number of feature4 features:  {len(feature4)}')\n",
    "print(f'Total number of features:     {len(features)}')"
   ]
  },
  {
   "cell_type": "markdown",
   "metadata": {},
   "source": [
    "These are the number of features we have obtained. This is our first result."
   ]
  },
  {
   "cell_type": "markdown",
   "metadata": {},
   "source": [
    "## Sampling Data"
   ]
  },
  {
   "cell_type": "markdown",
   "metadata": {},
   "source": [
    "For training, we want to online sample training data. We start by defining a function to sample examples:"
   ]
  },
  {
   "cell_type": "code",
   "execution_count": 22,
   "metadata": {},
   "outputs": [],
   "source": [
    "def sample_data(p: int, n: int) -> Tuple[np.ndarray, np.ndarray]:\n",
    "    xs = []\n",
    "    xs.extend([to_float_array(open_face(f)) for f in random.sample(face_image_files, p)])\n",
    "    xs.extend([to_float_array(open_background(f)) for f in np.random.choice(background_image_files, n, replace=True)])\n",
    "\n",
    "    ys = np.hstack([np.ones((p,)), np.zeros((n,))])\n",
    "    return np.array(xs), ys"
   ]
  },
  {
   "cell_type": "markdown",
   "metadata": {},
   "source": [
    "In order to compensate for lighting differences, we variance normalize the training data. For this we obtain a sample mean and standard deviation from the training set:"
   ]
  },
  {
   "cell_type": "code",
   "execution_count": 23,
   "metadata": {},
   "outputs": [
    {
     "name": "stdout",
     "output_type": "stream",
     "text": [
      "Sample mean: 0.4752962589263916, standard deviation: 0.2310207337141037\n"
     ]
    }
   ],
   "source": [
    "image_samples, _ = sample_data(499, 2000)\n",
    "\n",
    "sample_mean = image_samples.mean()\n",
    "sample_std = image_samples.std()\n",
    "del image_samples\n",
    "\n",
    "print(f'Sample mean: {sample_mean}, standard deviation: {sample_std}')"
   ]
  },
  {
   "cell_type": "code",
   "execution_count": 24,
   "metadata": {},
   "outputs": [],
   "source": [
    "def normalize(im: np.ndarray, mean: float = sample_mean, std: float = sample_std) -> np.ndarray:\n",
    "    return (im - mean) / std\n",
    "\n",
    "def sample_data_normalized(p: int, n: int, mean: float = sample_mean, std: float = sample_std) -> Tuple[np.ndarray, np.ndarray]:\n",
    "    xs, ys = sample_data(p, n)\n",
    "    xs = normalize(xs, mean, std)\n",
    "    return xs, ys"
   ]
  },
  {
   "cell_type": "markdown",
   "metadata": {},
   "source": [
    "Using normalization, we expect to see approximately zero mean and unit variance:"
   ]
  },
  {
   "cell_type": "code",
   "execution_count": 25,
   "metadata": {},
   "outputs": [
    {
     "name": "stdout",
     "output_type": "stream",
     "text": [
      "Example mean: 0.3530561923980713, standard deviation: 0.9537684321403503\n"
     ]
    }
   ],
   "source": [
    "xs, _ = sample_data_normalized(100, 100)\n",
    "\n",
    "print(f'Example mean: {xs.mean()}, standard deviation: {xs.std()}')\n",
    "del xs\n",
    "del _"
   ]
  },
  {
   "cell_type": "markdown",
   "metadata": {},
   "source": [
    "## Adaboost"
   ]
  },
  {
   "cell_type": "code",
   "execution_count": 26,
   "metadata": {},
   "outputs": [],
   "source": [
    "random.seed(18151210)\n",
    "np.random.seed(18151210)\n",
    "xs, ys = sample_data_normalized(499, 2000)"
   ]
  },
  {
   "cell_type": "markdown",
   "metadata": {},
   "source": [
    "Convert image to integral images"
   ]
  },
  {
   "cell_type": "code",
   "execution_count": 27,
   "metadata": {},
   "outputs": [
    {
     "data": {
      "text/plain": [
       "((2499, 19, 19), (2499, 20, 20))"
      ]
     },
     "execution_count": 27,
     "metadata": {},
     "output_type": "execute_result"
    }
   ],
   "source": [
    "xis = np.array([to_integral(x) for x in xs])\n",
    "xs.shape, xis.shape"
   ]
  },
  {
   "cell_type": "code",
   "execution_count": 28,
   "metadata": {},
   "outputs": [
    {
     "name": "stdout",
     "output_type": "stream",
     "text": [
      "<generator object <genexpr> at 0x00000189528CE148>\n"
     ]
    }
   ],
   "source": [
    "print(to_integral(x) for x in xs)"
   ]
  },
  {
   "cell_type": "markdown",
   "metadata": {},
   "source": [
    "In order to get a feeling for our dataset sample, here's what the average face looks like:"
   ]
  },
  {
   "cell_type": "code",
   "execution_count": 29,
   "metadata": {},
   "outputs": [
    {
     "data": {
      "image/png": "[encoded data removed]",
      "text/plain": [
       "<PIL.Image.Image image mode=L size=100x100 at 0x18952952CC8>"
      ]
     },
     "execution_count": 29,
     "metadata": {},
     "output_type": "execute_result"
    }
   ],
   "source": [
    "average_face = np.sum(xs[ys > .4], axis=0) / xs[ys > .4].shape[0]\n",
    "average_face = (average_face - average_face.min()) / (average_face.max() - average_face.min())\n",
    "to_image(average_face).resize((100, 100))"
   ]
  },
  {
   "cell_type": "markdown",
   "metadata": {},
   "source": [
    "Here's the same image antialiased."
   ]
  },
  {
   "cell_type": "code",
   "execution_count": 30,
   "metadata": {},
   "outputs": [
    {
     "data": {
      "image/png": "[encoded data removed]",
      "text/plain": [
       "<PIL.Image.Image image mode=L size=100x100 at 0x18952952788>"
      ]
     },
     "execution_count": 30,
     "metadata": {},
     "output_type": "execute_result"
    }
   ],
   "source": [
    "to_image(average_face).resize((100, 100), Image.ANTIALIAS)"
   ]
  },
  {
   "cell_type": "markdown",
   "metadata": {},
   "source": [
    "Running the same for background, we get the following."
   ]
  },
  {
   "cell_type": "code",
   "execution_count": 31,
   "metadata": {},
   "outputs": [
    {
     "data": {
      "image/png": "[encoded data removed]",
      "text/plain": [
       "<PIL.Image.Image image mode=L size=100x100 at 0x1895292D4C8>"
      ]
     },
     "execution_count": 31,
     "metadata": {},
     "output_type": "execute_result"
    }
   ],
   "source": [
    "average_background = np.sum(xs[ys < .4], axis=0) / xs[ys < .4].shape[0]\n",
    "average_background = (average_background - average_background.min()) / (average_background.max() - average_background.min())\n",
    "to_image(average_background).resize((100, 100), Image.ANTIALIAS)"
   ]
  },
  {
   "cell_type": "markdown",
   "metadata": {},
   "source": [
    "We also define some helper types to use later."
   ]
  },
  {
   "cell_type": "code",
   "execution_count": 32,
   "metadata": {},
   "outputs": [],
   "source": [
    "ThresholdPolarity = NamedTuple('ThresholdPolarity', [('threshold', float), ('polarity', float)])\n",
    "\n",
    "ClassifierResult = NamedTuple('ClassifierResult', [('threshold', float), ('polarity', int), \n",
    "                                                   ('classification_error', float),\n",
    "                                                   ('classifier', Callable[[np.ndarray], float])])\n",
    "\n",
    "WeakClassifier = NamedTuple('WeakClassifier', [('threshold', float), ('polarity', int), \n",
    "                                               ('alpha', float), \n",
    "                                               ('classifier', Callable[[np.ndarray], float])])"
   ]
  },
  {
   "cell_type": "markdown",
   "metadata": {},
   "source": [
    "Adaboost turns weak learners to strong learners. Here, we define the function for weak learners."
   ]
  },
  {
   "cell_type": "code",
   "execution_count": 33,
   "metadata": {},
   "outputs": [],
   "source": [
    "@jit\n",
    "def weak_classifier(x: np.ndarray, f: Feature, polarity: float, theta: float) -> float:\n",
    "    # return 1. if (polarity * f(x)) < (polarity * theta) else 0.\n",
    "    return (np.sign((polarity * theta) - (polarity * f(x))) + 1) // 2\n",
    "\n",
    "@jit\n",
    "def run_weak_classifier(x: np.ndarray, c: WeakClassifier) -> float:\n",
    "    return weak_classifier(x=x, f=c.classifier, polarity=c.polarity, theta=c.threshold)"
   ]
  },
  {
   "cell_type": "code",
   "execution_count": 34,
   "metadata": {},
   "outputs": [],
   "source": [
    "@jit\n",
    "def strong_classifier(x: np.ndarray, weak_classifiers: List[WeakClassifier]) -> int:\n",
    "    sum_hypotheses = 0.\n",
    "    sum_alphas = 0.\n",
    "    for c in weak_classifiers:\n",
    "        sum_hypotheses += c.alpha * run_weak_classifier(x, c)\n",
    "        sum_alphas += c.alpha\n",
    "    return 1 if (sum_hypotheses >= .5*sum_alphas) else 0"
   ]
  },
  {
   "cell_type": "markdown",
   "metadata": {},
   "source": [
    "We regularly need to renomarlize the input weights to obtain a probability distribution:"
   ]
  },
  {
   "cell_type": "code",
   "execution_count": 35,
   "metadata": {},
   "outputs": [],
   "source": [
    "def normalize_weights(w: np.ndarray) -> np.ndarray:\n",
    "    return w / w.sum()"
   ]
  },
  {
   "cell_type": "markdown",
   "metadata": {},
   "source": [
    "We also define the best threshold and polarity.\n",
    "We have changed the threshold from 0.5 to 0.4 here and have adjusted the same to other places."
   ]
  },
  {
   "cell_type": "code",
   "execution_count": 36,
   "metadata": {},
   "outputs": [],
   "source": [
    "@jit\n",
    "def build_running_sums(ys: np.ndarray, ws: np.ndarray) -> Tuple[float, float, List[float], List[float]]:\n",
    "    s_minus, s_plus = 0., 0.\n",
    "    t_minus, t_plus = 0., 0.\n",
    "    s_minuses, s_pluses = [], []\n",
    "    \n",
    "    for y, w in zip(ys, ws):\n",
    "        if y < .4:\n",
    "            s_minus += w\n",
    "            t_minus += w\n",
    "        else:\n",
    "            s_plus += w\n",
    "            t_plus += w\n",
    "        s_minuses.append(s_minus)\n",
    "        s_pluses.append(s_plus)\n",
    "    return t_minus, t_plus, s_minuses, s_pluses\n",
    "\n",
    "\n",
    "@jit\n",
    "def find_best_threshold(zs: np.ndarray, t_minus: float, t_plus: float, s_minuses: List[float], s_pluses: List[float]) -> ThresholdPolarity:\n",
    "    min_e = float('inf')\n",
    "    min_z, polarity = 0, 0\n",
    "    for z, s_m, s_p in zip(zs, s_minuses, s_pluses):\n",
    "        error_1 = s_p + (t_minus - s_m)\n",
    "        error_2 = s_m + (t_plus - s_p)\n",
    "        if error_1 < min_e:\n",
    "            min_e = error_1\n",
    "            min_z = z\n",
    "            polarity = -1\n",
    "        elif error_2 < min_e:\n",
    "            min_e = error_2\n",
    "            min_z = z\n",
    "            polarity = 1\n",
    "    return ThresholdPolarity(threshold=min_z, polarity=polarity)\n",
    "\n",
    "\n",
    "def determine_threshold_polarity(ys: np.ndarray, ws: np.ndarray, zs: np.ndarray) -> ThresholdPolarity:  \n",
    "    # Sort according to score\n",
    "    p = np.argsort(zs)\n",
    "    zs, ys, ws = zs[p], ys[p], ws[p]\n",
    "    \n",
    "    # Determine the best threshold: build running sums\n",
    "    t_minus, t_plus, s_minuses, s_pluses = build_running_sums(ys, ws)\n",
    "    \n",
    "    # Determine the best threshold: select optimal threshold.\n",
    "    return find_best_threshold(zs, t_minus, t_plus, s_minuses, s_pluses)"
   ]
  },
  {
   "cell_type": "markdown",
   "metadata": {},
   "source": [
    "With this, we can determine the weighted error alongside the best threshold and polarity for a feature:"
   ]
  },
  {
   "cell_type": "code",
   "execution_count": 37,
   "metadata": {},
   "outputs": [],
   "source": [
    "def apply_feature(f: Feature, xis: np.ndarray, ys: np.ndarray, ws: np.ndarray, parallel: Optional[Parallel] = None) -> ClassifierResult:   \n",
    "    if parallel is None:\n",
    "        parallel = Parallel(n_jobs=-1, backend='threading')\n",
    "    \n",
    "    # Determine all feature values\n",
    "    zs = np.array(parallel(delayed(f)(x) for x in xis))\n",
    "    \n",
    "    # Determine the best threshold\n",
    "    result = determine_threshold_polarity(ys, ws, zs)\n",
    "            \n",
    "    # Determine the classification error\n",
    "    classification_error = 0.\n",
    "    for x, y, w in zip(xis, ys, ws):\n",
    "        h = weak_classifier(x, f, result.polarity, result.threshold)\n",
    "        classification_error += w * np.abs(h - y)\n",
    "            \n",
    "    return ClassifierResult(threshold=result.threshold, polarity=result.polarity, \n",
    "                            classification_error=classification_error, classifier=f)"
   ]
  },
  {
   "cell_type": "code",
   "execution_count": 38,
   "metadata": {},
   "outputs": [],
   "source": [
    "STATUS_EVERY     = 2000\n",
    "KEEP_PROBABILITY = 1./4.\n",
    "\n",
    "def build_weak_classifiers(prefix: str, num_features: int, xis: np.ndarray, ys: np.ndarray, features: List[Feature], ws: Optional[np.ndarray] = None) -> Tuple[List[WeakClassifier], List[float]]:\n",
    "    if ws is None:\n",
    "        m = len(ys[ys < .4])  # number of negative example\n",
    "        l = len(ys[ys > .4])  # number of positive examples\n",
    "\n",
    "        # Initialize the weights\n",
    "        ws = np.zeros_like(ys)\n",
    "        ws[ys < .4] = 1./(2.*m)\n",
    "        ws[ys > .4] = 1./(2.*l)\n",
    "    \n",
    "    # Keep track of the history of the example weights.\n",
    "    w_history = [ws]\n",
    "\n",
    "    total_start_time = datetime.now()\n",
    "    with Parallel(n_jobs=-1, backend='threading') as parallel:\n",
    "        weak_classifiers = []  # type: List[WeakClassifier]\n",
    "        for t in range(num_features):\n",
    "            print(f'Building weak classifier {t+1}/{num_features} ...')\n",
    "            start_time = datetime.now()\n",
    "            \n",
    "            # Normalize the weights\n",
    "            ws = normalize_weights(ws)\n",
    "            \n",
    "            status_counter = STATUS_EVERY\n",
    "\n",
    "            # Select best weak classifier for this round\n",
    "            best = ClassifierResult(polarity=0, threshold=0, classification_error=float('inf'), classifier=None)\n",
    "            for i, f in enumerate(features):\n",
    "                status_counter -= 1\n",
    "                improved = False\n",
    "\n",
    "                # Python runs singlethreaded. To speed things up,\n",
    "                # we're only anticipating every other feature, give or take.\n",
    "                if KEEP_PROBABILITY < 1.:\n",
    "                    skip_probability = np.random.random()\n",
    "                    if skip_probability > KEEP_PROBABILITY:\n",
    "                        continue\n",
    "\n",
    "                result = apply_feature(f, xis, ys, ws, parallel)\n",
    "                if result.classification_error < best.classification_error:\n",
    "                    improved = True\n",
    "                    best = result\n",
    "\n",
    "                # Print status every couple of iterations.\n",
    "                if improved or status_counter == 0:\n",
    "                    current_time = datetime.now()\n",
    "                    duration = current_time - start_time\n",
    "                    total_duration = current_time - total_start_time\n",
    "                    status_counter = STATUS_EVERY\n",
    "                    if improved:\n",
    "                        print(f't={t+1}/{num_features} {total_duration.total_seconds():.2f}s ({duration.total_seconds():.2f}s in this stage) {i+1}/{len(features)} {100*i/len(features):.2f}% evaluated. Classification error improved to {best.classification_error:.5f} using {str(best.classifier)} ...')\n",
    "                    else:\n",
    "                        print(f't={t+1}/{num_features} {total_duration.total_seconds():.2f}s ({duration.total_seconds():.2f}s in this stage) {i+1}/{len(features)} {100*i/len(features):.2f}% evaluated.')\n",
    "\n",
    "            # After the best classifier was found, determine alpha\n",
    "            beta = best.classification_error / (1 - best.classification_error)\n",
    "            alpha = np.log(1. / beta)\n",
    "            \n",
    "            # Build the weak classifier\n",
    "            classifier = WeakClassifier(threshold=best.threshold, polarity=best.polarity, classifier=best.classifier, alpha=alpha)\n",
    "            \n",
    "            # Update the weights for misclassified examples\n",
    "            for i, (x, y) in enumerate(zip(xis, ys)):\n",
    "                h = run_weak_classifier(x, classifier)\n",
    "                e = np.abs(h - y)\n",
    "                ws[i] = ws[i] * np.power(beta, 1-e)\n",
    "                \n",
    "            # Register this weak classifier           \n",
    "            weak_classifiers.append(classifier)\n",
    "            w_history.append(ws)\n",
    "        \n",
    "            pickle.dump(classifier, open(f'{prefix}-weak-learner-{t+1}-of-{num_features}.pickle', 'wb'))\n",
    "    \n",
    "    print(f'Done building {num_features} weak classifiers.')\n",
    "    return weak_classifiers, w_history"
   ]
  },
  {
   "cell_type": "code",
   "execution_count": 39,
   "metadata": {},
   "outputs": [],
   "source": [
    "random.seed(1337)\n",
    "np.random.seed(1337)\n",
    "test_xs, test_ys = sample_data_normalized(499, 2000)\n",
    "test_xis = np.array([to_integral(x) for x in test_xs])"
   ]
  },
  {
   "cell_type": "code",
   "execution_count": 40,
   "metadata": {},
   "outputs": [
    {
     "name": "stdout",
     "output_type": "stream",
     "text": [
      "Building weak classifier 1/5 ...\n"
     ]
    },
    {
     "name": "stderr",
     "output_type": "stream",
     "text": [
      "<ipython-input-36-fe56dafede77>:19: NumbaWarning: \u001b[1m\n",
      "Compilation is falling back to object mode WITH looplifting enabled because Function \"find_best_threshold\" failed type inference due to: \u001b[1m\u001b[1m\u001b[1mInvalid use of Function(<class 'float'>) with argument(s) of type(s): (Literal[str](inf))\n",
      " * parameterized\n",
      "\u001b[1mIn definition 0:\u001b[0m\n",
      "\u001b[1m    TypeError: float() only support for numbers\u001b[0m\n",
      "    raised from C:\\Users\\redma\\Anaconda3\\lib\\site-packages\\numba\\typing\\builtins.py:880\n",
      "\u001b[1mIn definition 1:\u001b[0m\n",
      "\u001b[1m    TypeError: float() only support for numbers\u001b[0m\n",
      "    raised from C:\\Users\\redma\\Anaconda3\\lib\\site-packages\\numba\\typing\\builtins.py:880\n",
      "\u001b[1mThis error is usually caused by passing an argument of a type that is unsupported by the named function.\u001b[0m\u001b[0m\n",
      "\u001b[0m\u001b[1m[1] During: resolving callee type: Function(<class 'float'>)\u001b[0m\n",
      "\u001b[0m\u001b[1m[2] During: typing of call at <ipython-input-36-fe56dafede77> (21)\n",
      "\u001b[0m\n",
      "\u001b[1m\n",
      "File \"<ipython-input-36-fe56dafede77>\", line 21:\u001b[0m\n",
      "\u001b[1mdef find_best_threshold(zs: np.ndarray, t_minus: float, t_plus: float, s_minuses: List[float], s_pluses: List[float]) -> ThresholdPolarity:\n",
      "\u001b[1m    min_e = float('inf')\n",
      "\u001b[0m    \u001b[1m^\u001b[0m\u001b[0m\n",
      "\u001b[0m\n",
      "  @jit\n",
      "<ipython-input-36-fe56dafede77>:19: NumbaWarning: \u001b[1m\n",
      "Compilation is falling back to object mode WITHOUT looplifting enabled because Function \"find_best_threshold\" failed type inference due to: \u001b[1m\u001b[1mcannot determine Numba type of <class 'numba.dispatcher.LiftedLoop'>\u001b[0m\n",
      "\u001b[1m\n",
      "File \"<ipython-input-36-fe56dafede77>\", line 23:\u001b[0m\n",
      "\u001b[1mdef find_best_threshold(zs: np.ndarray, t_minus: float, t_plus: float, s_minuses: List[float], s_pluses: List[float]) -> ThresholdPolarity:\n",
      "    <source elided>\n",
      "    min_z, polarity = 0, 0\n",
      "\u001b[1m    for z, s_m, s_p in zip(zs, s_minuses, s_pluses):\n",
      "\u001b[0m    \u001b[1m^\u001b[0m\u001b[0m\n",
      "\u001b[0m\u001b[0m\n",
      "  @jit\n",
      "C:\\Users\\redma\\Anaconda3\\lib\\site-packages\\numba\\compiler.py:742: NumbaWarning: \u001b[1mFunction \"find_best_threshold\" was compiled in object mode without forceobj=True, but has lifted loops.\n",
      "\u001b[1m\n",
      "File \"<ipython-input-36-fe56dafede77>\", line 20:\u001b[0m\n",
      "\u001b[1m@jit\n",
      "\u001b[1mdef find_best_threshold(zs: np.ndarray, t_minus: float, t_plus: float, s_minuses: List[float], s_pluses: List[float]) -> ThresholdPolarity:\n",
      "\u001b[0m\u001b[1m^\u001b[0m\u001b[0m\n",
      "\u001b[0m\n",
      "  self.func_ir.loc))\n",
      "C:\\Users\\redma\\Anaconda3\\lib\\site-packages\\numba\\compiler.py:751: NumbaDeprecationWarning: \u001b[1m\n",
      "Fall-back from the nopython compilation path to the object mode compilation path has been detected, this is deprecated behaviour.\n",
      "\n",
      "For more information visit http://numba.pydata.org/numba-doc/latest/reference/deprecation.html#deprecation-of-object-mode-fall-back-behaviour-when-using-jit\n",
      "\u001b[1m\n",
      "File \"<ipython-input-36-fe56dafede77>\", line 20:\u001b[0m\n",
      "\u001b[1m@jit\n",
      "\u001b[1mdef find_best_threshold(zs: np.ndarray, t_minus: float, t_plus: float, s_minuses: List[float], s_pluses: List[float]) -> ThresholdPolarity:\n",
      "\u001b[0m\u001b[1m^\u001b[0m\u001b[0m\n",
      "\u001b[0m\n",
      "  warnings.warn(errors.NumbaDeprecationWarning(msg, self.func_ir.loc))\n",
      "C:\\Users\\redma\\Anaconda3\\lib\\site-packages\\numba\\ir_utils.py:1959: NumbaPendingDeprecationWarning: \u001b[1m\n",
      "Encountered the use of a type that is scheduled for deprecation: type 'reflected list' found for argument 's_minuses' of function 'find_best_threshold'.\n",
      "\n",
      "For more information visit http://numba.pydata.org/numba-doc/latest/reference/deprecation.html#deprecation-of-reflection-for-list-and-set-types\n",
      "\u001b[1m\n",
      "File \"<ipython-input-36-fe56dafede77>\", line 23:\u001b[0m\n",
      "\u001b[1mdef find_best_threshold(zs: np.ndarray, t_minus: float, t_plus: float, s_minuses: List[float], s_pluses: List[float]) -> ThresholdPolarity:\n",
      "    <source elided>\n",
      "    min_z, polarity = 0, 0\n",
      "\u001b[1m    for z, s_m, s_p in zip(zs, s_minuses, s_pluses):\n",
      "\u001b[0m    \u001b[1m^\u001b[0m\u001b[0m\n",
      "\u001b[0m\n",
      "  warnings.warn(NumbaPendingDeprecationWarning(msg, loc=loc))\n",
      "C:\\Users\\redma\\Anaconda3\\lib\\site-packages\\numba\\ir_utils.py:1959: NumbaPendingDeprecationWarning: \u001b[1m\n",
      "Encountered the use of a type that is scheduled for deprecation: type 'reflected list' found for argument 's_pluses' of function 'find_best_threshold'.\n",
      "\n",
      "For more information visit http://numba.pydata.org/numba-doc/latest/reference/deprecation.html#deprecation-of-reflection-for-list-and-set-types\n",
      "\u001b[1m\n",
      "File \"<ipython-input-36-fe56dafede77>\", line 23:\u001b[0m\n",
      "\u001b[1mdef find_best_threshold(zs: np.ndarray, t_minus: float, t_plus: float, s_minuses: List[float], s_pluses: List[float]) -> ThresholdPolarity:\n",
      "    <source elided>\n",
      "    min_z, polarity = 0, 0\n",
      "\u001b[1m    for z, s_m, s_p in zip(zs, s_minuses, s_pluses):\n",
      "\u001b[0m    \u001b[1m^\u001b[0m\u001b[0m\n",
      "\u001b[0m\n",
      "  warnings.warn(NumbaPendingDeprecationWarning(msg, loc=loc))\n",
      "<ipython-input-33-e47a16af2a40>:1: NumbaWarning: \u001b[1m\n",
      "Compilation is falling back to object mode WITH looplifting enabled because Function \"weak_classifier\" failed type inference due to: \u001b[1m\u001b[1mnon-precise type pyobject\u001b[0m\n",
      "\u001b[0m\u001b[1m[1] During: typing of argument at <ipython-input-33-e47a16af2a40> (4)\u001b[0m\n",
      "\u001b[1m\n",
      "File \"<ipython-input-33-e47a16af2a40>\", line 4:\u001b[0m\n",
      "\u001b[1mdef weak_classifier(x: np.ndarray, f: Feature, polarity: float, theta: float) -> float:\n",
      "    <source elided>\n",
      "    # return 1. if (polarity * f(x)) < (polarity * theta) else 0.\n",
      "\u001b[1m    return (np.sign((polarity * theta) - (polarity * f(x))) + 1) // 2\n",
      "\u001b[0m    \u001b[1m^\u001b[0m\u001b[0m\n",
      "\u001b[0m\n",
      "  @jit\n",
      "C:\\Users\\redma\\Anaconda3\\lib\\site-packages\\numba\\compiler.py:742: NumbaWarning: \u001b[1mFunction \"weak_classifier\" was compiled in object mode without forceobj=True.\n",
      "\u001b[1m\n",
      "File \"<ipython-input-33-e47a16af2a40>\", line 2:\u001b[0m\n",
      "\u001b[1m@jit\n",
      "\u001b[1mdef weak_classifier(x: np.ndarray, f: Feature, polarity: float, theta: float) -> float:\n",
      "\u001b[0m\u001b[1m^\u001b[0m\u001b[0m\n",
      "\u001b[0m\n",
      "  self.func_ir.loc))\n",
      "C:\\Users\\redma\\Anaconda3\\lib\\site-packages\\numba\\compiler.py:751: NumbaDeprecationWarning: \u001b[1m\n",
      "Fall-back from the nopython compilation path to the object mode compilation path has been detected, this is deprecated behaviour.\n",
      "\n",
      "For more information visit http://numba.pydata.org/numba-doc/latest/reference/deprecation.html#deprecation-of-object-mode-fall-back-behaviour-when-using-jit\n",
      "\u001b[1m\n",
      "File \"<ipython-input-33-e47a16af2a40>\", line 2:\u001b[0m\n",
      "\u001b[1m@jit\n",
      "\u001b[1mdef weak_classifier(x: np.ndarray, f: Feature, polarity: float, theta: float) -> float:\n",
      "\u001b[0m\u001b[1m^\u001b[0m\u001b[0m\n",
      "\u001b[0m\n",
      "  warnings.warn(errors.NumbaDeprecationWarning(msg, self.func_ir.loc))\n"
     ]
    },
    {
     "name": "stdout",
     "output_type": "stream",
     "text": [
      "t=1/5 2.35s (2.35s in this stage) 1/63960 0.00% evaluated. Classification error improved to 0.33613 using Feature2h(x=0, y=0, width=2, height=1) ...\n",
      "t=1/5 3.18s (3.17s in this stage) 5/63960 0.01% evaluated. Classification error improved to 0.29181 using Feature2h(x=0, y=4, width=2, height=1) ...\n",
      "t=1/5 8.30s (8.30s in this stage) 29/63960 0.04% evaluated. Classification error improved to 0.28317 using Feature2h(x=1, y=9, width=2, height=1) ...\n",
      "t=1/5 22.54s (22.54s in this stage) 106/63960 0.16% evaluated. Classification error improved to 0.25528 using Feature2h(x=5, y=10, width=2, height=1) ...\n",
      "t=1/5 33.49s (33.49s in this stage) 160/63960 0.25% evaluated. Classification error improved to 0.21790 using Feature2h(x=8, y=7, width=2, height=1) ...\n",
      "t=1/5 87.78s (87.78s in this stage) 491/63960 0.77% evaluated. Classification error improved to 0.18683 using Feature2h(x=8, y=4, width=2, height=2) ...\n",
      "t=1/5 151.13s (151.13s in this stage) 806/63960 1.26% evaluated. Classification error improved to 0.17885 using Feature2h(x=8, y=3, width=2, height=3) ...\n",
      "t=1/5 376.57s (376.57s in this stage) 1889/63960 2.95% evaluated. Classification error improved to 0.16707 using Feature2h(x=8, y=2, width=2, height=7) ...\n",
      "t=1/5 377.37s (377.37s in this stage) 1890/63960 2.95% evaluated. Classification error improved to 0.16207 using Feature2h(x=8, y=3, width=2, height=7) ...\n",
      "t=1/5 467.68s (467.68s in this stage) 2323/63960 3.63% evaluated. Classification error improved to 0.15809 using Feature2h(x=8, y=2, width=2, height=9) ...\n",
      "t=1/5 7147.39s (7147.39s in this stage) 34229/63960 53.51% evaluated. Classification error improved to 0.14553 using Feature3h(x=1, y=9, width=3, height=1) ...\n",
      "t=1/5 7165.68s (7165.68s in this stage) 34323/63960 53.66% evaluated. Classification error improved to 0.14529 using Feature3h(x=6, y=8, width=3, height=1) ...\n",
      "t=1/5 7166.50s (7166.50s in this stage) 34341/63960 53.69% evaluated. Classification error improved to 0.12352 using Feature3h(x=7, y=7, width=3, height=1) ...\n",
      "t=1/5 7167.31s (7167.31s in this stage) 34342/63960 53.69% evaluated. Classification error improved to 0.11427 using Feature3h(x=7, y=8, width=3, height=1) ...\n",
      "t=1/5 7188.04s (7188.03s in this stage) 34436/63960 53.84% evaluated. Classification error improved to 0.10930 using Feature3h(x=12, y=7, width=3, height=1) ...\n",
      "t=1/5 7194.42s (7194.41s in this stage) 34456/63960 53.87% evaluated. Classification error improved to 0.10503 using Feature3h(x=13, y=8, width=3, height=1) ...\n",
      "t=1/5 7253.27s (7253.27s in this stage) 34801/63960 54.41% evaluated. Classification error improved to 0.09329 using Feature3h(x=15, y=7, width=3, height=2) ...\n",
      "t=1/5 7254.06s (7254.06s in this stage) 34802/63960 54.41% evaluated. Classification error improved to 0.08954 using Feature3h(x=15, y=8, width=3, height=2) ...\n",
      "t=1/5 7322.55s (7322.55s in this stage) 35092/63960 54.86% evaluated. Classification error improved to 0.08729 using Feature3h(x=15, y=7, width=3, height=3) ...\n",
      "t=1/5 8377.24s (8377.24s in this stage) 40740/63960 63.69% evaluated. Classification error improved to 0.08679 using Feature3h(x=3, y=7, width=9, height=4) ...\n",
      "t=1/5 10791.77s (10791.76s in this stage) 53217/63960 83.20% evaluated. Classification error improved to 0.08477 using Feature3v(x=8, y=7, width=10, height=12) ...\n"
     ]
    },
    {
     "name": "stderr",
     "output_type": "stream",
     "text": [
      "<ipython-input-33-e47a16af2a40>:6: NumbaWarning: \u001b[1m\n",
      "Compilation is falling back to object mode WITH looplifting enabled because Function \"run_weak_classifier\" failed type inference due to: \u001b[1m\u001b[1mnon-precise type pyobject\u001b[0m\n",
      "\u001b[0m\u001b[1m[1] During: typing of argument at <ipython-input-33-e47a16af2a40> (8)\u001b[0m\n",
      "\u001b[1m\n",
      "File \"<ipython-input-33-e47a16af2a40>\", line 8:\u001b[0m\n",
      "\u001b[1mdef run_weak_classifier(x: np.ndarray, c: WeakClassifier) -> float:\n",
      "\u001b[1m    return weak_classifier(x=x, f=c.classifier, polarity=c.polarity, theta=c.threshold)\n",
      "\u001b[0m    \u001b[1m^\u001b[0m\u001b[0m\n",
      "\u001b[0m\n",
      "  @jit\n",
      "C:\\Users\\redma\\Anaconda3\\lib\\site-packages\\numba\\compiler.py:742: NumbaWarning: \u001b[1mFunction \"run_weak_classifier\" was compiled in object mode without forceobj=True.\n",
      "\u001b[1m\n",
      "File \"<ipython-input-33-e47a16af2a40>\", line 7:\u001b[0m\n",
      "\u001b[1m@jit\n",
      "\u001b[1mdef run_weak_classifier(x: np.ndarray, c: WeakClassifier) -> float:\n",
      "\u001b[0m\u001b[1m^\u001b[0m\u001b[0m\n",
      "\u001b[0m\n",
      "  self.func_ir.loc))\n",
      "C:\\Users\\redma\\Anaconda3\\lib\\site-packages\\numba\\compiler.py:751: NumbaDeprecationWarning: \u001b[1m\n",
      "Fall-back from the nopython compilation path to the object mode compilation path has been detected, this is deprecated behaviour.\n",
      "\n",
      "For more information visit http://numba.pydata.org/numba-doc/latest/reference/deprecation.html#deprecation-of-object-mode-fall-back-behaviour-when-using-jit\n",
      "\u001b[1m\n",
      "File \"<ipython-input-33-e47a16af2a40>\", line 7:\u001b[0m\n",
      "\u001b[1m@jit\n",
      "\u001b[1mdef run_weak_classifier(x: np.ndarray, c: WeakClassifier) -> float:\n",
      "\u001b[0m\u001b[1m^\u001b[0m\u001b[0m\n",
      "\u001b[0m\n",
      "  warnings.warn(errors.NumbaDeprecationWarning(msg, self.func_ir.loc))\n"
     ]
    },
    {
     "name": "stdout",
     "output_type": "stream",
     "text": [
      "Building weak classifier 2/5 ...\n",
      "t=2/5 12842.73s (0.76s in this stage) 1/63960 0.00% evaluated. Classification error improved to 0.29988 using Feature2h(x=0, y=0, width=2, height=1) ...\n",
      "t=2/5 12843.50s (1.53s in this stage) 5/63960 0.01% evaluated. Classification error improved to 0.29280 using Feature2h(x=0, y=4, width=2, height=1) ...\n",
      "t=2/5 12860.70s (18.73s in this stage) 107/63960 0.17% evaluated. Classification error improved to 0.28413 using Feature2h(x=5, y=11, width=2, height=1) ...\n",
      "t=2/5 12871.16s (29.18s in this stage) 159/63960 0.25% evaluated. Classification error improved to 0.24082 using Feature2h(x=8, y=6, width=2, height=1) ...\n",
      "t=2/5 12872.65s (30.67s in this stage) 162/63960 0.25% evaluated. Classification error improved to 0.22769 using Feature2h(x=8, y=9, width=2, height=1) ...\n",
      "t=2/5 12986.92s (144.95s in this stage) 811/63960 1.27% evaluated. Classification error improved to 0.21884 using Feature2h(x=8, y=8, width=2, height=3) ...\n",
      "t=2/5 13197.79s (355.82s in this stage) 1890/63960 2.95% evaluated. Classification error improved to 0.21581 using Feature2h(x=8, y=3, width=2, height=7) ...\n",
      "t=2/5 13322.60s (480.63s in this stage) 2514/63960 3.93% evaluated. Classification error improved to 0.21123 using Feature2h(x=8, y=3, width=2, height=10) ...\n",
      "t=2/5 13388.96s (546.98s in this stage) 2839/63960 4.44% evaluated. Classification error improved to 0.20617 using Feature2h(x=8, y=2, width=2, height=12) ...\n",
      "Building weak classifier 3/5 ...\n",
      "t=3/5 25634.43s (0.84s in this stage) 1/63960 0.00% evaluated. Classification error improved to 0.31943 using Feature2h(x=0, y=0, width=2, height=1) ...\n",
      "t=3/5 25654.16s (20.56s in this stage) 104/63960 0.16% evaluated. Classification error improved to 0.27753 using Feature2h(x=5, y=8, width=2, height=1) ...\n",
      "t=3/5 25782.51s (148.91s in this stage) 682/63960 1.06% evaluated. Classification error improved to 0.27219 using Feature2h(x=0, y=15, width=2, height=3) ...\n",
      "t=3/5 25802.97s (169.37s in this stage) 749/63960 1.17% evaluated. Classification error improved to 0.24878 using Feature2h(x=4, y=14, width=2, height=3) ...\n",
      "t=3/5 26425.23s (791.64s in this stage) 3793/63960 5.93% evaluated. Classification error improved to 0.21421 using Feature2h(x=3, y=14, width=4, height=2) ...\n",
      "t=3/5 26562.00s (928.41s in this stage) 4469/63960 6.99% evaluated. Classification error improved to 0.21149 using Feature2h(x=11, y=8, width=4, height=4) ...\n",
      "t=3/5 26656.50s (1022.91s in this stage) 4942/63960 7.73% evaluated. Classification error improved to 0.21137 using Feature2h(x=11, y=7, width=4, height=6) ...\n",
      "t=3/5 30232.53s (4598.93s in this stage) 22235/63960 34.76% evaluated. Classification error improved to 0.19998 using Feature2v(x=15, y=4, width=4, height=2) ...\n",
      "Building weak classifier 4/5 ...\n",
      "t=4/5 38722.18s (0.77s in this stage) 3/63960 0.00% evaluated. Classification error improved to 0.37194 using Feature2h(x=0, y=2, width=2, height=1) ...\n",
      "t=4/5 38723.73s (2.32s in this stage) 8/63960 0.01% evaluated. Classification error improved to 0.31035 using Feature2h(x=0, y=7, width=2, height=1) ...\n",
      "t=4/5 38724.51s (3.11s in this stage) 9/63960 0.01% evaluated. Classification error improved to 0.30107 using Feature2h(x=0, y=8, width=2, height=1) ...\n",
      "t=4/5 38736.17s (14.76s in this stage) 92/63960 0.14% evaluated. Classification error improved to 0.26332 using Feature2h(x=4, y=15, width=2, height=1) ...\n",
      "t=4/5 38737.73s (16.32s in this stage) 104/63960 0.16% evaluated. Classification error improved to 0.24558 using Feature2h(x=5, y=8, width=2, height=1) ...\n",
      "t=4/5 39133.77s (412.37s in this stage) 2104/63960 3.29% evaluated.\n",
      "t=4/5 39504.81s (783.41s in this stage) 3933/63960 6.15% evaluated. Classification error improved to 0.23030 using Feature2h(x=11, y=10, width=4, height=2) ...\n",
      "t=4/5 50355.26s (11633.86s in this stage) 59981/63960 93.78% evaluated. Classification error improved to 0.22459 using Feature4(x=10, y=0, width=6, height=12) ...\n",
      "Building weak classifier 5/5 ...\n",
      "t=5/5 51089.88s (0.76s in this stage) 2/63960 0.00% evaluated. Classification error improved to 0.34516 using Feature2h(x=0, y=1, width=2, height=1) ...\n",
      "t=5/5 51091.43s (2.30s in this stage) 5/63960 0.01% evaluated. Classification error improved to 0.32703 using Feature2h(x=0, y=4, width=2, height=1) ...\n",
      "t=5/5 51092.96s (3.83s in this stage) 11/63960 0.02% evaluated. Classification error improved to 0.30817 using Feature2h(x=0, y=10, width=2, height=1) ...\n",
      "t=5/5 51120.45s (31.32s in this stage) 122/63960 0.19% evaluated. Classification error improved to 0.28338 using Feature2h(x=6, y=7, width=2, height=1) ...\n",
      "t=5/5 51789.86s (700.73s in this stage) 3493/63960 5.46% evaluated. Classification error improved to 0.27310 using Feature2h(x=3, y=15, width=4, height=1) ...\n",
      "t=5/5 51849.14s (760.01s in this stage) 3793/63960 5.93% evaluated. Classification error improved to 0.27164 using Feature2h(x=3, y=14, width=4, height=2) ...\n",
      "t=5/5 52369.12s (1280.00s in this stage) 6494/63960 10.15% evaluated. Classification error improved to 0.26048 using Feature2h(x=1, y=14, width=6, height=1) ...\n",
      "t=5/5 52376.04s (1286.92s in this stage) 6514/63960 10.18% evaluated. Classification error improved to 0.24415 using Feature2h(x=2, y=15, width=6, height=1) ...\n",
      "t=5/5 52423.98s (1334.86s in this stage) 6759/63960 10.57% evaluated. Classification error improved to 0.23964 using Feature2h(x=1, y=14, width=6, height=2) ...\n",
      "t=5/5 55307.39s (4218.27s in this stage) 20644/63960 32.27% evaluated. Classification error improved to 0.21524 using Feature2v(x=11, y=15, width=3, height=2) ...\n",
      "Done building 5 weak classifiers.\n"
     ]
    }
   ],
   "source": [
    "assert xis.shape[1:3] == (WINDOW_SIZE+1, WINDOW_SIZE+1), xis.shape\n",
    "weak_classifiers_3, w_history = build_weak_classifiers('3rd', 5, xis, ys, features)"
   ]
  },
  {
   "cell_type": "code",
   "execution_count": 41,
   "metadata": {},
   "outputs": [
    {
     "data": {
      "text/plain": [
       "[WeakClassifier(threshold=-19.962182998657227, polarity=1, alpha=2.3791815174041497, classifier=Feature3v(x=8, y=7, width=10, height=12)),\n",
       " WeakClassifier(threshold=-1.9351458549499512, polarity=1, alpha=1.3481666141776556, classifier=Feature2h(x=8, y=2, width=2, height=12)),\n",
       " WeakClassifier(threshold=1.103377342224121, polarity=-1, alpha=1.386429168437212, classifier=Feature2v(x=15, y=4, width=4, height=2)),\n",
       " WeakClassifier(threshold=6.5693206787109375, polarity=-1, alpha=1.2391148233738651, classifier=Feature4(x=10, y=0, width=6, height=12)),\n",
       " WeakClassifier(threshold=0.3564767837524414, polarity=-1, alpha=1.2936484678995541, classifier=Feature2v(x=11, y=15, width=3, height=2))]"
      ]
     },
     "execution_count": 41,
     "metadata": {},
     "output_type": "execute_result"
    }
   ],
   "source": [
    "weak_classifiers_3"
   ]
  },
  {
   "cell_type": "markdown",
   "metadata": {},
   "source": [
    "## Test Case"
   ]
  },
  {
   "cell_type": "code",
   "execution_count": 42,
   "metadata": {},
   "outputs": [],
   "source": [
    "test_data_dir=os.path.join(data_dir,\"testset\")\n",
    "test_faces=os.path.join(test_data_dir,\"faces\")\n",
    "test_non_faces=os.path.join(test_data_dir,\"non-faces\")"
   ]
  },
  {
   "cell_type": "code",
   "execution_count": 43,
   "metadata": {},
   "outputs": [
    {
     "data": {
      "text/plain": [
       "472"
      ]
     },
     "execution_count": 43,
     "metadata": {},
     "output_type": "execute_result"
    }
   ],
   "source": [
    "face_image_files_test = glob.glob(os.path.join(test_faces, '**', '*.png'), recursive=True)\n",
    "len(face_image_files_test)"
   ]
  },
  {
   "cell_type": "code",
   "execution_count": 44,
   "metadata": {},
   "outputs": [
    {
     "data": {
      "text/plain": [
       "2001"
      ]
     },
     "execution_count": 44,
     "metadata": {},
     "output_type": "execute_result"
    }
   ],
   "source": [
    "background_image_files_test=glob.glob(os.path.join(test_non_faces, '**', '*.png'), recursive=True)\n",
    "len(background_image_files_test)"
   ]
  },
  {
   "cell_type": "code",
   "execution_count": 45,
   "metadata": {},
   "outputs": [
    {
     "data": {
      "image/png": "[encoded data removed]",
      "text/plain": [
       "<PIL.Image.Image image mode=L size=95x19 at 0x1895492DE08>"
      ]
     },
     "execution_count": 45,
     "metadata": {},
     "output_type": "execute_result"
    }
   ],
   "source": [
    "random.seed(1000)\n",
    "random_face_files_test = random.sample(face_image_files_test, 5)\n",
    "merge_images(random_face_files_test, open_face)"
   ]
  },
  {
   "cell_type": "code",
   "execution_count": 46,
   "metadata": {},
   "outputs": [
    {
     "data": {
      "image/png": "[encoded data removed]",
      "text/plain": [
       "<PIL.Image.Image image mode=L size=95x19 at 0x189549F0A88>"
      ]
     },
     "execution_count": 46,
     "metadata": {},
     "output_type": "execute_result"
    }
   ],
   "source": [
    "random.seed(1000)\n",
    "random_background_files_test = random.sample(background_image_files_test, 5)\n",
    "merge_images(random_background_files_test, open_background)"
   ]
  },
  {
   "cell_type": "code",
   "execution_count": 47,
   "metadata": {},
   "outputs": [],
   "source": [
    "def sample_data_test(p: int, n: int) -> Tuple[np.ndarray, np.ndarray]:\n",
    "    xs = []\n",
    "    xs.extend([to_float_array(open_face(f)) for f in random.sample(face_image_files_test, p)])\n",
    "    xs.extend([to_float_array(open_background(f)) for f in np.random.choice(background_image_files_test, n, replace=True)])\n",
    "\n",
    "    ys = np.hstack([np.ones((p,)), np.zeros((n,))])\n",
    "    return np.array(xs), ys"
   ]
  },
  {
   "cell_type": "code",
   "execution_count": 48,
   "metadata": {},
   "outputs": [
    {
     "name": "stdout",
     "output_type": "stream",
     "text": [
      "Sample mean: 0.532362163066864, standard deviation: 0.2310607135295868\n"
     ]
    }
   ],
   "source": [
    "image_samples_test, _ = sample_data_test(100, 100)\n",
    "\n",
    "sample_mean = image_samples_test.mean()\n",
    "sample_std = image_samples_test.std()\n",
    "del image_samples_test\n",
    "\n",
    "print(f'Sample mean: {sample_mean}, standard deviation: {sample_std}')"
   ]
  },
  {
   "cell_type": "code",
   "execution_count": 49,
   "metadata": {},
   "outputs": [],
   "source": [
    "def normalize_test(im: np.ndarray, mean: float = sample_mean, std: float = sample_std) -> np.ndarray:\n",
    "    return (im - mean) / std\n",
    "\n",
    "def sample_data_normalized_test(p: int, n: int, mean: float = sample_mean, std: float = sample_std) -> Tuple[np.ndarray, np.ndarray]:\n",
    "    xs, ys = sample_data_test(p, n)\n",
    "    xs = normalize_test(xs, mean, std)\n",
    "    return xs, ys"
   ]
  },
  {
   "cell_type": "code",
   "execution_count": 50,
   "metadata": {
    "scrolled": true
   },
   "outputs": [
    {
     "name": "stdout",
     "output_type": "stream",
     "text": [
      "Example mean: 0.03570551797747612, standard deviation: 1.036490797996521\n"
     ]
    }
   ],
   "source": [
    "xs, _ = sample_data_normalized_test(100, 100)\n",
    "\n",
    "print(f'Example mean: {xs.mean()}, standard deviation: {xs.std()}')\n",
    "del xs\n",
    "del _"
   ]
  },
  {
   "cell_type": "code",
   "execution_count": 51,
   "metadata": {},
   "outputs": [],
   "source": [
    "random.seed(18151210)\n",
    "np.random.seed(18151210)\n",
    "xs, ys = sample_data_normalized_test(100, 100)"
   ]
  },
  {
   "cell_type": "code",
   "execution_count": 52,
   "metadata": {},
   "outputs": [
    {
     "data": {
      "text/plain": [
       "((200, 19, 19), (200, 20, 20))"
      ]
     },
     "execution_count": 52,
     "metadata": {},
     "output_type": "execute_result"
    }
   ],
   "source": [
    "xis = np.array([to_integral(x) for x in xs])\n",
    "xs.shape, xis.shape"
   ]
  },
  {
   "cell_type": "code",
   "execution_count": 53,
   "metadata": {},
   "outputs": [
    {
     "data": {
      "image/png": "[encoded data removed]",
      "text/plain": [
       "<PIL.Image.Image image mode=L size=100x100 at 0x18955DB02C8>"
      ]
     },
     "execution_count": 53,
     "metadata": {},
     "output_type": "execute_result"
    }
   ],
   "source": [
    "average_face = np.sum(xs[ys > .4], axis=0) / xs[ys > .4].shape[0]\n",
    "average_face = (average_face - average_face.min()) / (average_face.max() - average_face.min())\n",
    "to_image(average_face).resize((100, 100))"
   ]
  },
  {
   "cell_type": "code",
   "execution_count": 54,
   "metadata": {},
   "outputs": [
    {
     "data": {
      "image/png": "[encoded data removed]",
      "text/plain": [
       "<PIL.Image.Image image mode=L size=100x100 at 0x18955D20148>"
      ]
     },
     "execution_count": 54,
     "metadata": {},
     "output_type": "execute_result"
    }
   ],
   "source": [
    "to_image(average_face).resize((100, 100), Image.ANTIALIAS)"
   ]
  },
  {
   "cell_type": "code",
   "execution_count": 55,
   "metadata": {},
   "outputs": [
    {
     "data": {
      "image/png": "[encoded data removed]",
      "text/plain": [
       "<PIL.Image.Image image mode=L size=100x100 at 0x18955DB0E48>"
      ]
     },
     "execution_count": 55,
     "metadata": {},
     "output_type": "execute_result"
    }
   ],
   "source": [
    "average_background = np.sum(xs[ys < .4], axis=0) / xs[ys < .4].shape[0]\n",
    "average_background = (average_background - average_background.min()) / (average_background.max() - average_background.min())\n",
    "to_image(average_background).resize((100, 100), Image.ANTIALIAS)"
   ]
  },
  {
   "cell_type": "code",
   "execution_count": 56,
   "metadata": {},
   "outputs": [],
   "source": [
    "random.seed(1337)\n",
    "np.random.seed(1337)\n",
    "test_xs, test_ys = sample_data_normalized_test(100, 100)\n",
    "test_xis = np.array([to_integral(x) for x in test_xs])"
   ]
  },
  {
   "cell_type": "markdown",
   "metadata": {},
   "source": [
    "## Evaluation of the classifier(s)"
   ]
  },
  {
   "cell_type": "code",
   "execution_count": 57,
   "metadata": {},
   "outputs": [],
   "source": [
    "PredictionStats = NamedTuple('PredictionStats', [('tn', int), ('fp', int), ('fn', int), ('tp', int)])\n",
    "\n",
    "def prediction_stats(y_true: np.ndarray, y_pred: np.ndarray) -> Tuple[np.ndarray, PredictionStats]:\n",
    "    c = confusion_matrix(y_true, y_pred)\n",
    "    tn, fp, fn, tp = c.ravel()\n",
    "    return c, PredictionStats(tn=tn, fp=fp, fn=fn, tp=tp)"
   ]
  },
  {
   "cell_type": "code",
   "execution_count": 58,
   "metadata": {},
   "outputs": [
    {
     "name": "stdout",
     "output_type": "stream",
     "text": [
      "Precision 0.91, accuracy 0.85, recall 0.79, false positive rate 0.08, false negative rate 0.21.\n"
     ]
    },
    {
     "data": {
      "image/png": "[encoded data removed]",
      "text/plain": [
       "<Figure size 432x288 with 2 Axes>"
      ]
     },
     "metadata": {
      "needs_background": "light"
     },
     "output_type": "display_data"
    }
   ],
   "source": [
    "ys_1 = np.array([run_weak_classifier(x, weak_classifiers_3[0]) for x in test_xis])\n",
    "c, s = prediction_stats(test_ys, ys_1)\n",
    "\n",
    "sns.heatmap(c / c.sum(), cmap='YlGnBu', annot=True, square=True, fmt='.1%',\n",
    "            xticklabels=['Predicted negative', 'Predicted positive'], \n",
    "            yticklabels=['Negative', 'Positive'])\n",
    "plt.title(f'{weak_classifiers_3[0].classifier} alone');\n",
    "\n",
    "print(f'Precision {s.tp/(s.tp+s.fp):.2f}, accuracy {(s.tp+s.tn)/(s.tp+s.tn+s.fp+s.fn):.2f}, recall {s.tp/(s.tp+s.fn):.2f}, false positive rate {s.fp/(s.fp+s.tn):.2f}, false negative rate {s.fn/(s.tp+s.fn):.2f}.')"
   ]
  },
  {
   "cell_type": "code",
   "execution_count": 59,
   "metadata": {},
   "outputs": [
    {
     "name": "stdout",
     "output_type": "stream",
     "text": [
      "Precision 0.49, accuracy 0.49, recall 0.17, false positive rate 0.18, false negative rate 0.83.\n"
     ]
    },
    {
     "data": {
      "image/png": "[encoded data removed]",
      "text/plain": [
       "<Figure size 432x288 with 2 Axes>"
      ]
     },
     "metadata": {
      "needs_background": "light"
     },
     "output_type": "display_data"
    }
   ],
   "source": [
    "ys_1 = np.array([run_weak_classifier(x, weak_classifiers_3[1]) for x in test_xis])\n",
    "c, s = prediction_stats(test_ys, ys_1)\n",
    "\n",
    "sns.heatmap(c / c.sum(), cmap='YlGnBu', annot=True, square=True, fmt='.1%',\n",
    "            xticklabels=['Predicted negative', 'Predicted positive'], \n",
    "            yticklabels=['Negative', 'Positive'])\n",
    "plt.title(f'{weak_classifiers_3[1].classifier} alone');\n",
    "\n",
    "print(f'Precision {s.tp/(s.tp+s.fp):.2f}, accuracy {(s.tp+s.tn)/(s.tp+s.tn+s.fp+s.fn):.2f}, recall {s.tp/(s.tp+s.fn):.2f}, false positive rate {s.fp/(s.fp+s.tn):.2f}, false negative rate {s.fn/(s.tp+s.fn):.2f}.')"
   ]
  },
  {
   "cell_type": "code",
   "execution_count": 60,
   "metadata": {},
   "outputs": [
    {
     "name": "stdout",
     "output_type": "stream",
     "text": [
      "Precision 0.81, accuracy 0.58, recall 0.22, false positive rate 0.05, false negative rate 0.78.\n"
     ]
    },
    {
     "data": {
      "image/png": "[encoded data removed]",
      "text/plain": [
       "<Figure size 432x288 with 2 Axes>"
      ]
     },
     "metadata": {
      "needs_background": "light"
     },
     "output_type": "display_data"
    }
   ],
   "source": [
    "ys_1 = np.array([run_weak_classifier(x, weak_classifiers_3[2]) for x in test_xis])\n",
    "c, s = prediction_stats(test_ys, ys_1)\n",
    "\n",
    "sns.heatmap(c / c.sum(), cmap='YlGnBu', annot=True, square=True, fmt='.1%',\n",
    "            xticklabels=['Predicted negative', 'Predicted positive'], \n",
    "            yticklabels=['Negative', 'Positive'])\n",
    "plt.title(f'{weak_classifiers_3[2].classifier} alone');\n",
    "\n",
    "print(f'Precision {s.tp/(s.tp+s.fp):.2f}, accuracy {(s.tp+s.tn)/(s.tp+s.tn+s.fp+s.fn):.2f}, recall {s.tp/(s.tp+s.fn):.2f}, false positive rate {s.fp/(s.fp+s.tn):.2f}, false negative rate {s.fn/(s.tp+s.fn):.2f}.')"
   ]
  },
  {
   "cell_type": "code",
   "execution_count": 61,
   "metadata": {},
   "outputs": [
    {
     "name": "stdout",
     "output_type": "stream",
     "text": [
      "Precision 0.80, accuracy 0.65, recall 0.39, false positive rate 0.10, false negative rate 0.61.\n"
     ]
    },
    {
     "data": {
      "image/png": "[encoded data removed]",
      "text/plain": [
       "<Figure size 432x288 with 2 Axes>"
      ]
     },
     "metadata": {
      "needs_background": "light"
     },
     "output_type": "display_data"
    }
   ],
   "source": [
    "ys_1 = np.array([run_weak_classifier(x, weak_classifiers_3[3]) for x in test_xis])\n",
    "c, s = prediction_stats(test_ys, ys_1)\n",
    "\n",
    "sns.heatmap(c / c.sum(), cmap='YlGnBu', annot=True, square=True, fmt='.1%',\n",
    "            xticklabels=['Predicted negative', 'Predicted positive'], \n",
    "            yticklabels=['Negative', 'Positive'])\n",
    "plt.title(f'{weak_classifiers_3[3].classifier} alone');\n",
    "\n",
    "print(f'Precision {s.tp/(s.tp+s.fp):.2f}, accuracy {(s.tp+s.tn)/(s.tp+s.tn+s.fp+s.fn):.2f}, recall {s.tp/(s.tp+s.fn):.2f}, false positive rate {s.fp/(s.fp+s.tn):.2f}, false negative rate {s.fn/(s.tp+s.fn):.2f}.')"
   ]
  },
  {
   "cell_type": "code",
   "execution_count": 62,
   "metadata": {},
   "outputs": [
    {
     "name": "stdout",
     "output_type": "stream",
     "text": [
      "Precision 0.58, accuracy 0.52, recall 0.15, false positive rate 0.11, false negative rate 0.85.\n"
     ]
    },
    {
     "data": {
      "image/png": "[encoded data removed]",
      "text/plain": [
       "<Figure size 432x288 with 2 Axes>"
      ]
     },
     "metadata": {
      "needs_background": "light"
     },
     "output_type": "display_data"
    }
   ],
   "source": [
    "ys_1 = np.array([run_weak_classifier(x, weak_classifiers_3[4]) for x in test_xis])\n",
    "c, s = prediction_stats(test_ys, ys_1)\n",
    "\n",
    "sns.heatmap(c / c.sum(), cmap='YlGnBu', annot=True, square=True, fmt='.1%',\n",
    "            xticklabels=['Predicted negative', 'Predicted positive'], \n",
    "            yticklabels=['Negative', 'Positive'])\n",
    "plt.title(f'{weak_classifiers_3[4].classifier} alone');\n",
    "\n",
    "print(f'Precision {s.tp/(s.tp+s.fp):.2f}, accuracy {(s.tp+s.tn)/(s.tp+s.tn+s.fp+s.fn):.2f}, recall {s.tp/(s.tp+s.fn):.2f}, false positive rate {s.fp/(s.fp+s.tn):.2f}, false negative rate {s.fn/(s.tp+s.fn):.2f}.')"
   ]
  },
  {
   "cell_type": "code",
   "execution_count": 63,
   "metadata": {},
   "outputs": [
    {
     "name": "stderr",
     "output_type": "stream",
     "text": [
      "<ipython-input-34-886b5b384fd2>:1: NumbaWarning: \u001b[1m\n",
      "Compilation is falling back to object mode WITH looplifting enabled because Function \"strong_classifier\" failed type inference due to: \u001b[1m\u001b[1mnon-precise type pyobject\u001b[0m\n",
      "\u001b[0m\u001b[1m[1] During: typing of argument at <ipython-input-34-886b5b384fd2> (3)\u001b[0m\n",
      "\u001b[1m\n",
      "File \"<ipython-input-34-886b5b384fd2>\", line 3:\u001b[0m\n",
      "\u001b[1mdef strong_classifier(x: np.ndarray, weak_classifiers: List[WeakClassifier]) -> int:\n",
      "\u001b[1m    sum_hypotheses = 0.\n",
      "\u001b[0m    \u001b[1m^\u001b[0m\u001b[0m\n",
      "\u001b[0m\n",
      "  @jit\n",
      "<ipython-input-34-886b5b384fd2>:1: NumbaWarning: \u001b[1m\n",
      "Compilation is falling back to object mode WITHOUT looplifting enabled because Function \"strong_classifier\" failed type inference due to: \u001b[1m\u001b[1mcannot determine Numba type of <class 'numba.dispatcher.LiftedLoop'>\u001b[0m\n",
      "\u001b[1m\n",
      "File \"<ipython-input-34-886b5b384fd2>\", line 5:\u001b[0m\n",
      "\u001b[1mdef strong_classifier(x: np.ndarray, weak_classifiers: List[WeakClassifier]) -> int:\n",
      "    <source elided>\n",
      "    sum_alphas = 0.\n",
      "\u001b[1m    for c in weak_classifiers:\n",
      "\u001b[0m    \u001b[1m^\u001b[0m\u001b[0m\n",
      "\u001b[0m\u001b[0m\n",
      "  @jit\n",
      "C:\\Users\\redma\\Anaconda3\\lib\\site-packages\\numba\\compiler.py:742: NumbaWarning: \u001b[1mFunction \"strong_classifier\" was compiled in object mode without forceobj=True, but has lifted loops.\n",
      "\u001b[1m\n",
      "File \"<ipython-input-34-886b5b384fd2>\", line 2:\u001b[0m\n",
      "\u001b[1m@jit\n",
      "\u001b[1mdef strong_classifier(x: np.ndarray, weak_classifiers: List[WeakClassifier]) -> int:\n",
      "\u001b[0m\u001b[1m^\u001b[0m\u001b[0m\n",
      "\u001b[0m\n",
      "  self.func_ir.loc))\n",
      "C:\\Users\\redma\\Anaconda3\\lib\\site-packages\\numba\\compiler.py:751: NumbaDeprecationWarning: \u001b[1m\n",
      "Fall-back from the nopython compilation path to the object mode compilation path has been detected, this is deprecated behaviour.\n",
      "\n",
      "For more information visit http://numba.pydata.org/numba-doc/latest/reference/deprecation.html#deprecation-of-object-mode-fall-back-behaviour-when-using-jit\n",
      "\u001b[1m\n",
      "File \"<ipython-input-34-886b5b384fd2>\", line 2:\u001b[0m\n",
      "\u001b[1m@jit\n",
      "\u001b[1mdef strong_classifier(x: np.ndarray, weak_classifiers: List[WeakClassifier]) -> int:\n",
      "\u001b[0m\u001b[1m^\u001b[0m\u001b[0m\n",
      "\u001b[0m\n",
      "  warnings.warn(errors.NumbaDeprecationWarning(msg, self.func_ir.loc))\n",
      "<ipython-input-34-886b5b384fd2>:1: NumbaWarning: \u001b[1m\n",
      "Compilation is falling back to object mode WITHOUT looplifting enabled because Function \"strong_classifier\" failed type inference due to: \u001b[1m\u001b[1mnon-precise type pyobject\u001b[0m\n",
      "\u001b[0m\u001b[1m[1] During: typing of argument at <ipython-input-34-886b5b384fd2> (5)\u001b[0m\n",
      "\u001b[1m\n",
      "File \"<ipython-input-34-886b5b384fd2>\", line 5:\u001b[0m\n",
      "\u001b[1mdef strong_classifier(x: np.ndarray, weak_classifiers: List[WeakClassifier]) -> int:\n",
      "    <source elided>\n",
      "    sum_alphas = 0.\n",
      "\u001b[1m    for c in weak_classifiers:\n",
      "\u001b[0m    \u001b[1m^\u001b[0m\u001b[0m\n",
      "\u001b[0m\n",
      "  @jit\n",
      "C:\\Users\\redma\\Anaconda3\\lib\\site-packages\\numba\\compiler.py:742: NumbaWarning: \u001b[1mFunction \"strong_classifier\" was compiled in object mode without forceobj=True.\n",
      "\u001b[1m\n",
      "File \"<ipython-input-34-886b5b384fd2>\", line 5:\u001b[0m\n",
      "\u001b[1mdef strong_classifier(x: np.ndarray, weak_classifiers: List[WeakClassifier]) -> int:\n",
      "    <source elided>\n",
      "    sum_alphas = 0.\n",
      "\u001b[1m    for c in weak_classifiers:\n",
      "\u001b[0m    \u001b[1m^\u001b[0m\u001b[0m\n",
      "\u001b[0m\n",
      "  self.func_ir.loc))\n",
      "C:\\Users\\redma\\Anaconda3\\lib\\site-packages\\numba\\compiler.py:751: NumbaDeprecationWarning: \u001b[1m\n",
      "Fall-back from the nopython compilation path to the object mode compilation path has been detected, this is deprecated behaviour.\n",
      "\n",
      "For more information visit http://numba.pydata.org/numba-doc/latest/reference/deprecation.html#deprecation-of-object-mode-fall-back-behaviour-when-using-jit\n",
      "\u001b[1m\n",
      "File \"<ipython-input-34-886b5b384fd2>\", line 5:\u001b[0m\n",
      "\u001b[1mdef strong_classifier(x: np.ndarray, weak_classifiers: List[WeakClassifier]) -> int:\n",
      "    <source elided>\n",
      "    sum_alphas = 0.\n",
      "\u001b[1m    for c in weak_classifiers:\n",
      "\u001b[0m    \u001b[1m^\u001b[0m\u001b[0m\n",
      "\u001b[0m\n",
      "  warnings.warn(errors.NumbaDeprecationWarning(msg, self.func_ir.loc))\n"
     ]
    },
    {
     "name": "stdout",
     "output_type": "stream",
     "text": [
      "Precision 0.88, accuracy 0.59, recall 0.22, false positive rate 0.03, false negative rate 0.78.\n"
     ]
    },
    {
     "data": {
      "image/png": "[encoded data removed]",
      "text/plain": [
       "<Figure size 432x288 with 2 Axes>"
      ]
     },
     "metadata": {
      "needs_background": "light"
     },
     "output_type": "display_data"
    }
   ],
   "source": [
    "ys_strong = np.array([strong_classifier(x, weak_classifiers_3) for x in test_xis])\n",
    "c, s = prediction_stats(test_ys, ys_strong)\n",
    "\n",
    "sns.heatmap(c / c.sum(), cmap='YlGnBu', annot=True, square=True, fmt='.1%',\n",
    "            xticklabels=['Predicted negative', 'Predicted positive'], \n",
    "            yticklabels=['Negative', 'Positive'])\n",
    "plt.title(f'Confusion matrix for the strong classifier (stage 2)');\n",
    "\n",
    "print(f'Precision {s.tp/(s.tp+s.fp):.2f}, accuracy {(s.tp+s.tn)/(s.tp+s.tn+s.fp+s.fn):.2f}, recall {s.tp/(s.tp+s.fn):.2f}, false positive rate {s.fp/(s.fp+s.tn):.2f}, false negative rate {s.fn/(s.tp+s.fn):.2f}.')"
   ]
  },
  {
   "cell_type": "code",
   "execution_count": null,
   "metadata": {},
   "outputs": [],
   "source": []
  }
 ],
 "metadata": {
  "kernelspec": {
   "display_name": "Python 3",
   "language": "python",
   "name": "python3"
  },
  "language_info": {
   "codemirror_mode": {
    "name": "ipython",
    "version": 3
   },
   "file_extension": ".py",
   "mimetype": "text/x-python",
   "name": "python",
   "nbconvert_exporter": "python",
   "pygments_lexer": "ipython3",
   "version": "3.7.4"
  }
 },
 "nbformat": 4,
 "nbformat_minor": 2
}
