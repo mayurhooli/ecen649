{
 "cells": [
  {
   "cell_type": "markdown",
   "metadata": {},
   "source": [
    "# Pattern Recognition Project"
   ]
  },
  {
   "cell_type": "code",
   "execution_count": 7,
   "metadata": {},
   "outputs": [],
   "source": [
    "%matplotlib inline\n",
    "\n",
    "import os\n",
    "import tarfile\n",
    "import shutil\n",
    "import hashlib\n",
    "import glob\n",
    "import random\n",
    "import pickle\n",
    "from datetime import datetime\n",
    "from typing import *\n",
    "\n",
    "from numba import jit\n",
    "import requests\n",
    "from joblib import Parallel, delayed\n",
    "from pathlib import Path\n",
    "from PIL import Image, ImageOps\n",
    "import numpy as np\n",
    "from sklearn.metrics import *\n",
    "\n",
    "import matplotlib.pyplot as plt\n",
    "import seaborn as sns\n",
    "\n",
    "sns.set_style(\"whitegrid\")\n",
    "sns.set_palette('muted')"
   ]
  },
  {
   "cell_type": "markdown",
   "metadata": {},
   "source": [
    "## Functions Used"
   ]
  },
  {
   "cell_type": "code",
   "execution_count": 11,
   "metadata": {},
   "outputs": [],
   "source": [
    "#Convert image to array\n",
    "def to_float_array(img: Image.Image) -> np.ndarray:\n",
    "    return np.array(img).astype(np.float32) / 255.\n",
    "\n",
    "\n",
    "#Convert array back to an image\n",
    "def to_image(values: np.ndarray) -> Image.Image:\n",
    "    return Image.fromarray(np.uint8(values * 255.))\n",
    "\n",
    "\n",
    "#Color information may not be required in order to run this code\n",
    "def gamma(values: np.ndarray, coeff: float=2.2) -> np.ndarray:\n",
    "    return values**(1./coeff)\n",
    "\n",
    "def gleam(values: np.ndarray) -> np.ndarray:\n",
    "    return np.sum(gamma(values), axis=2) / values.shape[2]\n",
    "\n",
    "\n",
    "#Convert image to an integral image\n",
    "def to_integral(img: np.ndarray) -> np.ndarray:\n",
    "    integral = np.cumsum(np.cumsum(img, axis=0), axis=1)\n",
    "    return np.pad(integral, (1, 1), 'constant', constant_values=(0, 0))[:-1, :-1]"
   ]
  },
  {
   "cell_type": "code",
   "execution_count": 36,
   "metadata": {},
   "outputs": [],
   "source": [
    "class Box:\n",
    "    def __init__(self, x: int, y: int, width: int, height: int):\n",
    "        self.coords_x = [x, x + width, x,          x + width]\n",
    "        self.coords_y = [y, y,         y + height, y + height]\n",
    "        self.coeffs   = [1, -1,        -1,         1]\n",
    "    \n",
    "    def __call__(self, integral_image: np.ndarray) -> float:\n",
    "        return np.sum(np.multiply(integral_image[self.coords_y, self.coords_x], self.coeffs))"
   ]
  },
  {
   "cell_type": "markdown",
   "metadata": {},
   "source": [
    "## Input Data"
   ]
  },
  {
   "cell_type": "markdown",
   "metadata": {},
   "source": [
    "We give the link to the directory where the training and test sets are stored and from there, we get the faces and non-faces for the training set"
   ]
  },
  {
   "cell_type": "code",
   "execution_count": 8,
   "metadata": {},
   "outputs": [],
   "source": [
    "data_dir=\"C:\\\\Courses\\\\ECEN649\\\\Project\\\\dataset\"\n",
    "train_data_dir=os.path.join(data_dir,\"trainset\")\n",
    "train_faces=os.path.join(train_data_dir,\"faces\")\n",
    "train_non_faces=os.path.join(train_data_dir,\"non-faces\")"
   ]
  },
  {
   "cell_type": "markdown",
   "metadata": {},
   "source": [
    "We find the number of samples for the faces and non-faces in the training data set"
   ]
  },
  {
   "cell_type": "code",
   "execution_count": 9,
   "metadata": {},
   "outputs": [
    {
     "data": {
      "text/plain": [
       "499"
      ]
     },
     "execution_count": 9,
     "metadata": {},
     "output_type": "execute_result"
    }
   ],
   "source": [
    "face_image_files = glob.glob(os.path.join(train_faces, '**', '*.png'), recursive=True)\n",
    "len(face_image_files)"
   ]
  },
  {
   "cell_type": "code",
   "execution_count": 10,
   "metadata": {},
   "outputs": [
    {
     "data": {
      "text/plain": [
       "2000"
      ]
     },
     "execution_count": 10,
     "metadata": {},
     "output_type": "execute_result"
    }
   ],
   "source": [
    "background_image_files=glob.glob(os.path.join(train_non_faces, '**', '*.png'), recursive=True)\n",
    "len(background_image_files)"
   ]
  },
  {
   "cell_type": "markdown",
   "metadata": {},
   "source": [
    "The pictures in the data set are 19×19. While the standard samples in Viola-Jones paper are 24×24, we adjust the window size based on the size of pictures we have"
   ]
  },
  {
   "cell_type": "code",
   "execution_count": 12,
   "metadata": {},
   "outputs": [],
   "source": [
    "WINDOW_SIZE=19"
   ]
  },
  {
   "cell_type": "markdown",
   "metadata": {},
   "source": [
    "We use the antialiasing on the image. This step may not be required as it doesn't add much value to the code, but was performed as a test."
   ]
  },
  {
   "cell_type": "code",
   "execution_count": 14,
   "metadata": {},
   "outputs": [],
   "source": [
    "def open_face(path: str, resize: bool=True) -> Image.Image:\n",
    "    \n",
    "    img = Image.open(path)\n",
    "    img = to_image(gamma(to_float_array(img)[:, :]))\n",
    "    min_size = np.min(img.size)\n",
    "    img = ImageOps.fit(img, (min_size, min_size), Image.ANTIALIAS)\n",
    "    if resize:\n",
    "        img = img.resize((WINDOW_SIZE, WINDOW_SIZE), Image.ANTIALIAS)\n",
    "    return img.convert('L')"
   ]
  },
  {
   "cell_type": "markdown",
   "metadata": {},
   "source": [
    "We stitch the images together just to make a sense of this"
   ]
  },
  {
   "cell_type": "code",
   "execution_count": 15,
   "metadata": {},
   "outputs": [],
   "source": [
    "def merge_images(files: Iterable[str], open_fun: Callable, resize: bool=False) -> Image.Image:\n",
    "    images = [open_fun(f, resize) for f in files]\n",
    "    sizes = [img.size for img in images]\n",
    "    collage_width = np.sum([size[0] for size in sizes])\n",
    "    collage_height = np.max([size[1] for size in sizes])\n",
    "\n",
    "    result = Image.new('L', (collage_width, collage_height))\n",
    "    x_offset = 0\n",
    "    for img, size in zip(images, sizes):\n",
    "        result.paste(im=img, box=(x_offset, 0))\n",
    "        x_offset += size[0]\n",
    "    return result"
   ]
  },
  {
   "cell_type": "code",
   "execution_count": 16,
   "metadata": {},
   "outputs": [
    {
     "data": {
      "image/png": "[encoded data removed]",
      "text/plain": [
       "<PIL.Image.Image image mode=L size=95x19 at 0x1FD688452C8>"
      ]
     },
     "execution_count": 16,
     "metadata": {},
     "output_type": "execute_result"
    }
   ],
   "source": [
    "random.seed(1000)\n",
    "random_face_files = random.sample(face_image_files, 5)\n",
    "merge_images(random_face_files, open_face)"
   ]
  },
  {
   "cell_type": "markdown",
   "metadata": {},
   "source": [
    "We do the same process for the background"
   ]
  },
  {
   "cell_type": "code",
   "execution_count": 28,
   "metadata": {},
   "outputs": [],
   "source": [
    "def random_crop(img: Image.Image) -> Image.Image:\n",
    "    max_allowed_size = np.min(img.size)\n",
    "    size = random.randint(WINDOW_SIZE, max_allowed_size)\n",
    "    max_width = img.size[0] - size - 1\n",
    "    max_height = img.size[1] - size - 1\n",
    "    left = 0 if (max_width <= 1)  else random.randint(0, max_width)\n",
    "    top  = 0 if (max_height <= 1) else random.randint(0, max_height)\n",
    "    return img.crop((left,top,left+size,top+size))\n",
    "\n",
    "def open_background(path: str, resize: bool=True) -> Image.Image:\n",
    "    img = Image.open(path)\n",
    "    #img = to_image(gleam(to_float_array(img)))\n",
    "    img = random_crop(img)\n",
    "    if resize:\n",
    "        img = img.resize((WINDOW_SIZE, WINDOW_SIZE), Image.ANTIALIAS)\n",
    "    return img.convert('L')"
   ]
  },
  {
   "cell_type": "code",
   "execution_count": 29,
   "metadata": {},
   "outputs": [
    {
     "data": {
      "image/png": "[encoded data removed]",
      "text/plain": [
       "<PIL.Image.Image image mode=L size=95x19 at 0x1FD688F2D48>"
      ]
     },
     "execution_count": 29,
     "metadata": {},
     "output_type": "execute_result"
    }
   ],
   "source": [
    "random.seed(1000)\n",
    "random_background_files = random.sample(background_image_files, 5)\n",
    "merge_images(random_background_files, open_background)"
   ]
  },
  {
   "cell_type": "markdown",
   "metadata": {},
   "source": [
    "# Training the Classifier"
   ]
  },
  {
   "cell_type": "markdown",
   "metadata": {},
   "source": [
    "Before we can start the training process, we need to define the features in a way they can actually be evaluated. For this we're going to construct a class for each feature type and then parameterize it according to all possible values, yielding about 160k instances. The best features will be picked later by exhaustive search."
   ]
  },
  {
   "cell_type": "code",
   "execution_count": 30,
   "metadata": {},
   "outputs": [],
   "source": [
    "class Feature:\n",
    "    def __init__(self, x: int, y: int, width: int, height: int):\n",
    "        self.x = x\n",
    "        self.y = y\n",
    "        self.width = width\n",
    "        self.height = height\n",
    "    \n",
    "    def __call__(self, integral_image: np.ndarray) -> float:\n",
    "        try:\n",
    "            return np.sum(np.multiply(integral_image[self.coords_y, self.coords_x], self.coeffs))\n",
    "        except IndexError as e:\n",
    "            raise IndexError(str(e) + ' in ' + str(self))\n",
    "    \n",
    "    def __repr__(self):\n",
    "        return f'{self.__class__.__name__}(x={self.x}, y={self.y}, width={self.width}, height={self.height})'"
   ]
  },
  {
   "cell_type": "markdown",
   "metadata": {},
   "source": [
    "With this base class we can define our features:"
   ]
  },
  {
   "cell_type": "code",
   "execution_count": 31,
   "metadata": {},
   "outputs": [],
   "source": [
    "class Feature2h(Feature):\n",
    "    def __init__(self, x: int, y: int, width: int, height: int):\n",
    "        super().__init__(x, y, width, height)\n",
    "        hw = width // 2\n",
    "        self.coords_x = [x,      x + hw,     x,          x + hw,\n",
    "                         x + hw, x + width,  x + hw,     x + width]\n",
    "        self.coords_y = [y,      y,          y + height, y + height,\n",
    "                         y,      y,          y + height, y + height]\n",
    "        self.coeffs   = [1,     -1,         -1,          1,\n",
    "                         -1,     1,          1,         -1]"
   ]
  },
  {
   "cell_type": "code",
   "execution_count": 32,
   "metadata": {},
   "outputs": [],
   "source": [
    "class Feature2v(Feature):\n",
    "    def __init__(self, x: int, y: int, width: int, height: int):\n",
    "        super().__init__(x, y, width, height)\n",
    "        hh = height // 2        \n",
    "        self.coords_x = [x,      x + width,  x,          x + width,\n",
    "                         x,      x + width,  x,          x + width]\n",
    "        self.coords_y = [y,      y,          y + hh,     y + hh,\n",
    "                         y + hh, y + hh,     y + height, y + height]\n",
    "        self.coeffs   = [-1,     1,          1,         -1,\n",
    "                         1,     -1,         -1,          1]"
   ]
  },
  {
   "cell_type": "code",
   "execution_count": 33,
   "metadata": {},
   "outputs": [],
   "source": [
    "class Feature3h(Feature):\n",
    "    def __init__(self, x: int, y: int, width: int, height: int):\n",
    "        super().__init__(x, y, width, height)\n",
    "        tw = width // 3\n",
    "        self.coords_x = [x,        x + tw,    x,          x + tw,\n",
    "                         x + tw,   x + 2*tw,  x + tw,     x + 2*tw,\n",
    "                         x + 2*tw, x + width, x + 2*tw,   x + width]\n",
    "        self.coords_y = [y,        y,         y + height, y + height,\n",
    "                         y,        y,         y + height, y + height,\n",
    "                         y,        y,         y + height, y + height]\n",
    "        self.coeffs   = [-1,       1,         1,         -1,\n",
    "                          1,      -1,        -1,          1,\n",
    "                         -1,       1,         1,         -1]"
   ]
  },
  {
   "cell_type": "code",
   "execution_count": 34,
   "metadata": {},
   "outputs": [],
   "source": [
    "class Feature3v(Feature):\n",
    "    def __init__(self, x: int, y: int, width: int, height: int):\n",
    "        super().__init__(x, y, width, height)\n",
    "        th = height // 3\n",
    "        self.coords_x = [x,        x + width,  x,          x + width,\n",
    "                         x,        x + width,  x,          x + width,\n",
    "                         x,        x + width,  x,          x + width]\n",
    "        self.coords_y = [y,        y,          y + th,     y + th,\n",
    "                         y + th,   y + th,     y + 2*th,   y + 2*th,\n",
    "                         y + 2*th, y + 2*th,   y + height, y + height]\n",
    "        self.coeffs   = [-1,        1,         1,         -1,\n",
    "                          1,       -1,        -1,          1,\n",
    "                         -1,        1,         1,         -1]"
   ]
  },
  {
   "cell_type": "code",
   "execution_count": 35,
   "metadata": {},
   "outputs": [],
   "source": [
    "class Feature4(Feature):\n",
    "    def __init__(self, x: int, y: int, width: int, height: int):\n",
    "        super().__init__(x, y, width, height)\n",
    "        hw = width // 2\n",
    "        hh = height // 2\n",
    "        self.coords_x = [x,      x + hw,     x,          x + hw,     # upper row\n",
    "                         x + hw, x + width,  x + hw,     x + width,\n",
    "                         x,      x + hw,     x,          x + hw,     # lower row\n",
    "                         x + hw, x + width,  x + hw,     x + width]\n",
    "        self.coords_y = [y,      y,          y + hh,     y + hh,     # upper row\n",
    "                         y,      y,          y + hh,     y + hh,\n",
    "                         y + hh, y + hh,     y + height, y + height, # lower row\n",
    "                         y + hh, y + hh,     y + height, y + height]\n",
    "        self.coeffs   = [1,     -1,         -1,          1,          # upper row\n",
    "                         -1,     1,          1,         -1,\n",
    "                         -1,     1,          1,         -1,          # lower row\n",
    "                          1,    -1,         -1,          1]"
   ]
  },
  {
   "cell_type": "code",
   "execution_count": 37,
   "metadata": {},
   "outputs": [
    {
     "data": {
      "text/plain": [
       "-2"
      ]
     },
     "execution_count": 37,
     "metadata": {},
     "output_type": "execute_result"
    }
   ],
   "source": [
    "Feature4(0, 0, 2, 2)(to_integral(np.array([[0, 1], \n",
    "                                           [1, 0]])))"
   ]
  },
  {
   "cell_type": "markdown",
   "metadata": {},
   "source": [
    "We will now instantiate the feature detectors."
   ]
  },
  {
   "cell_type": "code",
   "execution_count": 38,
   "metadata": {},
   "outputs": [],
   "source": [
    "Size = NamedTuple('Size', [('height', int), ('width', int)])\n",
    "Location = NamedTuple('Location', [('top', int), ('left', int)])\n",
    "\n",
    "def possible_position(size: int, window_size: int = WINDOW_SIZE) -> Iterable[int]:\n",
    "    return range(0, window_size - size + 1)\n",
    "\n",
    "def possible_locations(base_shape: Size, window_size: int = WINDOW_SIZE) -> Iterable[Location]:\n",
    "    return (Location(left=x, top=y)\n",
    "            for x in possible_position(base_shape.width, window_size) \n",
    "            for y in possible_position(base_shape.height, window_size))\n",
    "\n",
    "def possible_shapes(base_shape: Size, window_size: int = WINDOW_SIZE) -> Iterable[Size]:\n",
    "    base_height = base_shape.height\n",
    "    base_width = base_shape.width\n",
    "    return (Size(height=height, width=width)\n",
    "            for width in range(base_width, window_size + 1, base_width)\n",
    "            for height in range(base_height, window_size + 1, base_height))"
   ]
  },
  {
   "cell_type": "markdown",
   "metadata": {},
   "source": [
    "We can instantiate all possible shapes of the feature:"
   ]
  },
  {
   "cell_type": "code",
   "execution_count": 39,
   "metadata": {},
   "outputs": [
    {
     "name": "stdout",
     "output_type": "stream",
     "text": [
      "Number of feature2h features: 17100\n",
      "Number of feature2v features: 17100\n",
      "Number of feature3h features: 10830\n",
      "Number of feature3v features: 10830\n",
      "Number of feature4 features:  8100\n",
      "Total number of features:     63960\n"
     ]
    }
   ],
   "source": [
    "feature2h = list(Feature2h(location.left, location.top, shape.width, shape.height)\n",
    "                 for shape in possible_shapes(Size(height=1, width=2), WINDOW_SIZE)\n",
    "                 for location in possible_locations(shape, WINDOW_SIZE))\n",
    "\n",
    "feature2v = list(Feature2v(location.left, location.top, shape.width, shape.height)\n",
    "                 for shape in possible_shapes(Size(height=2, width=1), WINDOW_SIZE)\n",
    "                 for location in possible_locations(shape, WINDOW_SIZE))\n",
    "\n",
    "feature3h = list(Feature3h(location.left, location.top, shape.width, shape.height)\n",
    "                 for shape in possible_shapes(Size(height=1, width=3), WINDOW_SIZE)\n",
    "                 for location in possible_locations(shape, WINDOW_SIZE))\n",
    "\n",
    "feature3v = list(Feature3v(location.left, location.top, shape.width, shape.height)\n",
    "                 for shape in possible_shapes(Size(height=3, width=1), WINDOW_SIZE)\n",
    "                 for location in possible_locations(shape, WINDOW_SIZE))\n",
    "\n",
    "feature4  = list(Feature4(location.left, location.top, shape.width, shape.height)\n",
    "                 for shape in possible_shapes(Size(height=2, width=2), WINDOW_SIZE)\n",
    "                 for location in possible_locations(shape, WINDOW_SIZE))\n",
    "\n",
    "features = feature2h + feature2v + feature3h + feature3v + feature4\n",
    "\n",
    "print(f'Number of feature2h features: {len(feature2h)}')\n",
    "print(f'Number of feature2v features: {len(feature2v)}')\n",
    "print(f'Number of feature3h features: {len(feature3h)}')\n",
    "print(f'Number of feature3v features: {len(feature3v)}')\n",
    "print(f'Number of feature4 features:  {len(feature4)}')\n",
    "print(f'Total number of features:     {len(features)}')"
   ]
  },
  {
   "cell_type": "markdown",
   "metadata": {},
   "source": [
    "These are the number of features we have obtained. This is our first result."
   ]
  },
  {
   "cell_type": "markdown",
   "metadata": {},
   "source": [
    "## Sampling Data"
   ]
  },
  {
   "cell_type": "markdown",
   "metadata": {},
   "source": [
    "For training, we want to online sample training data. We start by defining a function to sample examples:"
   ]
  },
  {
   "cell_type": "code",
   "execution_count": 40,
   "metadata": {},
   "outputs": [],
   "source": [
    "def sample_data(p: int, n: int) -> Tuple[np.ndarray, np.ndarray]:\n",
    "    xs = []\n",
    "    xs.extend([to_float_array(open_face(f)) for f in random.sample(face_image_files, p)])\n",
    "    xs.extend([to_float_array(open_background(f)) for f in np.random.choice(background_image_files, n, replace=True)])\n",
    "\n",
    "    ys = np.hstack([np.ones((p,)), np.zeros((n,))])\n",
    "    return np.array(xs), ys"
   ]
  },
  {
   "cell_type": "markdown",
   "metadata": {},
   "source": [
    "In order to compensate for lighting differences, we variance normalize the training data. For this we obtain a sample mean and standard deviation from the training set:"
   ]
  },
  {
   "cell_type": "code",
   "execution_count": 41,
   "metadata": {},
   "outputs": [
    {
     "name": "stdout",
     "output_type": "stream",
     "text": [
      "Sample mean: 0.48178231716156006, standard deviation: 0.23022803664207458\n"
     ]
    }
   ],
   "source": [
    "image_samples, _ = sample_data(499, 2000)\n",
    "\n",
    "sample_mean = image_samples.mean()\n",
    "sample_std = image_samples.std()\n",
    "del image_samples\n",
    "\n",
    "print(f'Sample mean: {sample_mean}, standard deviation: {sample_std}')"
   ]
  },
  {
   "cell_type": "code",
   "execution_count": 42,
   "metadata": {},
   "outputs": [],
   "source": [
    "def normalize(im: np.ndarray, mean: float = sample_mean, std: float = sample_std) -> np.ndarray:\n",
    "    return (im - mean) / std\n",
    "\n",
    "def sample_data_normalized(p: int, n: int, mean: float = sample_mean, std: float = sample_std) -> Tuple[np.ndarray, np.ndarray]:\n",
    "    xs, ys = sample_data(p, n)\n",
    "    xs = normalize(xs, mean, std)\n",
    "    return xs, ys"
   ]
  },
  {
   "cell_type": "markdown",
   "metadata": {},
   "source": [
    "Using normalization, we expect to see approximately zero mean and unit variance:"
   ]
  },
  {
   "cell_type": "code",
   "execution_count": 43,
   "metadata": {},
   "outputs": [
    {
     "name": "stdout",
     "output_type": "stream",
     "text": [
      "Example mean: 0.31774526834487915, standard deviation: 0.9429342746734619\n"
     ]
    }
   ],
   "source": [
    "xs, _ = sample_data_normalized(100, 100)\n",
    "\n",
    "print(f'Example mean: {xs.mean()}, standard deviation: {xs.std()}')\n",
    "del xs\n",
    "del _"
   ]
  },
  {
   "cell_type": "markdown",
   "metadata": {},
   "source": [
    "## Adaboost"
   ]
  },
  {
   "cell_type": "code",
   "execution_count": 46,
   "metadata": {},
   "outputs": [],
   "source": [
    "random.seed(18151210)\n",
    "np.random.seed(18151210)\n",
    "xs, ys = sample_data_normalized(499, 2000)"
   ]
  },
  {
   "cell_type": "markdown",
   "metadata": {},
   "source": [
    "Convert image to integral images"
   ]
  },
  {
   "cell_type": "code",
   "execution_count": 47,
   "metadata": {},
   "outputs": [
    {
     "data": {
      "text/plain": [
       "((2499, 19, 19), (2499, 20, 20))"
      ]
     },
     "execution_count": 47,
     "metadata": {},
     "output_type": "execute_result"
    }
   ],
   "source": [
    "xis = np.array([to_integral(x) for x in xs])\n",
    "xs.shape, xis.shape"
   ]
  },
  {
   "cell_type": "code",
   "execution_count": 112,
   "metadata": {},
   "outputs": [
    {
     "name": "stdout",
     "output_type": "stream",
     "text": [
      "<generator object <genexpr> at 0x000001FD6C217EC8>\n"
     ]
    }
   ],
   "source": [
    "print(to_integral(x) for x in xis)"
   ]
  },
  {
   "cell_type": "markdown",
   "metadata": {},
   "source": [
    "In order to get a feeling for our dataset sample, here's what the average face looks like:"
   ]
  },
  {
   "cell_type": "code",
   "execution_count": 48,
   "metadata": {},
   "outputs": [
    {
     "data": {
      "image/png": "[encoded data removed]",
      "text/plain": [
       "<PIL.Image.Image image mode=L size=100x100 at 0x1FD6B3AD788>"
      ]
     },
     "execution_count": 48,
     "metadata": {},
     "output_type": "execute_result"
    }
   ],
   "source": [
    "average_face = np.sum(xs[ys > .5], axis=0) / xs[ys > .5].shape[0]\n",
    "average_face = (average_face - average_face.min()) / (average_face.max() - average_face.min())\n",
    "to_image(average_face).resize((100, 100))"
   ]
  },
  {
   "cell_type": "markdown",
   "metadata": {},
   "source": [
    "Here's the same image antialiased."
   ]
  },
  {
   "cell_type": "code",
   "execution_count": 49,
   "metadata": {},
   "outputs": [
    {
     "data": {
      "image/png": "[encoded data removed]",
      "text/plain": [
       "<PIL.Image.Image image mode=L size=100x100 at 0x1FD6B3ADE08>"
      ]
     },
     "execution_count": 49,
     "metadata": {},
     "output_type": "execute_result"
    }
   ],
   "source": [
    "to_image(average_face).resize((100, 100), Image.ANTIALIAS)"
   ]
  },
  {
   "cell_type": "markdown",
   "metadata": {},
   "source": [
    "Running the same for background, we get the following."
   ]
  },
  {
   "cell_type": "code",
   "execution_count": 50,
   "metadata": {},
   "outputs": [
    {
     "data": {
      "image/png": "[encoded data removed]",
      "text/plain": [
       "<PIL.Image.Image image mode=L size=100x100 at 0x1FD688FB848>"
      ]
     },
     "execution_count": 50,
     "metadata": {},
     "output_type": "execute_result"
    }
   ],
   "source": [
    "average_background = np.sum(xs[ys < .5], axis=0) / xs[ys < .5].shape[0]\n",
    "average_background = (average_background - average_background.min()) / (average_background.max() - average_background.min())\n",
    "to_image(average_background).resize((100, 100), Image.ANTIALIAS)"
   ]
  },
  {
   "cell_type": "markdown",
   "metadata": {},
   "source": [
    "We also define some helper types to use later."
   ]
  },
  {
   "cell_type": "code",
   "execution_count": 51,
   "metadata": {},
   "outputs": [],
   "source": [
    "ThresholdPolarity = NamedTuple('ThresholdPolarity', [('threshold', float), ('polarity', float)])\n",
    "\n",
    "ClassifierResult = NamedTuple('ClassifierResult', [('threshold', float), ('polarity', int), \n",
    "                                                   ('classification_error', float),\n",
    "                                                   ('classifier', Callable[[np.ndarray], float])])\n",
    "\n",
    "WeakClassifier = NamedTuple('WeakClassifier', [('threshold', float), ('polarity', int), \n",
    "                                               ('alpha', float), \n",
    "                                               ('classifier', Callable[[np.ndarray], float])])"
   ]
  },
  {
   "cell_type": "markdown",
   "metadata": {},
   "source": [
    "Adaboost turns weak learners to strong learners. Here, we define the function for weak learners."
   ]
  },
  {
   "cell_type": "code",
   "execution_count": 52,
   "metadata": {},
   "outputs": [],
   "source": [
    "@jit\n",
    "def weak_classifier(x: np.ndarray, f: Feature, polarity: float, theta: float) -> float:\n",
    "    # return 1. if (polarity * f(x)) < (polarity * theta) else 0.\n",
    "    return (np.sign((polarity * theta) - (polarity * f(x))) + 1) // 2\n",
    "\n",
    "@jit\n",
    "def run_weak_classifier(x: np.ndarray, c: WeakClassifier) -> float:\n",
    "    return weak_classifier(x=x, f=c.classifier, polarity=c.polarity, theta=c.threshold)"
   ]
  },
  {
   "cell_type": "code",
   "execution_count": 53,
   "metadata": {},
   "outputs": [],
   "source": [
    "@jit\n",
    "def strong_classifier(x: np.ndarray, weak_classifiers: List[WeakClassifier]) -> int:\n",
    "    sum_hypotheses = 0.\n",
    "    sum_alphas = 0.\n",
    "    for c in weak_classifiers:\n",
    "        sum_hypotheses += c.alpha * run_weak_classifier(x, c)\n",
    "        sum_alphas += c.alpha\n",
    "    return 1 if (sum_hypotheses >= .5*sum_alphas) else 0"
   ]
  },
  {
   "cell_type": "markdown",
   "metadata": {},
   "source": [
    "We regularly need to renomarlize the input weights to obtain a probability distribution:"
   ]
  },
  {
   "cell_type": "code",
   "execution_count": 54,
   "metadata": {},
   "outputs": [],
   "source": [
    "def normalize_weights(w: np.ndarray) -> np.ndarray:\n",
    "    return w / w.sum()"
   ]
  },
  {
   "cell_type": "markdown",
   "metadata": {},
   "source": [
    "We also define the best threshold and polarity."
   ]
  },
  {
   "cell_type": "code",
   "execution_count": 55,
   "metadata": {},
   "outputs": [],
   "source": [
    "@jit\n",
    "def build_running_sums(ys: np.ndarray, ws: np.ndarray) -> Tuple[float, float, List[float], List[float]]:\n",
    "    s_minus, s_plus = 0., 0.\n",
    "    t_minus, t_plus = 0., 0.\n",
    "    s_minuses, s_pluses = [], []\n",
    "    \n",
    "    for y, w in zip(ys, ws):\n",
    "        if y < .5:\n",
    "            s_minus += w\n",
    "            t_minus += w\n",
    "        else:\n",
    "            s_plus += w\n",
    "            t_plus += w\n",
    "        s_minuses.append(s_minus)\n",
    "        s_pluses.append(s_plus)\n",
    "    return t_minus, t_plus, s_minuses, s_pluses\n",
    "\n",
    "\n",
    "@jit\n",
    "def find_best_threshold(zs: np.ndarray, t_minus: float, t_plus: float, s_minuses: List[float], s_pluses: List[float]) -> ThresholdPolarity:\n",
    "    min_e = float('inf')\n",
    "    min_z, polarity = 0, 0\n",
    "    for z, s_m, s_p in zip(zs, s_minuses, s_pluses):\n",
    "        error_1 = s_p + (t_minus - s_m)\n",
    "        error_2 = s_m + (t_plus - s_p)\n",
    "        if error_1 < min_e:\n",
    "            min_e = error_1\n",
    "            min_z = z\n",
    "            polarity = -1\n",
    "        elif error_2 < min_e:\n",
    "            min_e = error_2\n",
    "            min_z = z\n",
    "            polarity = 1\n",
    "    return ThresholdPolarity(threshold=min_z, polarity=polarity)\n",
    "\n",
    "\n",
    "def determine_threshold_polarity(ys: np.ndarray, ws: np.ndarray, zs: np.ndarray) -> ThresholdPolarity:  \n",
    "    # Sort according to score\n",
    "    p = np.argsort(zs)\n",
    "    zs, ys, ws = zs[p], ys[p], ws[p]\n",
    "    \n",
    "    # Determine the best threshold: build running sums\n",
    "    t_minus, t_plus, s_minuses, s_pluses = build_running_sums(ys, ws)\n",
    "    \n",
    "    # Determine the best threshold: select optimal threshold.\n",
    "    return find_best_threshold(zs, t_minus, t_plus, s_minuses, s_pluses)"
   ]
  },
  {
   "cell_type": "markdown",
   "metadata": {},
   "source": [
    "With this, we can determine the weighted error alongside the best threshold and polarity for a feature:"
   ]
  },
  {
   "cell_type": "code",
   "execution_count": 56,
   "metadata": {},
   "outputs": [],
   "source": [
    "def apply_feature(f: Feature, xis: np.ndarray, ys: np.ndarray, ws: np.ndarray, parallel: Optional[Parallel] = None) -> ClassifierResult:   \n",
    "    if parallel is None:\n",
    "        parallel = Parallel(n_jobs=-1, backend='threading')\n",
    "    \n",
    "    # Determine all feature values\n",
    "    zs = np.array(parallel(delayed(f)(x) for x in xis))\n",
    "    \n",
    "    # Determine the best threshold\n",
    "    result = determine_threshold_polarity(ys, ws, zs)\n",
    "            \n",
    "    # Determine the classification error\n",
    "    classification_error = 0.\n",
    "    for x, y, w in zip(xis, ys, ws):\n",
    "        h = weak_classifier(x, f, result.polarity, result.threshold)\n",
    "        classification_error += w * np.abs(h - y)\n",
    "            \n",
    "    return ClassifierResult(threshold=result.threshold, polarity=result.polarity, \n",
    "                            classification_error=classification_error, classifier=f)"
   ]
  },
  {
   "cell_type": "code",
   "execution_count": 57,
   "metadata": {},
   "outputs": [],
   "source": [
    "STATUS_EVERY     = 2000\n",
    "KEEP_PROBABILITY = 1./4.\n",
    "\n",
    "def build_weak_classifiers(prefix: str, num_features: int, xis: np.ndarray, ys: np.ndarray, features: List[Feature], ws: Optional[np.ndarray] = None) -> Tuple[List[WeakClassifier], List[float]]:\n",
    "    if ws is None:\n",
    "        m = len(ys[ys < .5])  # number of negative example\n",
    "        l = len(ys[ys > .5])  # number of positive examples\n",
    "\n",
    "        # Initialize the weights\n",
    "        ws = np.zeros_like(ys)\n",
    "        ws[ys < .5] = 1./(2.*m)\n",
    "        ws[ys > .5] = 1./(2.*l)\n",
    "    \n",
    "    # Keep track of the history of the example weights.\n",
    "    w_history = [ws]\n",
    "\n",
    "    total_start_time = datetime.now()\n",
    "    with Parallel(n_jobs=-1, backend='threading') as parallel:\n",
    "        weak_classifiers = []  # type: List[WeakClassifier]\n",
    "        for t in range(num_features):\n",
    "            print(f'Building weak classifier {t+1}/{num_features} ...')\n",
    "            start_time = datetime.now()\n",
    "            \n",
    "            # Normalize the weights\n",
    "            ws = normalize_weights(ws)\n",
    "            \n",
    "            status_counter = STATUS_EVERY\n",
    "\n",
    "            # Select best weak classifier for this round\n",
    "            best = ClassifierResult(polarity=0, threshold=0, classification_error=float('inf'), classifier=None)\n",
    "            for i, f in enumerate(features):\n",
    "                status_counter -= 1\n",
    "                improved = False\n",
    "\n",
    "                # Python runs singlethreaded. To speed things up,\n",
    "                # we're only anticipating every other feature, give or take.\n",
    "                if KEEP_PROBABILITY < 1.:\n",
    "                    skip_probability = np.random.random()\n",
    "                    if skip_probability > KEEP_PROBABILITY:\n",
    "                        continue\n",
    "\n",
    "                result = apply_feature(f, xis, ys, ws, parallel)\n",
    "                if result.classification_error < best.classification_error:\n",
    "                    improved = True\n",
    "                    best = result\n",
    "\n",
    "                # Print status every couple of iterations.\n",
    "                if improved or status_counter == 0:\n",
    "                    current_time = datetime.now()\n",
    "                    duration = current_time - start_time\n",
    "                    total_duration = current_time - total_start_time\n",
    "                    status_counter = STATUS_EVERY\n",
    "                    if improved:\n",
    "                        print(f't={t+1}/{num_features} {total_duration.total_seconds():.2f}s ({duration.total_seconds():.2f}s in this stage) {i+1}/{len(features)} {100*i/len(features):.2f}% evaluated. Classification error improved to {best.classification_error:.5f} using {str(best.classifier)} ...')\n",
    "                    else:\n",
    "                        print(f't={t+1}/{num_features} {total_duration.total_seconds():.2f}s ({duration.total_seconds():.2f}s in this stage) {i+1}/{len(features)} {100*i/len(features):.2f}% evaluated.')\n",
    "\n",
    "            # After the best classifier was found, determine alpha\n",
    "            beta = best.classification_error / (1 - best.classification_error)\n",
    "            alpha = np.log(1. / beta)\n",
    "            \n",
    "            # Build the weak classifier\n",
    "            classifier = WeakClassifier(threshold=best.threshold, polarity=best.polarity, classifier=best.classifier, alpha=alpha)\n",
    "            \n",
    "            # Update the weights for misclassified examples\n",
    "            for i, (x, y) in enumerate(zip(xis, ys)):\n",
    "                h = run_weak_classifier(x, classifier)\n",
    "                e = np.abs(h - y)\n",
    "                ws[i] = ws[i] * np.power(beta, 1-e)\n",
    "                \n",
    "            # Register this weak classifier           \n",
    "            weak_classifiers.append(classifier)\n",
    "            w_history.append(ws)\n",
    "        \n",
    "            pickle.dump(classifier, open(f'{prefix}-weak-learner-{t+1}-of-{num_features}.pickle', 'wb'))\n",
    "    \n",
    "    print(f'Done building {num_features} weak classifiers.')\n",
    "    return weak_classifiers, w_history"
   ]
  },
  {
   "cell_type": "code",
   "execution_count": 60,
   "metadata": {},
   "outputs": [],
   "source": [
    "random.seed(1337)\n",
    "np.random.seed(1337)\n",
    "test_xs, test_ys = sample_data_normalized(499, 2000)\n",
    "test_xis = np.array([to_integral(x) for x in test_xs])"
   ]
  },
  {
   "cell_type": "code",
   "execution_count": 61,
   "metadata": {},
   "outputs": [
    {
     "name": "stdout",
     "output_type": "stream",
     "text": [
      "Building weak classifier 1/1 ...\n"
     ]
    },
    {
     "name": "stderr",
     "output_type": "stream",
     "text": [
      "<ipython-input-55-51fd85f81679>:19: NumbaWarning: \u001b[1m\n",
      "Compilation is falling back to object mode WITH looplifting enabled because Function \"find_best_threshold\" failed type inference due to: \u001b[1m\u001b[1m\u001b[1mInvalid use of Function(<class 'float'>) with argument(s) of type(s): (Literal[str](inf))\n",
      " * parameterized\n",
      "\u001b[1mIn definition 0:\u001b[0m\n",
      "\u001b[1m    TypeError: float() only support for numbers\u001b[0m\n",
      "    raised from C:\\Users\\redma\\Anaconda3\\lib\\site-packages\\numba\\typing\\builtins.py:880\n",
      "\u001b[1mIn definition 1:\u001b[0m\n",
      "\u001b[1m    TypeError: float() only support for numbers\u001b[0m\n",
      "    raised from C:\\Users\\redma\\Anaconda3\\lib\\site-packages\\numba\\typing\\builtins.py:880\n",
      "\u001b[1mThis error is usually caused by passing an argument of a type that is unsupported by the named function.\u001b[0m\u001b[0m\n",
      "\u001b[0m\u001b[1m[1] During: resolving callee type: Function(<class 'float'>)\u001b[0m\n",
      "\u001b[0m\u001b[1m[2] During: typing of call at <ipython-input-55-51fd85f81679> (21)\n",
      "\u001b[0m\n",
      "\u001b[1m\n",
      "File \"<ipython-input-55-51fd85f81679>\", line 21:\u001b[0m\n",
      "\u001b[1mdef find_best_threshold(zs: np.ndarray, t_minus: float, t_plus: float, s_minuses: List[float], s_pluses: List[float]) -> ThresholdPolarity:\n",
      "\u001b[1m    min_e = float('inf')\n",
      "\u001b[0m    \u001b[1m^\u001b[0m\u001b[0m\n",
      "\u001b[0m\n",
      "  @jit\n",
      "<ipython-input-55-51fd85f81679>:19: NumbaWarning: \u001b[1m\n",
      "Compilation is falling back to object mode WITHOUT looplifting enabled because Function \"find_best_threshold\" failed type inference due to: \u001b[1m\u001b[1mcannot determine Numba type of <class 'numba.dispatcher.LiftedLoop'>\u001b[0m\n",
      "\u001b[1m\n",
      "File \"<ipython-input-55-51fd85f81679>\", line 23:\u001b[0m\n",
      "\u001b[1mdef find_best_threshold(zs: np.ndarray, t_minus: float, t_plus: float, s_minuses: List[float], s_pluses: List[float]) -> ThresholdPolarity:\n",
      "    <source elided>\n",
      "    min_z, polarity = 0, 0\n",
      "\u001b[1m    for z, s_m, s_p in zip(zs, s_minuses, s_pluses):\n",
      "\u001b[0m    \u001b[1m^\u001b[0m\u001b[0m\n",
      "\u001b[0m\u001b[0m\n",
      "  @jit\n",
      "C:\\Users\\redma\\Anaconda3\\lib\\site-packages\\numba\\compiler.py:742: NumbaWarning: \u001b[1mFunction \"find_best_threshold\" was compiled in object mode without forceobj=True, but has lifted loops.\n",
      "\u001b[1m\n",
      "File \"<ipython-input-55-51fd85f81679>\", line 20:\u001b[0m\n",
      "\u001b[1m@jit\n",
      "\u001b[1mdef find_best_threshold(zs: np.ndarray, t_minus: float, t_plus: float, s_minuses: List[float], s_pluses: List[float]) -> ThresholdPolarity:\n",
      "\u001b[0m\u001b[1m^\u001b[0m\u001b[0m\n",
      "\u001b[0m\n",
      "  self.func_ir.loc))\n",
      "C:\\Users\\redma\\Anaconda3\\lib\\site-packages\\numba\\compiler.py:751: NumbaDeprecationWarning: \u001b[1m\n",
      "Fall-back from the nopython compilation path to the object mode compilation path has been detected, this is deprecated behaviour.\n",
      "\n",
      "For more information visit http://numba.pydata.org/numba-doc/latest/reference/deprecation.html#deprecation-of-object-mode-fall-back-behaviour-when-using-jit\n",
      "\u001b[1m\n",
      "File \"<ipython-input-55-51fd85f81679>\", line 20:\u001b[0m\n",
      "\u001b[1m@jit\n",
      "\u001b[1mdef find_best_threshold(zs: np.ndarray, t_minus: float, t_plus: float, s_minuses: List[float], s_pluses: List[float]) -> ThresholdPolarity:\n",
      "\u001b[0m\u001b[1m^\u001b[0m\u001b[0m\n",
      "\u001b[0m\n",
      "  warnings.warn(errors.NumbaDeprecationWarning(msg, self.func_ir.loc))\n",
      "C:\\Users\\redma\\Anaconda3\\lib\\site-packages\\numba\\ir_utils.py:1959: NumbaPendingDeprecationWarning: \u001b[1m\n",
      "Encountered the use of a type that is scheduled for deprecation: type 'reflected list' found for argument 's_minuses' of function 'find_best_threshold'.\n",
      "\n",
      "For more information visit http://numba.pydata.org/numba-doc/latest/reference/deprecation.html#deprecation-of-reflection-for-list-and-set-types\n",
      "\u001b[1m\n",
      "File \"<ipython-input-55-51fd85f81679>\", line 23:\u001b[0m\n",
      "\u001b[1mdef find_best_threshold(zs: np.ndarray, t_minus: float, t_plus: float, s_minuses: List[float], s_pluses: List[float]) -> ThresholdPolarity:\n",
      "    <source elided>\n",
      "    min_z, polarity = 0, 0\n",
      "\u001b[1m    for z, s_m, s_p in zip(zs, s_minuses, s_pluses):\n",
      "\u001b[0m    \u001b[1m^\u001b[0m\u001b[0m\n",
      "\u001b[0m\n",
      "  warnings.warn(NumbaPendingDeprecationWarning(msg, loc=loc))\n",
      "C:\\Users\\redma\\Anaconda3\\lib\\site-packages\\numba\\ir_utils.py:1959: NumbaPendingDeprecationWarning: \u001b[1m\n",
      "Encountered the use of a type that is scheduled for deprecation: type 'reflected list' found for argument 's_pluses' of function 'find_best_threshold'.\n",
      "\n",
      "For more information visit http://numba.pydata.org/numba-doc/latest/reference/deprecation.html#deprecation-of-reflection-for-list-and-set-types\n",
      "\u001b[1m\n",
      "File \"<ipython-input-55-51fd85f81679>\", line 23:\u001b[0m\n",
      "\u001b[1mdef find_best_threshold(zs: np.ndarray, t_minus: float, t_plus: float, s_minuses: List[float], s_pluses: List[float]) -> ThresholdPolarity:\n",
      "    <source elided>\n",
      "    min_z, polarity = 0, 0\n",
      "\u001b[1m    for z, s_m, s_p in zip(zs, s_minuses, s_pluses):\n",
      "\u001b[0m    \u001b[1m^\u001b[0m\u001b[0m\n",
      "\u001b[0m\n",
      "  warnings.warn(NumbaPendingDeprecationWarning(msg, loc=loc))\n",
      "<ipython-input-52-e47a16af2a40>:1: NumbaWarning: \u001b[1m\n",
      "Compilation is falling back to object mode WITH looplifting enabled because Function \"weak_classifier\" failed type inference due to: \u001b[1m\u001b[1mnon-precise type pyobject\u001b[0m\n",
      "\u001b[0m\u001b[1m[1] During: typing of argument at <ipython-input-52-e47a16af2a40> (4)\u001b[0m\n",
      "\u001b[1m\n",
      "File \"<ipython-input-52-e47a16af2a40>\", line 4:\u001b[0m\n",
      "\u001b[1mdef weak_classifier(x: np.ndarray, f: Feature, polarity: float, theta: float) -> float:\n",
      "    <source elided>\n",
      "    # return 1. if (polarity * f(x)) < (polarity * theta) else 0.\n",
      "\u001b[1m    return (np.sign((polarity * theta) - (polarity * f(x))) + 1) // 2\n",
      "\u001b[0m    \u001b[1m^\u001b[0m\u001b[0m\n",
      "\u001b[0m\n",
      "  @jit\n",
      "C:\\Users\\redma\\Anaconda3\\lib\\site-packages\\numba\\compiler.py:742: NumbaWarning: \u001b[1mFunction \"weak_classifier\" was compiled in object mode without forceobj=True.\n",
      "\u001b[1m\n",
      "File \"<ipython-input-52-e47a16af2a40>\", line 2:\u001b[0m\n",
      "\u001b[1m@jit\n",
      "\u001b[1mdef weak_classifier(x: np.ndarray, f: Feature, polarity: float, theta: float) -> float:\n",
      "\u001b[0m\u001b[1m^\u001b[0m\u001b[0m\n",
      "\u001b[0m\n",
      "  self.func_ir.loc))\n",
      "C:\\Users\\redma\\Anaconda3\\lib\\site-packages\\numba\\compiler.py:751: NumbaDeprecationWarning: \u001b[1m\n",
      "Fall-back from the nopython compilation path to the object mode compilation path has been detected, this is deprecated behaviour.\n",
      "\n",
      "For more information visit http://numba.pydata.org/numba-doc/latest/reference/deprecation.html#deprecation-of-object-mode-fall-back-behaviour-when-using-jit\n",
      "\u001b[1m\n",
      "File \"<ipython-input-52-e47a16af2a40>\", line 2:\u001b[0m\n",
      "\u001b[1m@jit\n",
      "\u001b[1mdef weak_classifier(x: np.ndarray, f: Feature, polarity: float, theta: float) -> float:\n",
      "\u001b[0m\u001b[1m^\u001b[0m\u001b[0m\n",
      "\u001b[0m\n",
      "  warnings.warn(errors.NumbaDeprecationWarning(msg, self.func_ir.loc))\n"
     ]
    },
    {
     "name": "stdout",
     "output_type": "stream",
     "text": [
      "t=1/1 2.35s (2.34s in this stage) 1/63960 0.00% evaluated. Classification error improved to 0.34114 using Feature2h(x=0, y=0, width=2, height=1) ...\n",
      "t=1/1 3.27s (3.27s in this stage) 5/63960 0.01% evaluated. Classification error improved to 0.29231 using Feature2h(x=0, y=4, width=2, height=1) ...\n",
      "t=1/1 8.29s (8.29s in this stage) 29/63960 0.04% evaluated. Classification error improved to 0.28469 using Feature2h(x=1, y=9, width=2, height=1) ...\n",
      "t=1/1 22.49s (22.49s in this stage) 106/63960 0.16% evaluated. Classification error improved to 0.25381 using Feature2h(x=5, y=10, width=2, height=1) ...\n",
      "t=1/1 32.97s (32.97s in this stage) 160/63960 0.25% evaluated. Classification error improved to 0.21483 using Feature2h(x=8, y=7, width=2, height=1) ...\n",
      "t=1/1 88.30s (88.30s in this stage) 491/63960 0.77% evaluated. Classification error improved to 0.18683 using Feature2h(x=8, y=4, width=2, height=2) ...\n",
      "t=1/1 152.21s (152.21s in this stage) 806/63960 1.26% evaluated. Classification error improved to 0.17810 using Feature2h(x=8, y=3, width=2, height=3) ...\n",
      "t=1/1 375.07s (375.07s in this stage) 1889/63960 2.95% evaluated. Classification error improved to 0.16608 using Feature2h(x=8, y=2, width=2, height=7) ...\n",
      "t=1/1 375.86s (375.86s in this stage) 1890/63960 2.95% evaluated. Classification error improved to 0.16308 using Feature2h(x=8, y=3, width=2, height=7) ...\n",
      "t=1/1 466.06s (466.06s in this stage) 2323/63960 3.63% evaluated. Classification error improved to 0.15809 using Feature2h(x=8, y=2, width=2, height=9) ...\n",
      "t=1/1 6778.65s (6778.65s in this stage) 34229/63960 53.51% evaluated. Classification error improved to 0.14503 using Feature3h(x=1, y=9, width=3, height=1) ...\n",
      "t=1/1 6795.78s (6795.78s in this stage) 34341/63960 53.69% evaluated. Classification error improved to 0.12327 using Feature3h(x=7, y=7, width=3, height=1) ...\n",
      "t=1/1 6796.55s (6796.54s in this stage) 34342/63960 53.69% evaluated. Classification error improved to 0.11302 using Feature3h(x=7, y=8, width=3, height=1) ...\n",
      "t=1/1 6815.03s (6815.03s in this stage) 34436/63960 53.84% evaluated. Classification error improved to 0.10805 using Feature3h(x=12, y=7, width=3, height=1) ...\n",
      "t=1/1 6820.80s (6820.80s in this stage) 34456/63960 53.87% evaluated. Classification error improved to 0.10578 using Feature3h(x=13, y=8, width=3, height=1) ...\n",
      "t=1/1 6873.68s (6873.68s in this stage) 34801/63960 54.41% evaluated. Classification error improved to 0.09403 using Feature3h(x=15, y=7, width=3, height=2) ...\n",
      "t=1/1 6874.44s (6874.44s in this stage) 34802/63960 54.41% evaluated. Classification error improved to 0.08954 using Feature3h(x=15, y=8, width=3, height=2) ...\n",
      "t=1/1 6936.28s (6936.28s in this stage) 35092/63960 54.86% evaluated. Classification error improved to 0.08729 using Feature3h(x=15, y=7, width=3, height=3) ...\n",
      "t=1/1 7912.09s (7912.08s in this stage) 40740/63960 63.69% evaluated. Classification error improved to 0.08679 using Feature3h(x=3, y=7, width=9, height=4) ...\n",
      "t=1/1 10129.47s (10129.47s in this stage) 53217/63960 83.20% evaluated. Classification error improved to 0.08477 using Feature3v(x=8, y=7, width=10, height=12) ...\n"
     ]
    },
    {
     "name": "stderr",
     "output_type": "stream",
     "text": [
      "<ipython-input-52-e47a16af2a40>:6: NumbaWarning: \u001b[1m\n",
      "Compilation is falling back to object mode WITH looplifting enabled because Function \"run_weak_classifier\" failed type inference due to: \u001b[1m\u001b[1mnon-precise type pyobject\u001b[0m\n",
      "\u001b[0m\u001b[1m[1] During: typing of argument at <ipython-input-52-e47a16af2a40> (8)\u001b[0m\n",
      "\u001b[1m\n",
      "File \"<ipython-input-52-e47a16af2a40>\", line 8:\u001b[0m\n",
      "\u001b[1mdef run_weak_classifier(x: np.ndarray, c: WeakClassifier) -> float:\n",
      "\u001b[1m    return weak_classifier(x=x, f=c.classifier, polarity=c.polarity, theta=c.threshold)\n",
      "\u001b[0m    \u001b[1m^\u001b[0m\u001b[0m\n",
      "\u001b[0m\n",
      "  @jit\n",
      "C:\\Users\\redma\\Anaconda3\\lib\\site-packages\\numba\\compiler.py:742: NumbaWarning: \u001b[1mFunction \"run_weak_classifier\" was compiled in object mode without forceobj=True.\n",
      "\u001b[1m\n",
      "File \"<ipython-input-52-e47a16af2a40>\", line 7:\u001b[0m\n",
      "\u001b[1m@jit\n",
      "\u001b[1mdef run_weak_classifier(x: np.ndarray, c: WeakClassifier) -> float:\n",
      "\u001b[0m\u001b[1m^\u001b[0m\u001b[0m\n",
      "\u001b[0m\n",
      "  self.func_ir.loc))\n",
      "C:\\Users\\redma\\Anaconda3\\lib\\site-packages\\numba\\compiler.py:751: NumbaDeprecationWarning: \u001b[1m\n",
      "Fall-back from the nopython compilation path to the object mode compilation path has been detected, this is deprecated behaviour.\n",
      "\n",
      "For more information visit http://numba.pydata.org/numba-doc/latest/reference/deprecation.html#deprecation-of-object-mode-fall-back-behaviour-when-using-jit\n",
      "\u001b[1m\n",
      "File \"<ipython-input-52-e47a16af2a40>\", line 7:\u001b[0m\n",
      "\u001b[1m@jit\n",
      "\u001b[1mdef run_weak_classifier(x: np.ndarray, c: WeakClassifier) -> float:\n",
      "\u001b[0m\u001b[1m^\u001b[0m\u001b[0m\n",
      "\u001b[0m\n",
      "  warnings.warn(errors.NumbaDeprecationWarning(msg, self.func_ir.loc))\n"
     ]
    },
    {
     "name": "stdout",
     "output_type": "stream",
     "text": [
      "Done building 1 weak classifiers.\n"
     ]
    }
   ],
   "source": [
    "assert xis.shape[1:3] == (WINDOW_SIZE+1, WINDOW_SIZE+1), xis.shape\n",
    "weak_classifiers, w_history = build_weak_classifiers('1st', 1, xis, ys, features)"
   ]
  },
  {
   "cell_type": "code",
   "execution_count": 62,
   "metadata": {},
   "outputs": [
    {
     "data": {
      "text/plain": [
       "[WeakClassifier(threshold=-18.90402913093567, polarity=1, alpha=2.3791815174041497, classifier=Feature3v(x=8, y=7, width=10, height=12))]"
      ]
     },
     "execution_count": 62,
     "metadata": {},
     "output_type": "execute_result"
    }
   ],
   "source": [
    "weak_classifiers"
   ]
  },
  {
   "cell_type": "code",
   "execution_count": 85,
   "metadata": {},
   "outputs": [
    {
     "name": "stdout",
     "output_type": "stream",
     "text": [
      "Building weak classifier 1/3 ...\n",
      "t=1/3 0.07s (0.07s in this stage) 1/63960 0.00% evaluated. Classification error improved to 0.42000 using Feature2h(x=0, y=0, width=2, height=1) ...\n",
      "t=1/3 0.14s (0.14s in this stage) 2/63960 0.00% evaluated. Classification error improved to 0.36500 using Feature2h(x=0, y=1, width=2, height=1) ...\n",
      "t=1/3 0.93s (0.93s in this stage) 55/63960 0.08% evaluated. Classification error improved to 0.35500 using Feature2h(x=2, y=16, width=2, height=1) ...\n",
      "t=1/3 1.75s (1.75s in this stage) 99/63960 0.15% evaluated. Classification error improved to 0.35000 using Feature2h(x=5, y=3, width=2, height=1) ...\n",
      "t=1/3 2.06s (2.06s in this stage) 116/63960 0.18% evaluated. Classification error improved to 0.28500 using Feature2h(x=6, y=1, width=2, height=1) ...\n",
      "t=1/3 3.21s (3.21s in this stage) 193/63960 0.30% evaluated. Classification error improved to 0.22000 using Feature2h(x=10, y=2, width=2, height=1) ...\n",
      "t=1/3 57.12s (57.12s in this stage) 3612/63960 5.65% evaluated. Classification error improved to 0.19500 using Feature2h(x=10, y=1, width=4, height=1) ...\n",
      "t=1/3 72.95s (72.95s in this stage) 4691/63960 7.33% evaluated. Classification error improved to 0.18500 using Feature2h(x=10, y=0, width=4, height=5) ...\n",
      "t=1/3 114.96s (114.96s in this stage) 7362/63960 11.51% evaluated. Classification error improved to 0.18000 using Feature2h(x=9, y=1, width=6, height=4) ...\n",
      "t=1/3 300.97s (300.97s in this stage) 19153/63960 29.94% evaluated. Classification error improved to 0.17500 using Feature2v(x=1, y=2, width=2, height=4) ...\n",
      "t=1/3 301.33s (301.33s in this stage) 19170/63960 29.97% evaluated. Classification error improved to 0.15500 using Feature2v(x=2, y=3, width=2, height=4) ...\n",
      "t=1/3 332.52s (332.52s in this stage) 21170/63960 33.10% evaluated.\n",
      "t=1/3 537.31s (537.31s in this stage) 34208/63960 53.48% evaluated. Classification error improved to 0.12000 using Feature3h(x=0, y=7, width=3, height=1) ...\n",
      "t=1/3 538.54s (538.54s in this stage) 34320/63960 53.66% evaluated. Classification error improved to 0.09500 using Feature3h(x=6, y=5, width=3, height=1) ...\n",
      "t=1/3 547.17s (547.17s in this stage) 34936/63960 54.62% evaluated. Classification error improved to 0.09000 using Feature3h(x=6, y=4, width=3, height=3) ...\n",
      "t=1/3 589.90s (589.90s in this stage) 37757/63960 59.03% evaluated. Classification error improved to 0.08500 using Feature3h(x=3, y=6, width=6, height=2) ...\n",
      "t=1/3 632.01s (632.01s in this stage) 40522/63960 63.35% evaluated. Classification error improved to 0.08000 using Feature3h(x=1, y=7, width=9, height=3) ...\n",
      "Building weak classifier 2/3 ...\n",
      "t=2/3 985.11s (0.05s in this stage) 7/63960 0.01% evaluated. Classification error improved to 0.40897 using Feature2h(x=0, y=6, width=2, height=1) ...\n",
      "t=2/3 985.17s (0.11s in this stage) 10/63960 0.01% evaluated. Classification error improved to 0.39130 using Feature2h(x=0, y=9, width=2, height=1) ...\n",
      "t=2/3 985.22s (0.17s in this stage) 17/63960 0.03% evaluated. Classification error improved to 0.32880 using Feature2h(x=0, y=16, width=2, height=1) ...\n",
      "t=2/3 986.13s (1.07s in this stage) 77/63960 0.12% evaluated. Classification error improved to 0.31793 using Feature2h(x=4, y=0, width=2, height=1) ...\n",
      "t=2/3 986.36s (1.30s in this stage) 92/63960 0.14% evaluated. Classification error improved to 0.27582 using Feature2h(x=4, y=15, width=2, height=1) ...\n",
      "t=2/3 988.06s (3.00s in this stage) 193/63960 0.30% evaluated. Classification error improved to 0.23641 using Feature2h(x=10, y=2, width=2, height=1) ...\n",
      "t=2/3 988.11s (3.05s in this stage) 196/63960 0.30% evaluated. Classification error improved to 0.23234 using Feature2h(x=10, y=5, width=2, height=1) ...\n",
      "t=2/3 991.98s (6.92s in this stage) 434/63960 0.68% evaluated. Classification error improved to 0.22554 using Feature2h(x=5, y=1, width=2, height=2) ...\n",
      "t=2/3 992.25s (7.20s in this stage) 471/63960 0.73% evaluated. Classification error improved to 0.22283 using Feature2h(x=7, y=2, width=2, height=2) ...\n",
      "t=2/3 1003.42s (18.36s in this stage) 1137/63960 1.78% evaluated. Classification error improved to 0.22147 using Feature2h(x=10, y=4, width=2, height=4) ...\n",
      "t=2/3 1022.27s (37.21s in this stage) 2346/63960 3.67% evaluated. Classification error improved to 0.21875 using Feature2h(x=10, y=3, width=2, height=9) ...\n",
      "t=2/3 1028.72s (43.67s in this stage) 2854/63960 4.46% evaluated. Classification error improved to 0.20788 using Feature2h(x=10, y=1, width=2, height=12) ...\n",
      "t=2/3 1050.18s (65.12s in this stage) 4349/63960 6.80% evaluated. Classification error improved to 0.19565 using Feature2h(x=4, y=0, width=4, height=4) ...\n",
      "t=2/3 1256.14s (271.08s in this stage) 17356/63960 27.13% evaluated. Classification error improved to 0.18207 using Feature2v(x=14, y=3, width=1, height=2) ...\n",
      "t=2/3 1383.45s (398.40s in this stage) 24988/63960 39.07% evaluated. Classification error improved to 0.17663 using Feature2v(x=13, y=3, width=6, height=2) ...\n",
      "t=2/3 1423.49s (438.43s in this stage) 27382/63960 42.81% evaluated. Classification error improved to 0.16848 using Feature2v(x=11, y=3, width=8, height=2) ...\n",
      "t=2/3 1453.94s (468.88s in this stage) 29382/63960 45.94% evaluated.\n",
      "t=2/3 1485.39s (500.34s in this stage) 31382/63960 49.06% evaluated.\n",
      "t=2/3 1513.54s (528.49s in this stage) 33382/63960 52.19% evaluated.\n",
      "Building weak classifier 3/3 ...\n",
      "t=3/3 1974.36s (0.07s in this stage) 4/63960 0.00% evaluated. Classification error improved to 0.36369 using Feature2h(x=0, y=3, width=2, height=1) ...\n",
      "t=3/3 1974.43s (0.13s in this stage) 6/63960 0.01% evaluated. Classification error improved to 0.36003 using Feature2h(x=0, y=5, width=2, height=1) ...\n",
      "t=3/3 1974.62s (0.33s in this stage) 26/63960 0.04% evaluated. Classification error improved to 0.35871 using Feature2h(x=1, y=6, width=2, height=1) ...\n",
      "t=3/3 1974.94s (0.65s in this stage) 35/63960 0.05% evaluated. Classification error improved to 0.30397 using Feature2h(x=1, y=15, width=2, height=1) ...\n",
      "t=3/3 1975.14s (0.84s in this stage) 47/63960 0.07% evaluated. Classification error improved to 0.29744 using Feature2h(x=2, y=8, width=2, height=1) ...\n",
      "t=3/3 1975.51s (1.22s in this stage) 78/63960 0.12% evaluated. Classification error improved to 0.29406 using Feature2h(x=4, y=1, width=2, height=1) ...\n",
      "t=3/3 1976.07s (1.77s in this stage) 116/63960 0.18% evaluated. Classification error improved to 0.25609 using Feature2h(x=6, y=1, width=2, height=1) ...\n",
      "t=3/3 1976.39s (2.10s in this stage) 136/63960 0.21% evaluated. Classification error improved to 0.22238 using Feature2h(x=7, y=2, width=2, height=1) ...\n",
      "t=3/3 1977.42s (3.13s in this stage) 196/63960 0.30% evaluated. Classification error improved to 0.20401 using Feature2h(x=10, y=5, width=2, height=1) ...\n",
      "t=3/3 1987.20s (12.90s in this stage) 841/63960 1.31% evaluated. Classification error improved to 0.19584 using Feature2h(x=10, y=4, width=2, height=3) ...\n",
      "t=3/3 1996.05s (21.76s in this stage) 1416/63960 2.21% evaluated. Classification error improved to 0.19268 using Feature2h(x=10, y=5, width=2, height=5) ...\n",
      "t=3/3 1996.12s (21.82s in this stage) 1417/63960 2.21% evaluated. Classification error improved to 0.18635 using Feature2h(x=10, y=6, width=2, height=5) ...\n",
      "t=3/3 2003.61s (29.31s in this stage) 1917/63960 3.00% evaluated. Classification error improved to 0.17971 using Feature2h(x=10, y=4, width=2, height=7) ...\n",
      "t=3/3 2035.81s (61.52s in this stage) 3917/63960 6.12% evaluated.\n",
      "Done building 3 weak classifiers.\n"
     ]
    }
   ],
   "source": [
    "assert xis.shape[1:3] == (WINDOW_SIZE+1, WINDOW_SIZE+1), xis.shape\n",
    "weak_classifiers_2, w_history = build_weak_classifiers('2nd', 3, xis, ys, features)"
   ]
  },
  {
   "cell_type": "code",
   "execution_count": 86,
   "metadata": {},
   "outputs": [
    {
     "data": {
      "text/plain": [
       "[WeakClassifier(threshold=-2.859752744436264, polarity=1, alpha=2.442347035369204, classifier=Feature3h(x=1, y=7, width=9, height=3)),\n",
       " WeakClassifier(threshold=0.7901344299316406, polarity=-1, alpha=1.596450716907289, classifier=Feature2v(x=11, y=3, width=8, height=2)),\n",
       " WeakClassifier(threshold=0.26337987184524536, polarity=-1, alpha=1.518298521246357, classifier=Feature2h(x=10, y=4, width=2, height=7))]"
      ]
     },
     "execution_count": 86,
     "metadata": {},
     "output_type": "execute_result"
    }
   ],
   "source": [
    "weak_classifiers_2"
   ]
  },
  {
   "cell_type": "code",
   "execution_count": 88,
   "metadata": {},
   "outputs": [
    {
     "name": "stdout",
     "output_type": "stream",
     "text": [
      "Building weak classifier 1/5 ...\n",
      "t=1/5 0.08s (0.07s in this stage) 6/63960 0.01% evaluated. Classification error improved to 0.45500 using Feature2h(x=0, y=5, width=2, height=1) ...\n",
      "t=1/5 0.14s (0.14s in this stage) 10/63960 0.01% evaluated. Classification error improved to 0.37500 using Feature2h(x=0, y=9, width=2, height=1) ...\n",
      "t=1/5 0.27s (0.26s in this stage) 21/63960 0.03% evaluated. Classification error improved to 0.36500 using Feature2h(x=1, y=1, width=2, height=1) ...\n",
      "t=1/5 0.33s (0.33s in this stage) 22/63960 0.03% evaluated. Classification error improved to 0.36000 using Feature2h(x=1, y=2, width=2, height=1) ...\n",
      "t=1/5 1.01s (1.01s in this stage) 66/63960 0.10% evaluated. Classification error improved to 0.35000 using Feature2h(x=3, y=8, width=2, height=1) ...\n",
      "t=1/5 1.52s (1.52s in this stage) 79/63960 0.12% evaluated. Classification error improved to 0.33000 using Feature2h(x=4, y=2, width=2, height=1) ...\n",
      "t=1/5 2.21s (2.21s in this stage) 115/63960 0.18% evaluated. Classification error improved to 0.31000 using Feature2h(x=6, y=0, width=2, height=1) ...\n",
      "t=1/5 2.27s (2.27s in this stage) 118/63960 0.18% evaluated. Classification error improved to 0.28500 using Feature2h(x=6, y=3, width=2, height=1) ...\n",
      "t=1/5 2.51s (2.51s in this stage) 135/63960 0.21% evaluated. Classification error improved to 0.28000 using Feature2h(x=7, y=1, width=2, height=1) ...\n",
      "t=1/5 3.89s (3.89s in this stage) 210/63960 0.33% evaluated. Classification error improved to 0.23500 using Feature2h(x=11, y=0, width=2, height=1) ...\n",
      "t=1/5 3.95s (3.95s in this stage) 211/63960 0.33% evaluated. Classification error improved to 0.22000 using Feature2h(x=11, y=1, width=2, height=1) ...\n",
      "t=1/5 13.26s (13.26s in this stage) 838/63960 1.31% evaluated. Classification error improved to 0.21000 using Feature2h(x=10, y=1, width=2, height=3) ...\n",
      "t=1/5 69.25s (69.25s in this stage) 4445/63960 6.95% evaluated. Classification error improved to 0.20500 using Feature2h(x=10, y=0, width=4, height=4) ...\n",
      "t=1/5 76.44s (76.44s in this stage) 4908/63960 7.67% evaluated. Classification error improved to 0.19500 using Feature2h(x=9, y=1, width=4, height=6) ...\n",
      "t=1/5 107.12s (107.12s in this stage) 6890/63960 10.77% evaluated. Classification error improved to 0.19000 using Feature2h(x=9, y=1, width=6, height=2) ...\n",
      "t=1/5 142.51s (142.51s in this stage) 9275/63960 14.50% evaluated. Classification error improved to 0.17000 using Feature2h(x=8, y=2, width=8, height=1) ...\n",
      "t=1/5 274.88s (274.88s in this stage) 17478/63960 27.32% evaluated. Classification error improved to 0.16500 using Feature2v(x=2, y=3, width=1, height=4) ...\n",
      "t=1/5 368.41s (368.41s in this stage) 23674/63960 37.01% evaluated. Classification error improved to 0.16000 using Feature2v(x=0, y=3, width=5, height=4) ...\n",
      "t=1/5 533.21s (533.21s in this stage) 34206/63960 53.48% evaluated. Classification error improved to 0.14000 using Feature3h(x=0, y=5, width=3, height=1) ...\n",
      "t=1/5 534.09s (534.09s in this stage) 34248/63960 53.54% evaluated. Classification error improved to 0.13000 using Feature3h(x=2, y=9, width=3, height=1) ...\n",
      "t=1/5 534.63s (534.63s in this stage) 34264/63960 53.57% evaluated. Classification error improved to 0.12500 using Feature3h(x=3, y=6, width=3, height=1) ...\n",
      "t=1/5 534.99s (534.99s in this stage) 34281/63960 53.60% evaluated. Classification error improved to 0.12000 using Feature3h(x=4, y=4, width=3, height=1) ...\n",
      "t=1/5 535.06s (535.06s in this stage) 34284/63960 53.60% evaluated. Classification error improved to 0.11000 using Feature3h(x=4, y=7, width=3, height=1) ...\n",
      "t=1/5 535.68s (535.68s in this stage) 34340/63960 53.69% evaluated. Classification error improved to 0.10000 using Feature3h(x=7, y=6, width=3, height=1) ...\n",
      "t=1/5 535.75s (535.74s in this stage) 34341/63960 53.69% evaluated. Classification error improved to 0.09500 using Feature3h(x=7, y=7, width=3, height=1) ...\n",
      "t=1/5 562.56s (562.56s in this stage) 36191/63960 56.58% evaluated. Classification error improved to 0.09000 using Feature3h(x=7, y=2, width=3, height=8) ...\n",
      "t=1/5 589.21s (589.20s in this stage) 38006/63960 59.42% evaluated. Classification error improved to 0.08500 using Feature3h(x=3, y=6, width=6, height=3) ...\n",
      "t=1/5 626.09s (626.09s in this stage) 40522/63960 63.35% evaluated. Classification error improved to 0.08000 using Feature3h(x=1, y=7, width=9, height=3) ...\n",
      "t=1/5 655.70s (655.70s in this stage) 42522/63960 66.48% evaluated.\n",
      "t=1/5 686.74s (686.74s in this stage) 44522/63960 69.61% evaluated.\n",
      "Building weak classifier 2/5 ...\n",
      "t=2/5 982.88s (0.06s in this stage) 5/63960 0.01% evaluated. Classification error improved to 0.37500 using Feature2h(x=0, y=4, width=2, height=1) ...\n",
      "t=2/5 983.07s (0.25s in this stage) 29/63960 0.04% evaluated. Classification error improved to 0.36549 using Feature2h(x=1, y=9, width=2, height=1) ...\n",
      "t=2/5 983.25s (0.44s in this stage) 38/63960 0.06% evaluated. Classification error improved to 0.33152 using Feature2h(x=1, y=18, width=2, height=1) ...\n",
      "t=2/5 983.31s (0.49s in this stage) 41/63960 0.06% evaluated. Classification error improved to 0.28940 using Feature2h(x=2, y=2, width=2, height=1) ...\n",
      "t=2/5 984.31s (1.49s in this stage) 92/63960 0.14% evaluated. Classification error improved to 0.27582 using Feature2h(x=4, y=15, width=2, height=1) ...\n",
      "t=2/5 984.93s (2.12s in this stage) 136/63960 0.21% evaluated. Classification error improved to 0.22011 using Feature2h(x=7, y=2, width=2, height=1) ...\n",
      "t=2/5 1008.56s (25.75s in this stage) 1675/63960 2.62% evaluated. Classification error improved to 0.21875 using Feature2h(x=10, y=4, width=2, height=6) ...\n",
      "t=2/5 1026.68s (43.86s in this stage) 2854/63960 4.46% evaluated. Classification error improved to 0.20788 using Feature2h(x=10, y=1, width=2, height=12) ...\n",
      "t=2/5 1055.21s (72.40s in this stage) 4601/63960 7.19% evaluated. Classification error improved to 0.19565 using Feature2h(x=4, y=0, width=4, height=5) ...\n",
      "t=2/5 1312.50s (329.69s in this stage) 21127/63960 33.03% evaluated. Classification error improved to 0.18614 using Feature2v(x=8, y=6, width=3, height=6) ...\n",
      "t=2/5 1316.32s (333.50s in this stage) 21348/63960 33.38% evaluated. Classification error improved to 0.18207 using Feature2v(x=8, y=5, width=3, height=8) ...\n",
      "t=2/5 1330.01s (347.20s in this stage) 22198/63960 34.70% evaluated. Classification error improved to 0.17391 using Feature2v(x=13, y=3, width=4, height=2) ...\n",
      "t=2/5 1352.95s (370.13s in this stage) 23620/63960 36.93% evaluated. Classification error improved to 0.16033 using Feature2v(x=12, y=3, width=5, height=2) ...\n",
      "t=2/5 1502.09s (519.28s in this stage) 33083/63960 51.72% evaluated. Classification error improved to 0.15897 using Feature2v(x=4, y=6, width=15, height=6) ...\n",
      "Building weak classifier 3/5 ...\n",
      "t=3/5 1966.44s (0.06s in this stage) 3/63960 0.00% evaluated. Classification error improved to 0.33694 using Feature2h(x=0, y=2, width=2, height=1) ...\n",
      "t=3/5 1966.81s (0.43s in this stage) 19/63960 0.03% evaluated. Classification error improved to 0.31284 using Feature2h(x=0, y=18, width=2, height=1) ...\n",
      "t=3/5 1968.32s (1.94s in this stage) 112/63960 0.17% evaluated. Classification error improved to 0.30914 using Feature2h(x=5, y=16, width=2, height=1) ...\n",
      "t=3/5 1969.31s (2.93s in this stage) 176/63960 0.27% evaluated. Classification error improved to 0.25940 using Feature2h(x=9, y=4, width=2, height=1) ...\n",
      "t=3/5 1969.56s (3.18s in this stage) 195/63960 0.30% evaluated. Classification error improved to 0.24890 using Feature2h(x=10, y=4, width=2, height=1) ...\n",
      "t=3/5 1969.63s (3.25s in this stage) 197/63960 0.31% evaluated. Classification error improved to 0.21552 using Feature2h(x=10, y=6, width=2, height=1) ...\n",
      "t=3/5 1971.98s (5.60s in this stage) 340/63960 0.53% evaluated. Classification error improved to 0.21249 using Feature2h(x=17, y=16, width=2, height=1) ...\n",
      "t=3/5 1985.28s (18.90s in this stage) 1140/63960 1.78% evaluated. Classification error improved to 0.20583 using Feature2h(x=10, y=7, width=2, height=4) ...\n",
      "t=3/5 1990.04s (23.66s in this stage) 1416/63960 2.21% evaluated. Classification error improved to 0.19566 using Feature2h(x=10, y=5, width=2, height=5) ...\n",
      "t=3/5 1998.21s (31.83s in this stage) 1917/63960 3.00% evaluated. Classification error improved to 0.18227 using Feature2h(x=10, y=4, width=2, height=7) ...\n"
     ]
    },
    {
     "name": "stdout",
     "output_type": "stream",
     "text": [
      "t=3/5 2002.13s (35.75s in this stage) 2140/63960 3.34% evaluated. Classification error improved to 0.17904 using Feature2h(x=10, y=3, width=2, height=8) ...\n",
      "Building weak classifier 4/5 ...\n",
      "t=4/5 2952.94s (0.06s in this stage) 1/63960 0.00% evaluated. Classification error improved to 0.42023 using Feature2h(x=0, y=0, width=2, height=1) ...\n",
      "t=4/5 2953.13s (0.25s in this stage) 20/63960 0.03% evaluated. Classification error improved to 0.40883 using Feature2h(x=1, y=0, width=2, height=1) ...\n",
      "t=4/5 2953.26s (0.38s in this stage) 31/63960 0.05% evaluated. Classification error improved to 0.40418 using Feature2h(x=1, y=11, width=2, height=1) ...\n",
      "t=4/5 2953.45s (0.57s in this stage) 47/63960 0.07% evaluated. Classification error improved to 0.35816 using Feature2h(x=2, y=8, width=2, height=1) ...\n",
      "t=4/5 2954.14s (1.26s in this stage) 90/63960 0.14% evaluated. Classification error improved to 0.34451 using Feature2h(x=4, y=13, width=2, height=1) ...\n",
      "t=4/5 2954.20s (1.32s in this stage) 91/63960 0.14% evaluated. Classification error improved to 0.32478 using Feature2h(x=4, y=14, width=2, height=1) ...\n",
      "t=4/5 2954.26s (1.38s in this stage) 92/63960 0.14% evaluated. Classification error improved to 0.26208 using Feature2h(x=4, y=15, width=2, height=1) ...\n",
      "t=4/5 2962.97s (10.09s in this stage) 661/63960 1.03% evaluated. Classification error improved to 0.24404 using Feature2h(x=17, y=12, width=2, height=2) ...\n",
      "t=4/5 2972.23s (19.35s in this stage) 1257/63960 1.96% evaluated. Classification error improved to 0.22724 using Feature2h(x=17, y=12, width=2, height=4) ...\n",
      "t=4/5 2976.57s (23.69s in this stage) 1527/63960 2.39% evaluated. Classification error improved to 0.22625 using Feature2h(x=17, y=11, width=2, height=5) ...\n",
      "t=4/5 3225.91s (273.03s in this stage) 17320/63960 27.08% evaluated. Classification error improved to 0.19505 using Feature2v(x=12, y=3, width=1, height=2) ...\n",
      "t=4/5 3257.40s (304.52s in this stage) 19320/63960 30.20% evaluated.\n",
      "t=4/5 3257.97s (305.09s in this stage) 19361/63960 30.27% evaluated. Classification error improved to 0.17559 using Feature2v(x=14, y=2, width=2, height=4) ...\n",
      "t=4/5 3289.35s (336.47s in this stage) 21361/63960 33.40% evaluated.\n",
      "Building weak classifier 5/5 ...\n",
      "t=5/5 3935.99s (0.07s in this stage) 9/63960 0.01% evaluated. Classification error improved to 0.40983 using Feature2h(x=0, y=8, width=2, height=1) ...\n",
      "t=5/5 3936.05s (0.13s in this stage) 13/63960 0.02% evaluated. Classification error improved to 0.40496 using Feature2h(x=0, y=12, width=2, height=1) ...\n",
      "t=5/5 3936.11s (0.19s in this stage) 14/63960 0.02% evaluated. Classification error improved to 0.37478 using Feature2h(x=0, y=13, width=2, height=1) ...\n",
      "t=5/5 3936.31s (0.38s in this stage) 22/63960 0.03% evaluated. Classification error improved to 0.34809 using Feature2h(x=1, y=2, width=2, height=1) ...\n",
      "t=5/5 3937.68s (1.75s in this stage) 97/63960 0.15% evaluated. Classification error improved to 0.34015 using Feature2h(x=5, y=1, width=2, height=1) ...\n",
      "t=5/5 3937.87s (1.94s in this stage) 113/63960 0.18% evaluated. Classification error improved to 0.33077 using Feature2h(x=5, y=17, width=2, height=1) ...\n",
      "t=5/5 3938.24s (2.32s in this stage) 142/63960 0.22% evaluated. Classification error improved to 0.29782 using Feature2h(x=7, y=8, width=2, height=1) ...\n",
      "t=5/5 3940.60s (4.68s in this stage) 318/63960 0.50% evaluated. Classification error improved to 0.28701 using Feature2h(x=16, y=13, width=2, height=1) ...\n",
      "t=5/5 3940.73s (4.80s in this stage) 333/63960 0.52% evaluated. Classification error improved to 0.26519 using Feature2h(x=17, y=9, width=2, height=1) ...\n",
      "t=5/5 3940.79s (4.87s in this stage) 335/63960 0.52% evaluated. Classification error improved to 0.26050 using Feature2h(x=17, y=11, width=2, height=1) ...\n",
      "t=5/5 3940.85s (4.93s in this stage) 338/63960 0.53% evaluated. Classification error improved to 0.25555 using Feature2h(x=17, y=14, width=2, height=1) ...\n",
      "t=5/5 3940.91s (4.99s in this stage) 340/63960 0.53% evaluated. Classification error improved to 0.22960 using Feature2h(x=17, y=16, width=2, height=1) ...\n",
      "t=5/5 3950.88s (14.96s in this stage) 971/63960 1.52% evaluated. Classification error improved to 0.22550 using Feature2h(x=17, y=15, width=2, height=3) ...\n",
      "t=5/5 3955.48s (19.55s in this stage) 1257/63960 1.96% evaluated. Classification error improved to 0.21762 using Feature2h(x=17, y=12, width=2, height=4) ...\n",
      "t=5/5 3960.10s (24.18s in this stage) 1529/63960 2.39% evaluated. Classification error improved to 0.21734 using Feature2h(x=17, y=13, width=2, height=5) ...\n",
      "t=5/5 3963.32s (27.40s in this stage) 1780/63960 2.78% evaluated. Classification error improved to 0.20301 using Feature2h(x=17, y=11, width=2, height=6) ...\n",
      "t=5/5 3974.22s (38.29s in this stage) 2429/63960 3.80% evaluated. Classification error improved to 0.19559 using Feature2h(x=17, y=9, width=2, height=9) ...\n",
      "t=5/5 4465.66s (529.73s in this stage) 34358/63960 53.72% evaluated. Classification error improved to 0.18589 using Feature3h(x=8, y=5, width=3, height=1) ...\n",
      "t=5/5 4482.46s (546.54s in this stage) 35513/63960 55.52% evaluated. Classification error improved to 0.18494 using Feature3h(x=8, y=2, width=3, height=5) ...\n",
      "t=5/5 4521.95s (586.03s in this stage) 38348/63960 59.95% evaluated. Classification error improved to 0.17744 using Feature3h(x=10, y=1, width=6, height=4) ...\n",
      "t=5/5 4528.24s (592.32s in this stage) 38747/63960 60.58% evaluated. Classification error improved to 0.15231 using Feature3h(x=9, y=0, width=6, height=6) ...\n",
      "t=5/5 4537.12s (601.20s in this stage) 39266/63960 61.39% evaluated. Classification error improved to 0.14831 using Feature3h(x=9, y=0, width=6, height=9) ...\n",
      "t=5/5 4564.91s (628.98s in this stage) 41139/63960 64.32% evaluated. Classification error improved to 0.14676 using Feature3h(x=8, y=1, width=9, height=6) ...\n",
      "t=5/5 4569.27s (633.35s in this stage) 41419/63960 64.76% evaluated. Classification error improved to 0.12640 using Feature3h(x=8, y=0, width=9, height=8) ...\n",
      "t=5/5 4575.04s (639.12s in this stage) 41759/63960 65.29% evaluated. Classification error improved to 0.12616 using Feature3h(x=8, y=1, width=9, height=11) ...\n",
      "t=5/5 4606.35s (670.42s in this stage) 43759/63960 68.41% evaluated.\n",
      "Done building 5 weak classifiers.\n"
     ]
    }
   ],
   "source": [
    "assert xis.shape[1:3] == (WINDOW_SIZE+1, WINDOW_SIZE+1), xis.shape\n",
    "weak_classifiers_3, w_history = build_weak_classifiers('3rd', 5, xis, ys, features)"
   ]
  },
  {
   "cell_type": "code",
   "execution_count": 90,
   "metadata": {},
   "outputs": [
    {
     "data": {
      "text/plain": [
       "[WeakClassifier(threshold=-2.859752744436264, polarity=1, alpha=2.442347035369204, classifier=Feature3h(x=1, y=7, width=9, height=3)),\n",
       " WeakClassifier(threshold=-1.3497886657714844, polarity=1, alpha=1.6659313378868392, classifier=Feature2v(x=4, y=6, width=15, height=6)),\n",
       " WeakClassifier(threshold=0.46091461181640625, polarity=-1, alpha=1.52287584433296, classifier=Feature2h(x=10, y=3, width=2, height=8)),\n",
       " WeakClassifier(threshold=0.3621387481689453, polarity=-1, alpha=1.5465227151146004, classifier=Feature2v(x=14, y=2, width=2, height=4)),\n",
       " WeakClassifier(threshold=-18.68893814086914, polarity=1, alpha=1.935385001547429, classifier=Feature3h(x=8, y=1, width=9, height=11))]"
      ]
     },
     "execution_count": 90,
     "metadata": {},
     "output_type": "execute_result"
    }
   ],
   "source": [
    "weak_classifiers_3"
   ]
  },
  {
   "cell_type": "code",
   "execution_count": 92,
   "metadata": {},
   "outputs": [
    {
     "name": "stdout",
     "output_type": "stream",
     "text": [
      "Building weak classifier 1/10 ...\n",
      "t=1/10 0.08s (0.08s in this stage) 6/63960 0.01% evaluated. Classification error improved to 0.45500 using Feature2h(x=0, y=5, width=2, height=1) ...\n",
      "t=1/10 0.14s (0.14s in this stage) 7/63960 0.01% evaluated. Classification error improved to 0.40000 using Feature2h(x=0, y=6, width=2, height=1) ...\n",
      "t=1/10 0.28s (0.28s in this stage) 20/63960 0.03% evaluated. Classification error improved to 0.39500 using Feature2h(x=1, y=0, width=2, height=1) ...\n",
      "t=1/10 0.58s (0.58s in this stage) 40/63960 0.06% evaluated. Classification error improved to 0.38500 using Feature2h(x=2, y=1, width=2, height=1) ...\n",
      "t=1/10 0.88s (0.88s in this stage) 52/63960 0.08% evaluated. Classification error improved to 0.38000 using Feature2h(x=2, y=13, width=2, height=1) ...\n",
      "t=1/10 1.20s (1.20s in this stage) 84/63960 0.13% evaluated. Classification error improved to 0.37000 using Feature2h(x=4, y=7, width=2, height=1) ...\n",
      "t=1/10 1.26s (1.26s in this stage) 86/63960 0.13% evaluated. Classification error improved to 0.36000 using Feature2h(x=4, y=9, width=2, height=1) ...\n",
      "t=1/10 1.50s (1.50s in this stage) 98/63960 0.15% evaluated. Classification error improved to 0.31000 using Feature2h(x=5, y=2, width=2, height=1) ...\n",
      "t=1/10 1.72s (1.72s in this stage) 116/63960 0.18% evaluated. Classification error improved to 0.28500 using Feature2h(x=6, y=1, width=2, height=1) ...\n",
      "t=1/10 3.01s (3.01s in this stage) 196/63960 0.30% evaluated. Classification error improved to 0.27000 using Feature2h(x=10, y=5, width=2, height=1) ...\n",
      "t=1/10 8.43s (8.43s in this stage) 523/63960 0.82% evaluated. Classification error improved to 0.24500 using Feature2h(x=10, y=0, width=2, height=2) ...\n",
      "t=1/10 8.49s (8.49s in this stage) 525/63960 0.82% evaluated. Classification error improved to 0.22000 using Feature2h(x=10, y=2, width=2, height=2) ...\n",
      "t=1/10 36.23s (36.23s in this stage) 2137/63960 3.34% evaluated. Classification error improved to 0.21500 using Feature2h(x=10, y=0, width=2, height=8) ...\n",
      "t=1/10 63.64s (63.64s in this stage) 3889/63960 6.08% evaluated. Classification error improved to 0.19500 using Feature2h(x=9, y=2, width=4, height=2) ...\n",
      "t=1/10 71.57s (71.57s in this stage) 4430/63960 6.92% evaluated. Classification error improved to 0.18500 using Feature2h(x=9, y=1, width=4, height=4) ...\n",
      "t=1/10 278.27s (278.27s in this stage) 17478/63960 27.32% evaluated. Classification error improved to 0.16500 using Feature2v(x=2, y=3, width=1, height=4) ...\n",
      "t=1/10 355.50s (355.50s in this stage) 22284/63960 34.84% evaluated. Classification error improved to 0.16000 using Feature2v(x=2, y=3, width=4, height=4) ...\n",
      "t=1/10 391.55s (391.55s in this stage) 24284/63960 37.97% evaluated.\n",
      "t=1/10 553.67s (553.66s in this stage) 34206/63960 53.48% evaluated. Classification error improved to 0.14000 using Feature3h(x=0, y=5, width=3, height=1) ...\n",
      "t=1/10 553.73s (553.73s in this stage) 34209/63960 53.48% evaluated. Classification error improved to 0.12000 using Feature3h(x=0, y=8, width=3, height=1) ...\n",
      "t=1/10 555.59s (555.58s in this stage) 34301/63960 53.63% evaluated. Classification error improved to 0.10500 using Feature3h(x=5, y=5, width=3, height=1) ...\n",
      "t=1/10 555.65s (555.65s in this stage) 34303/63960 53.63% evaluated. Classification error improved to 0.09500 using Feature3h(x=5, y=7, width=3, height=1) ...\n",
      "t=1/10 578.85s (578.85s in this stage) 35746/63960 55.89% evaluated. Classification error improved to 0.09000 using Feature3h(x=7, y=2, width=3, height=6) ...\n",
      "t=1/10 605.89s (605.89s in this stage) 37495/63960 58.62% evaluated. Classification error improved to 0.08500 using Feature3h(x=3, y=7, width=6, height=1) ...\n",
      "t=1/10 646.57s (646.56s in this stage) 40118/63960 62.72% evaluated. Classification error improved to 0.08000 using Feature3h(x=1, y=8, width=9, height=1) ...\n",
      "Building weak classifier 2/10 ...\n",
      "t=2/10 1013.68s (0.07s in this stage) 3/63960 0.00% evaluated. Classification error improved to 0.38859 using Feature2h(x=0, y=2, width=2, height=1) ...\n",
      "t=2/10 1013.81s (0.20s in this stage) 15/63960 0.02% evaluated. Classification error improved to 0.34918 using Feature2h(x=0, y=14, width=2, height=1) ...\n",
      "t=2/10 1014.27s (0.65s in this stage) 47/63960 0.07% evaluated. Classification error improved to 0.33424 using Feature2h(x=2, y=8, width=2, height=1) ...\n",
      "t=2/10 1014.33s (0.71s in this stage) 48/63960 0.07% evaluated. Classification error improved to 0.31658 using Feature2h(x=2, y=9, width=2, height=1) ...\n",
      "t=2/10 1015.24s (1.62s in this stage) 96/63960 0.15% evaluated. Classification error improved to 0.24457 using Feature2h(x=5, y=0, width=2, height=1) ...\n",
      "t=2/10 1016.59s (2.97s in this stage) 197/63960 0.31% evaluated. Classification error improved to 0.24049 using Feature2h(x=10, y=6, width=2, height=1) ...\n",
      "t=2/10 1021.85s (8.24s in this stage) 528/63960 0.82% evaluated. Classification error improved to 0.23505 using Feature2h(x=10, y=5, width=2, height=2) ...\n",
      "t=2/10 1029.83s (16.21s in this stage) 1086/63960 1.70% evaluated. Classification error improved to 0.23370 using Feature2h(x=7, y=1, width=2, height=4) ...\n",
      "t=2/10 1030.41s (16.80s in this stage) 1137/63960 1.78% evaluated. Classification error improved to 0.22147 using Feature2h(x=10, y=4, width=2, height=4) ...\n",
      "t=2/10 1039.24s (25.63s in this stage) 1673/63960 2.61% evaluated. Classification error improved to 0.21060 using Feature2h(x=10, y=2, width=2, height=6) ...\n",
      "t=2/10 1046.33s (32.71s in this stage) 2139/63960 3.34% evaluated. Classification error improved to 0.19973 using Feature2h(x=10, y=2, width=2, height=8) ...\n",
      "t=2/10 1084.79s (71.18s in this stage) 4601/63960 7.19% evaluated. Classification error improved to 0.19565 using Feature2h(x=4, y=0, width=4, height=5) ...\n",
      "t=2/10 1341.72s (328.10s in this stage) 20704/63960 32.37% evaluated. Classification error improved to 0.16304 using Feature2v(x=15, y=3, width=3, height=2) ...\n",
      "t=2/10 1536.51s (522.89s in this stage) 33083/63960 51.72% evaluated. Classification error improved to 0.15897 using Feature2v(x=4, y=6, width=15, height=6) ...\n",
      "t=2/10 1543.21s (529.59s in this stage) 33485/63960 52.35% evaluated. Classification error improved to 0.15625 using Feature2v(x=3, y=6, width=16, height=6) ...\n",
      "t=2/10 1572.54s (558.92s in this stage) 35485/63960 55.48% evaluated.\n",
      "Building weak classifier 3/10 ...\n",
      "t=3/10 1987.13s (0.07s in this stage) 6/63960 0.01% evaluated. Classification error improved to 0.35411 using Feature2h(x=0, y=5, width=2, height=1) ...\n",
      "t=3/10 1987.26s (0.19s in this stage) 26/63960 0.04% evaluated. Classification error improved to 0.32383 using Feature2h(x=1, y=6, width=2, height=1) ...\n",
      "t=3/10 1987.57s (0.50s in this stage) 47/63960 0.07% evaluated. Classification error improved to 0.28309 using Feature2h(x=2, y=8, width=2, height=1) ...\n",
      "t=3/10 1988.19s (1.12s in this stage) 97/63960 0.15% evaluated. Classification error improved to 0.26232 using Feature2h(x=5, y=1, width=2, height=1) ...\n",
      "t=3/10 1989.26s (2.19s in this stage) 176/63960 0.27% evaluated. Classification error improved to 0.25395 using Feature2h(x=9, y=4, width=2, height=1) ...\n",
      "t=3/10 1989.81s (2.75s in this stage) 193/63960 0.30% evaluated. Classification error improved to 0.23929 using Feature2h(x=10, y=2, width=2, height=1) ...\n",
      "t=3/10 1989.94s (2.87s in this stage) 199/63960 0.31% evaluated. Classification error improved to 0.23784 using Feature2h(x=10, y=8, width=2, height=1) ...\n",
      "t=3/10 1991.95s (4.88s in this stage) 341/63960 0.53% evaluated. Classification error improved to 0.23366 using Feature2h(x=17, y=17, width=2, height=1) ...\n",
      "t=3/10 1995.20s (8.13s in this stage) 527/63960 0.82% evaluated. Classification error improved to 0.22657 using Feature2h(x=10, y=4, width=2, height=2) ...\n",
      "t=3/10 1997.27s (10.21s in this stage) 665/63960 1.04% evaluated. Classification error improved to 0.21626 using Feature2h(x=17, y=16, width=2, height=2) ...\n",
      "t=3/10 2000.22s (13.15s in this stage) 842/63960 1.31% evaluated. Classification error improved to 0.20628 using Feature2h(x=10, y=5, width=2, height=3) ...\n",
      "t=3/10 2016.67s (29.60s in this stage) 1917/63960 3.00% evaluated. Classification error improved to 0.18309 using Feature2h(x=10, y=4, width=2, height=7) ...\n",
      "t=3/10 2020.38s (33.31s in this stage) 2140/63960 3.34% evaluated. Classification error improved to 0.17987 using Feature2h(x=10, y=3, width=2, height=8) ...\n"
     ]
    },
    {
     "name": "stdout",
     "output_type": "stream",
     "text": [
      "t=3/10 2053.22s (66.16s in this stage) 4140/63960 6.47% evaluated.\n",
      "Building weak classifier 4/10 ...\n",
      "t=4/10 2968.44s (0.06s in this stage) 2/63960 0.00% evaluated. Classification error improved to 0.38074 using Feature2h(x=0, y=1, width=2, height=1) ...\n",
      "t=4/10 2968.62s (0.25s in this stage) 17/63960 0.03% evaluated. Classification error improved to 0.37455 using Feature2h(x=0, y=16, width=2, height=1) ...\n",
      "t=4/10 2969.30s (0.92s in this stage) 91/63960 0.14% evaluated. Classification error improved to 0.32664 using Feature2h(x=4, y=14, width=2, height=1) ...\n",
      "t=4/10 2969.85s (1.48s in this stage) 130/63960 0.20% evaluated. Classification error improved to 0.30910 using Feature2h(x=6, y=15, width=2, height=1) ...\n",
      "t=4/10 2973.09s (4.71s in this stage) 332/63960 0.52% evaluated. Classification error improved to 0.28688 using Feature2h(x=17, y=8, width=2, height=1) ...\n",
      "t=4/10 2973.15s (4.78s in this stage) 334/63960 0.52% evaluated. Classification error improved to 0.27351 using Feature2h(x=17, y=10, width=2, height=1) ...\n",
      "t=4/10 2978.37s (9.99s in this stage) 662/63960 1.03% evaluated. Classification error improved to 0.26194 using Feature2h(x=17, y=13, width=2, height=2) ...\n",
      "t=4/10 2986.77s (18.39s in this stage) 1257/63960 1.96% evaluated. Classification error improved to 0.22798 using Feature2h(x=17, y=12, width=2, height=4) ...\n",
      "t=4/10 2993.33s (24.96s in this stage) 1780/63960 2.78% evaluated. Classification error improved to 0.22503 using Feature2h(x=17, y=11, width=2, height=6) ...\n",
      "t=4/10 2996.43s (28.06s in this stage) 2015/63960 3.15% evaluated. Classification error improved to 0.22169 using Feature2h(x=17, y=11, width=2, height=7) ...\n",
      "t=4/10 3111.45s (143.07s in this stage) 9368/63960 14.65% evaluated. Classification error improved to 0.21901 using Feature2h(x=1, y=1, width=8, height=2) ...\n",
      "t=4/10 3232.64s (264.26s in this stage) 17320/63960 27.08% evaluated. Classification error improved to 0.19522 using Feature2v(x=12, y=3, width=1, height=2) ...\n",
      "t=4/10 3328.90s (360.53s in this stage) 23602/63960 36.90% evaluated. Classification error improved to 0.17263 using Feature2v(x=11, y=3, width=5, height=2) ...\n",
      "t=4/10 3369.45s (401.08s in this stage) 26212/63960 40.98% evaluated. Classification error improved to 0.15702 using Feature2v(x=11, y=3, width=7, height=2) ...\n",
      "Building weak classifier 5/10 ...\n",
      "t=5/10 3937.67s (0.06s in this stage) 13/63960 0.02% evaluated. Classification error improved to 0.42413 using Feature2h(x=0, y=12, width=2, height=1) ...\n",
      "t=5/10 3937.74s (0.13s in this stage) 14/63960 0.02% evaluated. Classification error improved to 0.40401 using Feature2h(x=0, y=13, width=2, height=1) ...\n",
      "t=5/10 3937.86s (0.25s in this stage) 17/63960 0.03% evaluated. Classification error improved to 0.39153 using Feature2h(x=0, y=16, width=2, height=1) ...\n",
      "t=5/10 3938.04s (0.43s in this stage) 27/63960 0.04% evaluated. Classification error improved to 0.37483 using Feature2h(x=1, y=7, width=2, height=1) ...\n",
      "t=5/10 3938.35s (0.74s in this stage) 34/63960 0.05% evaluated. Classification error improved to 0.34555 using Feature2h(x=1, y=14, width=2, height=1) ...\n",
      "t=5/10 3939.16s (1.55s in this stage) 77/63960 0.12% evaluated. Classification error improved to 0.31767 using Feature2h(x=4, y=0, width=2, height=1) ...\n",
      "t=5/10 3939.41s (1.80s in this stage) 97/63960 0.15% evaluated. Classification error improved to 0.26569 using Feature2h(x=5, y=1, width=2, height=1) ...\n",
      "t=5/10 3942.98s (5.37s in this stage) 341/63960 0.53% evaluated. Classification error improved to 0.26300 using Feature2h(x=17, y=17, width=2, height=1) ...\n",
      "t=5/10 3953.39s (15.78s in this stage) 965/63960 1.51% evaluated. Classification error improved to 0.25365 using Feature2h(x=17, y=9, width=2, height=3) ...\n",
      "t=5/10 3955.87s (18.26s in this stage) 1124/63960 1.76% evaluated. Classification error improved to 0.25338 using Feature2h(x=9, y=7, width=2, height=4) ...\n",
      "t=5/10 3957.81s (20.20s in this stage) 1259/63960 1.97% evaluated. Classification error improved to 0.20481 using Feature2h(x=17, y=14, width=2, height=4) ...\n",
      "t=5/10 3973.79s (36.18s in this stage) 2231/63960 3.49% evaluated. Classification error improved to 0.18826 using Feature2h(x=17, y=10, width=2, height=8) ...\n",
      "t=5/10 4004.05s (66.44s in this stage) 4231/63960 6.61% evaluated.\n",
      "t=5/10 4089.63s (152.02s in this stage) 9583/63960 14.98% evaluated. Classification error improved to 0.16925 using Feature2h(x=1, y=1, width=8, height=3) ...\n",
      "t=5/10 4124.73s (187.12s in this stage) 11772/63960 18.40% evaluated. Classification error improved to 0.16532 using Feature2h(x=0, y=1, width=10, height=3) ...\n",
      "t=5/10 4498.19s (560.58s in this stage) 35759/63960 55.91% evaluated. Classification error improved to 0.16312 using Feature3h(x=8, y=1, width=3, height=6) ...\n",
      "t=5/10 4528.45s (590.84s in this stage) 37879/63960 59.22% evaluated. Classification error improved to 0.16109 using Feature3h(x=10, y=2, width=6, height=2) ...\n",
      "t=5/10 4535.76s (598.15s in this stage) 38332/63960 59.93% evaluated. Classification error improved to 0.14668 using Feature3h(x=9, y=1, width=6, height=4) ...\n",
      "t=5/10 4544.68s (607.07s in this stage) 38935/63960 60.87% evaluated. Classification error improved to 0.13268 using Feature3h(x=9, y=1, width=6, height=7) ...\n",
      "t=5/10 4578.43s (640.83s in this stage) 41139/63960 64.32% evaluated. Classification error improved to 0.13219 using Feature3h(x=8, y=1, width=9, height=6) ...\n",
      "t=5/10 4585.67s (648.06s in this stage) 41657/63960 65.13% evaluated. Classification error improved to 0.12592 using Feature3h(x=8, y=1, width=9, height=10) ...\n",
      "t=5/10 4586.95s (649.34s in this stage) 41759/63960 65.29% evaluated. Classification error improved to 0.12287 using Feature3h(x=8, y=1, width=9, height=11) ...\n",
      "Building weak classifier 6/10 ...\n",
      "t=6/10 4905.07s (0.06s in this stage) 8/63960 0.01% evaluated. Classification error improved to 0.32768 using Feature2h(x=0, y=7, width=2, height=1) ...\n",
      "t=6/10 4905.14s (0.12s in this stage) 10/63960 0.01% evaluated. Classification error improved to 0.31971 using Feature2h(x=0, y=9, width=2, height=1) ...\n",
      "t=6/10 4906.07s (1.06s in this stage) 56/63960 0.09% evaluated. Classification error improved to 0.31687 using Feature2h(x=2, y=17, width=2, height=1) ...\n",
      "t=6/10 4906.51s (1.50s in this stage) 78/63960 0.12% evaluated. Classification error improved to 0.25162 using Feature2h(x=4, y=1, width=2, height=1) ...\n",
      "t=6/10 4906.94s (1.93s in this stage) 97/63960 0.15% evaluated. Classification error improved to 0.22823 using Feature2h(x=5, y=1, width=2, height=1) ...\n",
      "t=6/10 4917.13s (12.12s in this stage) 752/63960 1.17% evaluated. Classification error improved to 0.21633 using Feature2h(x=5, y=0, width=2, height=3) ...\n",
      "t=6/10 4934.01s (28.99s in this stage) 1778/63960 2.78% evaluated. Classification error improved to 0.20341 using Feature2h(x=17, y=9, width=2, height=6) ...\n",
      "t=6/10 4978.82s (73.81s in this stage) 4668/63960 7.30% evaluated. Classification error improved to 0.19409 using Feature2h(x=8, y=7, width=4, height=5) ...\n",
      "t=6/10 5013.73s (108.72s in this stage) 7030/63960 10.99% evaluated. Classification error improved to 0.18694 using Feature2h(x=3, y=0, width=6, height=3) ...\n",
      "t=6/10 5055.59s (150.58s in this stage) 9785/63960 15.30% evaluated. Classification error improved to 0.17249 using Feature2h(x=1, y=0, width=8, height=4) ...\n",
      "t=6/10 5783.77s (878.76s in this stage) 57940/63960 90.59% evaluated. Classification error improved to 0.16376 using Feature4(x=10, y=11, width=4, height=4) ...\n",
      "Building weak classifier 7/10 ...\n",
      "t=7/10 5870.96s (0.06s in this stage) 4/63960 0.00% evaluated. Classification error improved to 0.35654 using Feature2h(x=0, y=3, width=2, height=1) ...\n",
      "t=7/10 5871.09s (0.19s in this stage) 9/63960 0.01% evaluated. Classification error improved to 0.31050 using Feature2h(x=0, y=8, width=2, height=1) ...\n",
      "t=7/10 5872.33s (1.43s in this stage) 76/63960 0.12% evaluated. Classification error improved to 0.30371 using Feature2h(x=3, y=18, width=2, height=1) ...\n",
      "t=7/10 5872.90s (2.00s in this stage) 97/63960 0.15% evaluated. Classification error improved to 0.28811 using Feature2h(x=5, y=1, width=2, height=1) ...\n",
      "t=7/10 5873.33s (2.44s in this stage) 115/63960 0.18% evaluated. Classification error improved to 0.28280 using Feature2h(x=6, y=0, width=2, height=1) ...\n",
      "t=7/10 5873.46s (2.56s in this stage) 125/63960 0.19% evaluated. Classification error improved to 0.26920 using Feature2h(x=6, y=10, width=2, height=1) ...\n"
     ]
    },
    {
     "name": "stdout",
     "output_type": "stream",
     "text": [
      "t=7/10 5873.84s (2.95s in this stage) 142/63960 0.22% evaluated. Classification error improved to 0.24741 using Feature2h(x=7, y=8, width=2, height=1) ...\n",
      "t=7/10 5874.53s (3.63s in this stage) 200/63960 0.31% evaluated. Classification error improved to 0.23354 using Feature2h(x=10, y=9, width=2, height=1) ...\n",
      "t=7/10 5895.21s (24.31s in this stage) 1526/63960 2.38% evaluated. Classification error improved to 0.22737 using Feature2h(x=17, y=10, width=2, height=5) ...\n",
      "t=7/10 5898.46s (27.56s in this stage) 1779/63960 2.78% evaluated. Classification error improved to 0.22261 using Feature2h(x=17, y=10, width=2, height=6) ...\n",
      "t=7/10 5902.75s (31.85s in this stage) 2014/63960 3.15% evaluated. Classification error improved to 0.22129 using Feature2h(x=17, y=10, width=2, height=7) ...\n",
      "t=7/10 5905.91s (35.01s in this stage) 2230/63960 3.48% evaluated. Classification error improved to 0.20538 using Feature2h(x=17, y=9, width=2, height=8) ...\n",
      "t=7/10 5975.47s (104.57s in this stage) 6782/63960 10.60% evaluated. Classification error improved to 0.17189 using Feature2h(x=3, y=1, width=6, height=2) ...\n",
      "t=7/10 6140.69s (269.79s in this stage) 17477/63960 27.32% evaluated. Classification error improved to 0.16863 using Feature2v(x=2, y=2, width=1, height=4) ...\n",
      "t=7/10 6165.20s (294.30s in this stage) 19186/63960 30.00% evaluated. Classification error improved to 0.15927 using Feature2v(x=3, y=3, width=2, height=4) ...\n",
      "t=7/10 6217.56s (346.66s in this stage) 22534/63960 35.23% evaluated. Classification error improved to 0.15677 using Feature2v(x=2, y=1, width=4, height=6) ...\n",
      "t=7/10 6237.06s (366.17s in this stage) 23690/63960 37.04% evaluated. Classification error improved to 0.14910 using Feature2v(x=1, y=3, width=5, height=4) ...\n",
      "Building weak classifier 8/10 ...\n",
      "t=8/10 6841.19s (0.06s in this stage) 1/63960 0.00% evaluated. Classification error improved to 0.41193 using Feature2h(x=0, y=0, width=2, height=1) ...\n",
      "t=8/10 6841.25s (0.12s in this stage) 6/63960 0.01% evaluated. Classification error improved to 0.38202 using Feature2h(x=0, y=5, width=2, height=1) ...\n",
      "t=8/10 6841.32s (0.19s in this stage) 11/63960 0.02% evaluated. Classification error improved to 0.35954 using Feature2h(x=0, y=10, width=2, height=1) ...\n",
      "t=8/10 6841.44s (0.31s in this stage) 26/63960 0.04% evaluated. Classification error improved to 0.32423 using Feature2h(x=1, y=6, width=2, height=1) ...\n",
      "t=8/10 6841.62s (0.49s in this stage) 55/63960 0.08% evaluated. Classification error improved to 0.29583 using Feature2h(x=2, y=16, width=2, height=1) ...\n",
      "t=8/10 6843.48s (2.36s in this stage) 167/63960 0.26% evaluated. Classification error improved to 0.29455 using Feature2h(x=8, y=14, width=2, height=1) ...\n",
      "t=8/10 6843.67s (2.55s in this stage) 181/63960 0.28% evaluated. Classification error improved to 0.28931 using Feature2h(x=9, y=9, width=2, height=1) ...\n",
      "t=8/10 6843.98s (2.86s in this stage) 197/63960 0.31% evaluated. Classification error improved to 0.26775 using Feature2h(x=10, y=6, width=2, height=1) ...\n",
      "t=8/10 6845.29s (4.16s in this stage) 259/63960 0.40% evaluated. Classification error improved to 0.25455 using Feature2h(x=13, y=11, width=2, height=1) ...\n",
      "t=8/10 6848.66s (7.54s in this stage) 525/63960 0.82% evaluated. Classification error improved to 0.24475 using Feature2h(x=10, y=2, width=2, height=2) ...\n",
      "t=8/10 6848.85s (7.73s in this stage) 531/63960 0.83% evaluated. Classification error improved to 0.23387 using Feature2h(x=10, y=8, width=2, height=2) ...\n",
      "t=8/10 6850.35s (9.22s in this stage) 604/63960 0.94% evaluated. Classification error improved to 0.23086 using Feature2h(x=14, y=9, width=2, height=2) ...\n",
      "t=8/10 6865.59s (24.46s in this stage) 1528/63960 2.39% evaluated. Classification error improved to 0.22975 using Feature2h(x=17, y=12, width=2, height=5) ...\n",
      "t=8/10 6867.95s (26.83s in this stage) 1673/63960 2.61% evaluated. Classification error improved to 0.22726 using Feature2h(x=10, y=2, width=2, height=6) ...\n",
      "t=8/10 6876.45s (35.33s in this stage) 2231/63960 3.49% evaluated. Classification error improved to 0.20463 using Feature2h(x=17, y=10, width=2, height=8) ...\n",
      "t=8/10 6951.45s (110.33s in this stage) 7031/63960 10.99% evaluated. Classification error improved to 0.19876 using Feature2h(x=3, y=1, width=6, height=3) ...\n",
      "t=8/10 7025.53s (184.40s in this stage) 11772/63960 18.40% evaluated. Classification error improved to 0.19780 using Feature2h(x=0, y=1, width=10, height=3) ...\n",
      "t=8/10 7161.14s (320.02s in this stage) 20588/63960 32.19% evaluated. Classification error improved to 0.19450 using Feature2v(x=8, y=13, width=3, height=2) ...\n",
      "Building weak classifier 9/10 ...\n",
      "t=9/10 7806.45s (0.06s in this stage) 1/63960 0.00% evaluated. Classification error improved to 0.31101 using Feature2h(x=0, y=0, width=2, height=1) ...\n",
      "t=9/10 7806.70s (0.31s in this stage) 8/63960 0.01% evaluated. Classification error improved to 0.29784 using Feature2h(x=0, y=7, width=2, height=1) ...\n",
      "t=9/10 7807.07s (0.68s in this stage) 28/63960 0.04% evaluated. Classification error improved to 0.29135 using Feature2h(x=1, y=8, width=2, height=1) ...\n",
      "t=9/10 7807.57s (1.18s in this stage) 64/63960 0.10% evaluated. Classification error improved to 0.26093 using Feature2h(x=3, y=6, width=2, height=1) ...\n",
      "t=9/10 7809.25s (2.86s in this stage) 179/63960 0.28% evaluated. Classification error improved to 0.22785 using Feature2h(x=9, y=7, width=2, height=1) ...\n",
      "t=9/10 7809.81s (3.42s in this stage) 198/63960 0.31% evaluated. Classification error improved to 0.22535 using Feature2h(x=10, y=7, width=2, height=1) ...\n",
      "t=9/10 7809.87s (3.48s in this stage) 199/63960 0.31% evaluated. Classification error improved to 0.18001 using Feature2h(x=10, y=8, width=2, height=1) ...\n",
      "t=9/10 7809.93s (3.54s in this stage) 200/63960 0.31% evaluated. Classification error improved to 0.17967 using Feature2h(x=10, y=9, width=2, height=1) ...\n",
      "t=9/10 7897.84s (91.45s in this stage) 5959/63960 9.32% evaluated. Classification error improved to 0.17632 using Feature2h(x=9, y=2, width=4, height=12) ...\n",
      "t=9/10 7916.92s (110.53s in this stage) 7265/63960 11.36% evaluated. Classification error improved to 0.17540 using Feature2h(x=3, y=0, width=6, height=4) ...\n",
      "t=9/10 7924.53s (118.14s in this stage) 7752/63960 12.12% evaluated. Classification error improved to 0.16927 using Feature2h(x=7, y=3, width=6, height=6) ...\n",
      "t=9/10 8392.86s (586.47s in this stage) 38333/63960 59.93% evaluated. Classification error improved to 0.16580 using Feature3h(x=9, y=2, width=6, height=4) ...\n",
      "t=9/10 8398.58s (592.19s in this stage) 38748/63960 60.58% evaluated. Classification error improved to 0.16506 using Feature3h(x=9, y=1, width=6, height=6) ...\n",
      "t=9/10 8401.45s (595.06s in this stage) 38934/63960 60.87% evaluated. Classification error improved to 0.16147 using Feature3h(x=9, y=0, width=6, height=7) ...\n",
      "t=9/10 8432.09s (625.70s in this stage) 40983/63960 64.07% evaluated. Classification error improved to 0.15254 using Feature3h(x=8, y=2, width=9, height=5) ...\n",
      "t=9/10 8440.09s (633.70s in this stage) 41544/63960 64.95% evaluated. Classification error improved to 0.14895 using Feature3h(x=8, y=1, width=9, height=9) ...\n",
      "t=9/10 8443.18s (636.79s in this stage) 41759/63960 65.29% evaluated. Classification error improved to 0.14731 using Feature3h(x=8, y=1, width=9, height=11) ...\n",
      "Building weak classifier 10/10 ...\n",
      "t=10/10 8777.03s (0.06s in this stage) 4/63960 0.00% evaluated. Classification error improved to 0.36630 using Feature2h(x=0, y=3, width=2, height=1) ...\n",
      "t=10/10 8777.10s (0.13s in this stage) 7/63960 0.01% evaluated. Classification error improved to 0.33947 using Feature2h(x=0, y=6, width=2, height=1) ...\n",
      "t=10/10 8777.28s (0.31s in this stage) 25/63960 0.04% evaluated. Classification error improved to 0.29204 using Feature2h(x=1, y=5, width=2, height=1) ...\n",
      "t=10/10 8777.84s (0.87s in this stage) 63/63960 0.10% evaluated. Classification error improved to 0.26104 using Feature2h(x=3, y=5, width=2, height=1) ...\n",
      "t=10/10 8777.91s (0.94s in this stage) 64/63960 0.10% evaluated. Classification error improved to 0.25276 using Feature2h(x=3, y=6, width=2, height=1) ...\n",
      "t=10/10 8778.77s (1.80s in this stage) 142/63960 0.22% evaluated. Classification error improved to 0.23767 using Feature2h(x=7, y=8, width=2, height=1) ...\n"
     ]
    },
    {
     "name": "stdout",
     "output_type": "stream",
     "text": [
      "t=10/10 8781.16s (4.19s in this stage) 292/63960 0.45% evaluated. Classification error improved to 0.20721 using Feature2h(x=15, y=6, width=2, height=1) ...\n",
      "t=10/10 8784.78s (7.82s in this stage) 530/63960 0.83% evaluated. Classification error improved to 0.20501 using Feature2h(x=10, y=7, width=2, height=2) ...\n",
      "t=10/10 8786.03s (9.06s in this stage) 619/63960 0.97% evaluated. Classification error improved to 0.19543 using Feature2h(x=15, y=6, width=2, height=2) ...\n",
      "t=10/10 8791.31s (14.34s in this stage) 966/63960 1.51% evaluated. Classification error improved to 0.18862 using Feature2h(x=17, y=10, width=2, height=3) ...\n",
      "t=10/10 8792.62s (15.66s in this stage) 1053/63960 1.64% evaluated. Classification error improved to 0.18811 using Feature2h(x=5, y=0, width=2, height=4) ...\n",
      "t=10/10 8800.49s (23.52s in this stage) 1525/63960 2.38% evaluated. Classification error improved to 0.18452 using Feature2h(x=17, y=9, width=2, height=5) ...\n",
      "t=10/10 8808.33s (31.36s in this stage) 2013/63960 3.15% evaluated. Classification error improved to 0.16950 using Feature2h(x=17, y=9, width=2, height=7) ...\n",
      "t=10/10 8814.48s (37.52s in this stage) 2428/63960 3.79% evaluated. Classification error improved to 0.15910 using Feature2h(x=17, y=8, width=2, height=9) ...\n",
      "t=10/10 8882.53s (105.56s in this stage) 7031/63960 10.99% evaluated. Classification error improved to 0.14745 using Feature2h(x=3, y=1, width=6, height=3) ...\n",
      "t=10/10 8913.34s (136.37s in this stage) 9031/63960 14.12% evaluated.\n",
      "t=10/10 8918.70s (141.73s in this stage) 9386/63960 14.67% evaluated. Classification error improved to 0.14145 using Feature2h(x=2, y=1, width=8, height=2) ...\n",
      "Done building 10 weak classifiers.\n"
     ]
    }
   ],
   "source": [
    "assert xis.shape[1:3] == (WINDOW_SIZE+1, WINDOW_SIZE+1), xis.shape\n",
    "weak_classifiers_4, w_history = build_weak_classifiers('4th', 10, xis, ys, features)"
   ]
  },
  {
   "cell_type": "code",
   "execution_count": 111,
   "metadata": {},
   "outputs": [
    {
     "data": {
      "text/plain": [
       "[WeakClassifier(threshold=-1.0794528722763062, polarity=1, alpha=2.442347035369204, classifier=Feature3h(x=1, y=8, width=9, height=1)),\n",
       " WeakClassifier(threshold=-1.4321107864379883, polarity=1, alpha=1.6863989535702277, classifier=Feature2v(x=3, y=6, width=16, height=6)),\n",
       " WeakClassifier(threshold=0.46091461181640625, polarity=-1, alpha=1.5172205278154027, classifier=Feature2h(x=10, y=3, width=2, height=8)),\n",
       " WeakClassifier(threshold=0.4938373565673828, polarity=-1, alpha=1.6805874370303648, classifier=Feature2v(x=11, y=3, width=7, height=2)),\n",
       " WeakClassifier(threshold=-18.68893814086914, polarity=1, alpha=1.9655459776808373, classifier=Feature3h(x=8, y=1, width=9, height=11)),\n",
       " WeakClassifier(threshold=-0.14815521240234375, polarity=1, alpha=1.6305413713154933, classifier=Feature4(x=10, y=11, width=4, height=4)),\n",
       " WeakClassifier(threshold=1.2345921993255615, polarity=-1, alpha=1.7417101568384277, classifier=Feature2v(x=1, y=3, width=5, height=4)),\n",
       " WeakClassifier(threshold=0.03292274475097656, polarity=-1, alpha=1.4210155286557582, classifier=Feature2v(x=8, y=13, width=3, height=2)),\n",
       " WeakClassifier(threshold=-17.948191046714783, polarity=1, alpha=1.755859708487424, classifier=Feature3h(x=8, y=1, width=9, height=11)),\n",
       " WeakClassifier(threshold=-0.5267586708068848, polarity=1, alpha=1.8033395932989547, classifier=Feature2h(x=2, y=1, width=8, height=2))]"
      ]
     },
     "execution_count": 111,
     "metadata": {},
     "output_type": "execute_result"
    }
   ],
   "source": [
    "weak_classifiers_4"
   ]
  },
  {
   "cell_type": "markdown",
   "metadata": {},
   "source": [
    "## Test Case"
   ]
  },
  {
   "cell_type": "code",
   "execution_count": 64,
   "metadata": {},
   "outputs": [],
   "source": [
    "test_data_dir=os.path.join(data_dir,\"testset\")\n",
    "test_faces=os.path.join(test_data_dir,\"faces\")\n",
    "test_non_faces=os.path.join(test_data_dir,\"non-faces\")"
   ]
  },
  {
   "cell_type": "code",
   "execution_count": 65,
   "metadata": {},
   "outputs": [
    {
     "data": {
      "text/plain": [
       "472"
      ]
     },
     "execution_count": 65,
     "metadata": {},
     "output_type": "execute_result"
    }
   ],
   "source": [
    "face_image_files_test = glob.glob(os.path.join(test_faces, '**', '*.png'), recursive=True)\n",
    "len(face_image_files_test)"
   ]
  },
  {
   "cell_type": "code",
   "execution_count": 66,
   "metadata": {},
   "outputs": [
    {
     "data": {
      "text/plain": [
       "2001"
      ]
     },
     "execution_count": 66,
     "metadata": {},
     "output_type": "execute_result"
    }
   ],
   "source": [
    "background_image_files_test=glob.glob(os.path.join(test_non_faces, '**', '*.png'), recursive=True)\n",
    "len(background_image_files_test)"
   ]
  },
  {
   "cell_type": "code",
   "execution_count": 67,
   "metadata": {},
   "outputs": [
    {
     "data": {
      "image/png": "[encoded data removed]",
      "text/plain": [
       "<PIL.Image.Image image mode=L size=95x19 at 0x1FD6C038048>"
      ]
     },
     "execution_count": 67,
     "metadata": {},
     "output_type": "execute_result"
    }
   ],
   "source": [
    "random.seed(1000)\n",
    "random_face_files_test = random.sample(face_image_files_test, 5)\n",
    "merge_images(random_face_files_test, open_face)"
   ]
  },
  {
   "cell_type": "code",
   "execution_count": 68,
   "metadata": {},
   "outputs": [
    {
     "data": {
      "image/png": "[encoded data removed]",
      "text/plain": [
       "<PIL.Image.Image image mode=L size=95x19 at 0x1FD6B9ED248>"
      ]
     },
     "execution_count": 68,
     "metadata": {},
     "output_type": "execute_result"
    }
   ],
   "source": [
    "random.seed(1000)\n",
    "random_background_files_test = random.sample(background_image_files_test, 5)\n",
    "merge_images(random_background_files_test, open_background)"
   ]
  },
  {
   "cell_type": "code",
   "execution_count": 69,
   "metadata": {},
   "outputs": [],
   "source": [
    "def sample_data_test(p: int, n: int) -> Tuple[np.ndarray, np.ndarray]:\n",
    "    xs = []\n",
    "    xs.extend([to_float_array(open_face(f)) for f in random.sample(face_image_files_test, p)])\n",
    "    xs.extend([to_float_array(open_background(f)) for f in np.random.choice(background_image_files_test, n, replace=True)])\n",
    "\n",
    "    ys = np.hstack([np.ones((p,)), np.zeros((n,))])\n",
    "    return np.array(xs), ys"
   ]
  },
  {
   "cell_type": "code",
   "execution_count": 71,
   "metadata": {},
   "outputs": [
    {
     "name": "stdout",
     "output_type": "stream",
     "text": [
      "Sample mean: 0.5260450839996338, standard deviation: 0.23823058605194092\n"
     ]
    }
   ],
   "source": [
    "image_samples_test, _ = sample_data_test(100, 100)\n",
    "\n",
    "sample_mean = image_samples_test.mean()\n",
    "sample_std = image_samples_test.std()\n",
    "del image_samples_test\n",
    "\n",
    "print(f'Sample mean: {sample_mean}, standard deviation: {sample_std}')"
   ]
  },
  {
   "cell_type": "code",
   "execution_count": 72,
   "metadata": {},
   "outputs": [],
   "source": [
    "def normalize_test(im: np.ndarray, mean: float = sample_mean, std: float = sample_std) -> np.ndarray:\n",
    "    return (im - mean) / std\n",
    "\n",
    "def sample_data_normalized_test(p: int, n: int, mean: float = sample_mean, std: float = sample_std) -> Tuple[np.ndarray, np.ndarray]:\n",
    "    xs, ys = sample_data_test(p, n)\n",
    "    xs = normalize_test(xs, mean, std)\n",
    "    return xs, ys"
   ]
  },
  {
   "cell_type": "code",
   "execution_count": 73,
   "metadata": {},
   "outputs": [
    {
     "name": "stdout",
     "output_type": "stream",
     "text": [
      "Example mean: 0.03291177377104759, standard deviation: 0.9715791940689087\n"
     ]
    }
   ],
   "source": [
    "xs, _ = sample_data_normalized_test(100, 100)\n",
    "\n",
    "print(f'Example mean: {xs.mean()}, standard deviation: {xs.std()}')\n",
    "del xs\n",
    "del _"
   ]
  },
  {
   "cell_type": "code",
   "execution_count": 74,
   "metadata": {},
   "outputs": [],
   "source": [
    "random.seed(18151210)\n",
    "np.random.seed(18151210)\n",
    "xs, ys = sample_data_normalized_test(100, 100)"
   ]
  },
  {
   "cell_type": "code",
   "execution_count": 75,
   "metadata": {},
   "outputs": [
    {
     "data": {
      "text/plain": [
       "((200, 19, 19), (200, 20, 20))"
      ]
     },
     "execution_count": 75,
     "metadata": {},
     "output_type": "execute_result"
    }
   ],
   "source": [
    "xis = np.array([to_integral(x) for x in xs])\n",
    "xs.shape, xis.shape"
   ]
  },
  {
   "cell_type": "code",
   "execution_count": 78,
   "metadata": {},
   "outputs": [
    {
     "data": {
      "image/png": "[encoded data removed]",
      "text/plain": [
       "<PIL.Image.Image image mode=L size=100x100 at 0x1FD6BECB888>"
      ]
     },
     "execution_count": 78,
     "metadata": {},
     "output_type": "execute_result"
    }
   ],
   "source": [
    "average_face = np.sum(xs[ys > .5], axis=0) / xs[ys > .5].shape[0]\n",
    "average_face = (average_face - average_face.min()) / (average_face.max() - average_face.min())\n",
    "to_image(average_face).resize((100, 100))"
   ]
  },
  {
   "cell_type": "code",
   "execution_count": 79,
   "metadata": {},
   "outputs": [
    {
     "data": {
      "image/png": "[encoded data removed]",
      "text/plain": [
       "<PIL.Image.Image image mode=L size=100x100 at 0x1FD6B9A23C8>"
      ]
     },
     "execution_count": 79,
     "metadata": {},
     "output_type": "execute_result"
    }
   ],
   "source": [
    "to_image(average_face).resize((100, 100), Image.ANTIALIAS)"
   ]
  },
  {
   "cell_type": "code",
   "execution_count": 80,
   "metadata": {},
   "outputs": [
    {
     "data": {
      "image/png": "[encoded data removed]",
      "text/plain": [
       "<PIL.Image.Image image mode=L size=100x100 at 0x1FD6B3BF948>"
      ]
     },
     "execution_count": 80,
     "metadata": {},
     "output_type": "execute_result"
    }
   ],
   "source": [
    "average_background = np.sum(xs[ys < .5], axis=0) / xs[ys < .5].shape[0]\n",
    "average_background = (average_background - average_background.min()) / (average_background.max() - average_background.min())\n",
    "to_image(average_background).resize((100, 100), Image.ANTIALIAS)"
   ]
  },
  {
   "cell_type": "code",
   "execution_count": 93,
   "metadata": {},
   "outputs": [],
   "source": [
    "random.seed(1337)\n",
    "np.random.seed(1337)\n",
    "test_xs, test_ys = sample_data_normalized_test(472, 2000)\n",
    "test_xis = np.array([to_integral(x) for x in test_xs])"
   ]
  },
  {
   "cell_type": "markdown",
   "metadata": {},
   "source": [
    "## Evaluation of the classifier(s)"
   ]
  },
  {
   "cell_type": "code",
   "execution_count": 82,
   "metadata": {},
   "outputs": [],
   "source": [
    "PredictionStats = NamedTuple('PredictionStats', [('tn', int), ('fp', int), ('fn', int), ('tp', int)])\n",
    "\n",
    "def prediction_stats(y_true: np.ndarray, y_pred: np.ndarray) -> Tuple[np.ndarray, PredictionStats]:\n",
    "    c = confusion_matrix(y_true, y_pred)\n",
    "    tn, fp, fn, tp = c.ravel()\n",
    "    return c, PredictionStats(tn=tn, fp=fp, fn=fn, tp=tp)"
   ]
  },
  {
   "cell_type": "code",
   "execution_count": 96,
   "metadata": {},
   "outputs": [
    {
     "name": "stdout",
     "output_type": "stream",
     "text": [
      "Precision 0.64, accuracy 0.87, recall 0.79, false positive rate 0.11, false negative rate 0.21.\n"
     ]
    },
    {
     "data": {
      "image/png": "[encoded data removed]",
      "text/plain": [
       "<Figure size 432x288 with 2 Axes>"
      ]
     },
     "metadata": {},
     "output_type": "display_data"
    }
   ],
   "source": [
    "ys_1 = np.array([run_weak_classifier(x, weak_classifiers[0]) for x in test_xis])\n",
    "c, s = prediction_stats(test_ys, ys_1)\n",
    "\n",
    "sns.heatmap(c / c.sum(), cmap='YlGnBu', annot=True, square=True, fmt='.1%',\n",
    "            xticklabels=['Predicted negative', 'Predicted positive'], \n",
    "            yticklabels=['Negative', 'Positive'])\n",
    "plt.title(f'{weak_classifiers[0].classifier} alone');\n",
    "\n",
    "print(f'Precision {s.tp/(s.tp+s.fp):.2f}, accuracy {(s.tp+s.tn)/(s.tp+s.tn+s.fp+s.fn):.2f}, recall {s.tp/(s.tp+s.fn):.2f}, false positive rate {s.fp/(s.fp+s.tn):.2f}, false negative rate {s.fn/(s.tp+s.fn):.2f}.')"
   ]
  },
  {
   "cell_type": "markdown",
   "metadata": {},
   "source": [
    "Strong Classifiers"
   ]
  },
  {
   "cell_type": "code",
   "execution_count": 123,
   "metadata": {},
   "outputs": [
    {
     "name": "stdout",
     "output_type": "stream",
     "text": [
      "Precision 0.64, accuracy 0.87, recall 0.79, false positive rate 0.11, false negative rate 0.21.\n"
     ]
    },
    {
     "data": {
      "image/png": "[encoded data removed]",
      "text/plain": [
       "<Figure size 432x288 with 2 Axes>"
      ]
     },
     "metadata": {},
     "output_type": "display_data"
    }
   ],
   "source": [
    "ys_strong = np.array([strong_classifier(x, weak_classifiers) for x in test_xis])\n",
    "c, s = prediction_stats(test_ys, ys_strong)\n",
    "\n",
    "sns.heatmap(c / c.sum(), cmap='YlGnBu', annot=True, square=True, fmt='.1%',\n",
    "            xticklabels=['Predicted negative', 'Predicted positive'], \n",
    "            yticklabels=['Negative', 'Positive'])\n",
    "plt.title(f'Confusion matrix for the strong classifier');\n",
    "\n",
    "print(f'Precision {s.tp/(s.tp+s.fp):.2f}, accuracy {(s.tp+s.tn)/(s.tp+s.tn+s.fp+s.fn):.2f}, recall {s.tp/(s.tp+s.fn):.2f}, false positive rate {s.fp/(s.fp+s.tn):.2f}, false negative rate {s.fn/(s.tp+s.fn):.2f}.')"
   ]
  },
  {
   "cell_type": "code",
   "execution_count": 105,
   "metadata": {},
   "outputs": [
    {
     "name": "stdout",
     "output_type": "stream",
     "text": [
      "Precision 0.58, accuracy 0.86, recall 0.93, false positive rate 0.16, false negative rate 0.07.\n"
     ]
    },
    {
     "data": {
      "image/png": "[encoded data removed]",
      "text/plain": [
       "<Figure size 432x288 with 2 Axes>"
      ]
     },
     "metadata": {},
     "output_type": "display_data"
    }
   ],
   "source": [
    "ys_1 = np.array([run_weak_classifier(x, weak_classifiers_2[0]) for x in test_xis])\n",
    "c, s = prediction_stats(test_ys, ys_1)\n",
    "\n",
    "sns.heatmap(c / c.sum(), cmap='YlGnBu', annot=True, square=True, fmt='.1%',\n",
    "            xticklabels=['Predicted negative', 'Predicted positive'], \n",
    "            yticklabels=['Negative', 'Positive'])\n",
    "plt.title(f'{weak_classifiers_2[0].classifier} alone');\n",
    "\n",
    "print(f'Precision {s.tp/(s.tp+s.fp):.2f}, accuracy {(s.tp+s.tn)/(s.tp+s.tn+s.fp+s.fn):.2f}, recall {s.tp/(s.tp+s.fn):.2f}, false positive rate {s.fp/(s.fp+s.tn):.2f}, false negative rate {s.fn/(s.tp+s.fn):.2f}.')"
   ]
  },
  {
   "cell_type": "code",
   "execution_count": 115,
   "metadata": {},
   "outputs": [
    {
     "name": "stdout",
     "output_type": "stream",
     "text": [
      "Precision 0.51, accuracy 0.81, recall 0.75, false positive rate 0.17, false negative rate 0.25.\n"
     ]
    },
    {
     "data": {
      "image/png": "[encoded data removed]",
      "text/plain": [
       "<Figure size 432x288 with 2 Axes>"
      ]
     },
     "metadata": {},
     "output_type": "display_data"
    }
   ],
   "source": [
    "ys_1 = np.array([run_weak_classifier(x, weak_classifiers_2[1]) for x in test_xis])\n",
    "c, s = prediction_stats(test_ys, ys_1)\n",
    "\n",
    "sns.heatmap(c / c.sum(), cmap='YlGnBu', annot=True, square=True, fmt='.1%',\n",
    "            xticklabels=['Predicted negative', 'Predicted positive'], \n",
    "            yticklabels=['Negative', 'Positive'])\n",
    "plt.title(f'{weak_classifiers_2[1].classifier} alone');\n",
    "\n",
    "print(f'Precision {s.tp/(s.tp+s.fp):.2f}, accuracy {(s.tp+s.tn)/(s.tp+s.tn+s.fp+s.fn):.2f}, recall {s.tp/(s.tp+s.fn):.2f}, false positive rate {s.fp/(s.fp+s.tn):.2f}, false negative rate {s.fn/(s.tp+s.fn):.2f}.')"
   ]
  },
  {
   "cell_type": "code",
   "execution_count": 116,
   "metadata": {},
   "outputs": [
    {
     "name": "stdout",
     "output_type": "stream",
     "text": [
      "Precision 0.39, accuracy 0.74, recall 0.64, false positive rate 0.24, false negative rate 0.36.\n"
     ]
    },
    {
     "data": {
      "image/png": "[encoded data removed]",
      "text/plain": [
       "<Figure size 432x288 with 2 Axes>"
      ]
     },
     "metadata": {},
     "output_type": "display_data"
    }
   ],
   "source": [
    "ys_1 = np.array([run_weak_classifier(x, weak_classifiers_2[2]) for x in test_xis])\n",
    "c, s = prediction_stats(test_ys, ys_1)\n",
    "\n",
    "sns.heatmap(c / c.sum(), cmap='YlGnBu', annot=True, square=True, fmt='.1%',\n",
    "            xticklabels=['Predicted negative', 'Predicted positive'], \n",
    "            yticklabels=['Negative', 'Positive'])\n",
    "plt.title(f'{weak_classifiers_2[2].classifier} alone');\n",
    "\n",
    "print(f'Precision {s.tp/(s.tp+s.fp):.2f}, accuracy {(s.tp+s.tn)/(s.tp+s.tn+s.fp+s.fn):.2f}, recall {s.tp/(s.tp+s.fn):.2f}, false positive rate {s.fp/(s.fp+s.tn):.2f}, false negative rate {s.fn/(s.tp+s.fn):.2f}.')"
   ]
  },
  {
   "cell_type": "code",
   "execution_count": 124,
   "metadata": {},
   "outputs": [
    {
     "name": "stdout",
     "output_type": "stream",
     "text": [
      "Precision 0.65, accuracy 0.89, recall 0.89, false positive rate 0.11, false negative rate 0.11.\n"
     ]
    },
    {
     "data": {
      "image/png": "[encoded data removed]",
      "text/plain": [
       "<Figure size 432x288 with 2 Axes>"
      ]
     },
     "metadata": {},
     "output_type": "display_data"
    }
   ],
   "source": [
    "ys_strong = np.array([strong_classifier(x, weak_classifiers_2) for x in test_xis])\n",
    "c, s = prediction_stats(test_ys, ys_strong)\n",
    "\n",
    "sns.heatmap(c / c.sum(), cmap='YlGnBu', annot=True, square=True, fmt='.1%',\n",
    "            xticklabels=['Predicted negative', 'Predicted positive'], \n",
    "            yticklabels=['Negative', 'Positive'])\n",
    "plt.title(f'Confusion matrix for the strong classifier (stage 2)');\n",
    "\n",
    "print(f'Precision {s.tp/(s.tp+s.fp):.2f}, accuracy {(s.tp+s.tn)/(s.tp+s.tn+s.fp+s.fn):.2f}, recall {s.tp/(s.tp+s.fn):.2f}, false positive rate {s.fp/(s.fp+s.tn):.2f}, false negative rate {s.fn/(s.tp+s.fn):.2f}.')"
   ]
  },
  {
   "cell_type": "code",
   "execution_count": 117,
   "metadata": {},
   "outputs": [
    {
     "name": "stdout",
     "output_type": "stream",
     "text": [
      "Precision 0.58, accuracy 0.86, recall 0.93, false positive rate 0.16, false negative rate 0.07.\n"
     ]
    },
    {
     "data": {
      "image/png": "[encoded data removed]",
      "text/plain": [
       "<Figure size 432x288 with 2 Axes>"
      ]
     },
     "metadata": {},
     "output_type": "display_data"
    }
   ],
   "source": [
    "ys_1 = np.array([run_weak_classifier(x, weak_classifiers_3[0]) for x in test_xis])\n",
    "c, s = prediction_stats(test_ys, ys_1)\n",
    "\n",
    "sns.heatmap(c / c.sum(), cmap='YlGnBu', annot=True, square=True, fmt='.1%',\n",
    "            xticklabels=['Predicted negative', 'Predicted positive'], \n",
    "            yticklabels=['Negative', 'Positive'])\n",
    "plt.title(f'{weak_classifiers_3[0].classifier} alone');\n",
    "\n",
    "print(f'Precision {s.tp/(s.tp+s.fp):.2f}, accuracy {(s.tp+s.tn)/(s.tp+s.tn+s.fp+s.fn):.2f}, recall {s.tp/(s.tp+s.fn):.2f}, false positive rate {s.fp/(s.fp+s.tn):.2f}, false negative rate {s.fn/(s.tp+s.fn):.2f}.')"
   ]
  },
  {
   "cell_type": "code",
   "execution_count": 118,
   "metadata": {},
   "outputs": [
    {
     "name": "stdout",
     "output_type": "stream",
     "text": [
      "Precision 0.32, accuracy 0.65, recall 0.75, false positive rate 0.38, false negative rate 0.25.\n"
     ]
    },
    {
     "data": {
      "image/png": "[encoded data removed]",
      "text/plain": [
       "<Figure size 432x288 with 2 Axes>"
      ]
     },
     "metadata": {},
     "output_type": "display_data"
    }
   ],
   "source": [
    "ys_1 = np.array([run_weak_classifier(x, weak_classifiers_3[1]) for x in test_xis])\n",
    "c, s = prediction_stats(test_ys, ys_1)\n",
    "\n",
    "sns.heatmap(c / c.sum(), cmap='YlGnBu', annot=True, square=True, fmt='.1%',\n",
    "            xticklabels=['Predicted negative', 'Predicted positive'], \n",
    "            yticklabels=['Negative', 'Positive'])\n",
    "plt.title(f'{weak_classifiers_3[1].classifier} alone');\n",
    "\n",
    "print(f'Precision {s.tp/(s.tp+s.fp):.2f}, accuracy {(s.tp+s.tn)/(s.tp+s.tn+s.fp+s.fn):.2f}, recall {s.tp/(s.tp+s.fn):.2f}, false positive rate {s.fp/(s.fp+s.tn):.2f}, false negative rate {s.fn/(s.tp+s.fn):.2f}.')"
   ]
  },
  {
   "cell_type": "code",
   "execution_count": 119,
   "metadata": {},
   "outputs": [
    {
     "name": "stdout",
     "output_type": "stream",
     "text": [
      "Precision 0.45, accuracy 0.78, recall 0.61, false positive rate 0.18, false negative rate 0.39.\n"
     ]
    },
    {
     "data": {
      "image/png": "[encoded data removed]",
      "text/plain": [
       "<Figure size 432x288 with 2 Axes>"
      ]
     },
     "metadata": {},
     "output_type": "display_data"
    }
   ],
   "source": [
    "ys_1 = np.array([run_weak_classifier(x, weak_classifiers_3[2]) for x in test_xis])\n",
    "c, s = prediction_stats(test_ys, ys_1)\n",
    "\n",
    "sns.heatmap(c / c.sum(), cmap='YlGnBu', annot=True, square=True, fmt='.1%',\n",
    "            xticklabels=['Predicted negative', 'Predicted positive'], \n",
    "            yticklabels=['Negative', 'Positive'])\n",
    "plt.title(f'{weak_classifiers_3[2].classifier} alone');\n",
    "\n",
    "print(f'Precision {s.tp/(s.tp+s.fp):.2f}, accuracy {(s.tp+s.tn)/(s.tp+s.tn+s.fp+s.fn):.2f}, recall {s.tp/(s.tp+s.fn):.2f}, false positive rate {s.fp/(s.fp+s.tn):.2f}, false negative rate {s.fn/(s.tp+s.fn):.2f}.')"
   ]
  },
  {
   "cell_type": "code",
   "execution_count": 120,
   "metadata": {},
   "outputs": [
    {
     "name": "stdout",
     "output_type": "stream",
     "text": [
      "Precision 0.41, accuracy 0.74, recall 0.86, false positive rate 0.29, false negative rate 0.14.\n"
     ]
    },
    {
     "data": {
      "image/png": "[encoded data removed]",
      "text/plain": [
       "<Figure size 432x288 with 2 Axes>"
      ]
     },
     "metadata": {},
     "output_type": "display_data"
    }
   ],
   "source": [
    "ys_1 = np.array([run_weak_classifier(x, weak_classifiers_3[3]) for x in test_xis])\n",
    "c, s = prediction_stats(test_ys, ys_1)\n",
    "\n",
    "sns.heatmap(c / c.sum(), cmap='YlGnBu', annot=True, square=True, fmt='.1%',\n",
    "            xticklabels=['Predicted negative', 'Predicted positive'], \n",
    "            yticklabels=['Negative', 'Positive'])\n",
    "plt.title(f'{weak_classifiers_3[3].classifier} alone');\n",
    "\n",
    "print(f'Precision {s.tp/(s.tp+s.fp):.2f}, accuracy {(s.tp+s.tn)/(s.tp+s.tn+s.fp+s.fn):.2f}, recall {s.tp/(s.tp+s.fn):.2f}, false positive rate {s.fp/(s.fp+s.tn):.2f}, false negative rate {s.fn/(s.tp+s.fn):.2f}.')"
   ]
  },
  {
   "cell_type": "code",
   "execution_count": 121,
   "metadata": {},
   "outputs": [
    {
     "name": "stdout",
     "output_type": "stream",
     "text": [
      "Precision 0.72, accuracy 0.90, recall 0.77, false positive rate 0.07, false negative rate 0.23.\n"
     ]
    },
    {
     "data": {
      "image/png": "[encoded data removed]",
      "text/plain": [
       "<Figure size 432x288 with 2 Axes>"
      ]
     },
     "metadata": {},
     "output_type": "display_data"
    }
   ],
   "source": [
    "ys_1 = np.array([run_weak_classifier(x, weak_classifiers_3[4]) for x in test_xis])\n",
    "c, s = prediction_stats(test_ys, ys_1)\n",
    "\n",
    "sns.heatmap(c / c.sum(), cmap='YlGnBu', annot=True, square=True, fmt='.1%',\n",
    "            xticklabels=['Predicted negative', 'Predicted positive'], \n",
    "            yticklabels=['Negative', 'Positive'])\n",
    "plt.title(f'{weak_classifiers_3[4].classifier} alone');\n",
    "\n",
    "print(f'Precision {s.tp/(s.tp+s.fp):.2f}, accuracy {(s.tp+s.tn)/(s.tp+s.tn+s.fp+s.fn):.2f}, recall {s.tp/(s.tp+s.fn):.2f}, false positive rate {s.fp/(s.fp+s.tn):.2f}, false negative rate {s.fn/(s.tp+s.fn):.2f}.')"
   ]
  },
  {
   "cell_type": "code",
   "execution_count": 125,
   "metadata": {},
   "outputs": [
    {
     "name": "stdout",
     "output_type": "stream",
     "text": [
      "Precision 0.69, accuracy 0.91, recall 0.92, false positive rate 0.10, false negative rate 0.08.\n"
     ]
    },
    {
     "data": {
      "image/png": "[encoded data removed]",
      "text/plain": [
       "<Figure size 432x288 with 2 Axes>"
      ]
     },
     "metadata": {},
     "output_type": "display_data"
    }
   ],
   "source": [
    "ys_strong = np.array([strong_classifier(x, weak_classifiers_3) for x in test_xis])\n",
    "c, s = prediction_stats(test_ys, ys_strong)\n",
    "\n",
    "sns.heatmap(c / c.sum(), cmap='YlGnBu', annot=True, square=True, fmt='.1%',\n",
    "            xticklabels=['Predicted negative', 'Predicted positive'], \n",
    "            yticklabels=['Negative', 'Positive'])\n",
    "plt.title(f'Confusion matrix for the strong classifier (stage 2)');\n",
    "\n",
    "print(f'Precision {s.tp/(s.tp+s.fp):.2f}, accuracy {(s.tp+s.tn)/(s.tp+s.tn+s.fp+s.fn):.2f}, recall {s.tp/(s.tp+s.fn):.2f}, false positive rate {s.fp/(s.fp+s.tn):.2f}, false negative rate {s.fn/(s.tp+s.fn):.2f}.')"
   ]
  },
  {
   "cell_type": "code",
   "execution_count": 126,
   "metadata": {},
   "outputs": [
    {
     "name": "stdout",
     "output_type": "stream",
     "text": [
      "Precision 0.58, accuracy 0.86, recall 0.93, false positive rate 0.16, false negative rate 0.07.\n"
     ]
    },
    {
     "data": {
      "image/png": "[encoded data removed]",
      "text/plain": [
       "<Figure size 432x288 with 2 Axes>"
      ]
     },
     "metadata": {},
     "output_type": "display_data"
    }
   ],
   "source": [
    "ys_1 = np.array([run_weak_classifier(x, weak_classifiers_4[0]) for x in test_xis])\n",
    "c, s = prediction_stats(test_ys, ys_1)\n",
    "\n",
    "sns.heatmap(c / c.sum(), cmap='YlGnBu', annot=True, square=True, fmt='.1%',\n",
    "            xticklabels=['Predicted negative', 'Predicted positive'], \n",
    "            yticklabels=['Negative', 'Positive'])\n",
    "plt.title(f'{weak_classifiers_4[0].classifier} alone');\n",
    "\n",
    "print(f'Precision {s.tp/(s.tp+s.fp):.2f}, accuracy {(s.tp+s.tn)/(s.tp+s.tn+s.fp+s.fn):.2f}, recall {s.tp/(s.tp+s.fn):.2f}, false positive rate {s.fp/(s.fp+s.tn):.2f}, false negative rate {s.fn/(s.tp+s.fn):.2f}.')"
   ]
  },
  {
   "cell_type": "code",
   "execution_count": 127,
   "metadata": {},
   "outputs": [
    {
     "name": "stdout",
     "output_type": "stream",
     "text": [
      "Precision 0.32, accuracy 0.65, recall 0.75, false positive rate 0.37, false negative rate 0.25.\n"
     ]
    },
    {
     "data": {
      "image/png": "[encoded data removed]",
      "text/plain": [
       "<Figure size 432x288 with 2 Axes>"
      ]
     },
     "metadata": {},
     "output_type": "display_data"
    }
   ],
   "source": [
    "ys_1 = np.array([run_weak_classifier(x, weak_classifiers_4[1]) for x in test_xis])\n",
    "c, s = prediction_stats(test_ys, ys_1)\n",
    "\n",
    "sns.heatmap(c / c.sum(), cmap='YlGnBu', annot=True, square=True, fmt='.1%',\n",
    "            xticklabels=['Predicted negative', 'Predicted positive'], \n",
    "            yticklabels=['Negative', 'Positive'])\n",
    "plt.title(f'{weak_classifiers_4[1].classifier} alone');\n",
    "\n",
    "print(f'Precision {s.tp/(s.tp+s.fp):.2f}, accuracy {(s.tp+s.tn)/(s.tp+s.tn+s.fp+s.fn):.2f}, recall {s.tp/(s.tp+s.fn):.2f}, false positive rate {s.fp/(s.fp+s.tn):.2f}, false negative rate {s.fn/(s.tp+s.fn):.2f}.')"
   ]
  },
  {
   "cell_type": "code",
   "execution_count": 128,
   "metadata": {},
   "outputs": [
    {
     "name": "stdout",
     "output_type": "stream",
     "text": [
      "Precision 0.45, accuracy 0.78, recall 0.61, false positive rate 0.18, false negative rate 0.39.\n"
     ]
    },
    {
     "data": {
      "image/png": "[encoded data removed]",
      "text/plain": [
       "<Figure size 432x288 with 2 Axes>"
      ]
     },
     "metadata": {},
     "output_type": "display_data"
    }
   ],
   "source": [
    "ys_1 = np.array([run_weak_classifier(x, weak_classifiers_4[2]) for x in test_xis])\n",
    "c, s = prediction_stats(test_ys, ys_1)\n",
    "\n",
    "sns.heatmap(c / c.sum(), cmap='YlGnBu', annot=True, square=True, fmt='.1%',\n",
    "            xticklabels=['Predicted negative', 'Predicted positive'], \n",
    "            yticklabels=['Negative', 'Positive'])\n",
    "plt.title(f'{weak_classifiers_4[2].classifier} alone');\n",
    "\n",
    "print(f'Precision {s.tp/(s.tp+s.fp):.2f}, accuracy {(s.tp+s.tn)/(s.tp+s.tn+s.fp+s.fn):.2f}, recall {s.tp/(s.tp+s.fn):.2f}, false positive rate {s.fp/(s.fp+s.tn):.2f}, false negative rate {s.fn/(s.tp+s.fn):.2f}.')"
   ]
  },
  {
   "cell_type": "code",
   "execution_count": 129,
   "metadata": {},
   "outputs": [
    {
     "name": "stdout",
     "output_type": "stream",
     "text": [
      "Precision 0.48, accuracy 0.80, recall 0.81, false positive rate 0.20, false negative rate 0.19.\n"
     ]
    },
    {
     "data": {
      "image/png": "[encoded data removed]",
      "text/plain": [
       "<Figure size 432x288 with 2 Axes>"
      ]
     },
     "metadata": {},
     "output_type": "display_data"
    }
   ],
   "source": [
    "ys_1 = np.array([run_weak_classifier(x, weak_classifiers_4[3]) for x in test_xis])\n",
    "c, s = prediction_stats(test_ys, ys_1)\n",
    "\n",
    "sns.heatmap(c / c.sum(), cmap='YlGnBu', annot=True, square=True, fmt='.1%',\n",
    "            xticklabels=['Predicted negative', 'Predicted positive'], \n",
    "            yticklabels=['Negative', 'Positive'])\n",
    "plt.title(f'{weak_classifiers_4[3].classifier} alone');\n",
    "\n",
    "print(f'Precision {s.tp/(s.tp+s.fp):.2f}, accuracy {(s.tp+s.tn)/(s.tp+s.tn+s.fp+s.fn):.2f}, recall {s.tp/(s.tp+s.fn):.2f}, false positive rate {s.fp/(s.fp+s.tn):.2f}, false negative rate {s.fn/(s.tp+s.fn):.2f}.')"
   ]
  },
  {
   "cell_type": "code",
   "execution_count": 130,
   "metadata": {},
   "outputs": [
    {
     "name": "stdout",
     "output_type": "stream",
     "text": [
      "Precision 0.72, accuracy 0.90, recall 0.77, false positive rate 0.07, false negative rate 0.23.\n"
     ]
    },
    {
     "data": {
      "image/png": "[encoded data removed]",
      "text/plain": [
       "<Figure size 432x288 with 2 Axes>"
      ]
     },
     "metadata": {},
     "output_type": "display_data"
    }
   ],
   "source": [
    "ys_1 = np.array([run_weak_classifier(x, weak_classifiers_4[4]) for x in test_xis])\n",
    "c, s = prediction_stats(test_ys, ys_1)\n",
    "\n",
    "sns.heatmap(c / c.sum(), cmap='YlGnBu', annot=True, square=True, fmt='.1%',\n",
    "            xticklabels=['Predicted negative', 'Predicted positive'], \n",
    "            yticklabels=['Negative', 'Positive'])\n",
    "plt.title(f'{weak_classifiers_4[4].classifier} alone');\n",
    "\n",
    "print(f'Precision {s.tp/(s.tp+s.fp):.2f}, accuracy {(s.tp+s.tn)/(s.tp+s.tn+s.fp+s.fn):.2f}, recall {s.tp/(s.tp+s.fn):.2f}, false positive rate {s.fp/(s.fp+s.tn):.2f}, false negative rate {s.fn/(s.tp+s.fn):.2f}.')"
   ]
  },
  {
   "cell_type": "code",
   "execution_count": 131,
   "metadata": {},
   "outputs": [
    {
     "name": "stdout",
     "output_type": "stream",
     "text": [
      "Precision 0.27, accuracy 0.65, recall 0.48, false positive rate 0.32, false negative rate 0.52.\n"
     ]
    },
    {
     "data": {
      "image/png": "[encoded data removed]",
      "text/plain": [
       "<Figure size 432x288 with 2 Axes>"
      ]
     },
     "metadata": {},
     "output_type": "display_data"
    }
   ],
   "source": [
    "ys_1 = np.array([run_weak_classifier(x, weak_classifiers_4[5]) for x in test_xis])\n",
    "c, s = prediction_stats(test_ys, ys_1)\n",
    "\n",
    "sns.heatmap(c / c.sum(), cmap='YlGnBu', annot=True, square=True, fmt='.1%',\n",
    "            xticklabels=['Predicted negative', 'Predicted positive'], \n",
    "            yticklabels=['Negative', 'Positive'])\n",
    "plt.title(f'{weak_classifiers_4[5].classifier} alone');\n",
    "\n",
    "print(f'Precision {s.tp/(s.tp+s.fp):.2f}, accuracy {(s.tp+s.tn)/(s.tp+s.tn+s.fp+s.fn):.2f}, recall {s.tp/(s.tp+s.fn):.2f}, false positive rate {s.fp/(s.fp+s.tn):.2f}, false negative rate {s.fn/(s.tp+s.fn):.2f}.')"
   ]
  },
  {
   "cell_type": "code",
   "execution_count": 132,
   "metadata": {},
   "outputs": [
    {
     "name": "stdout",
     "output_type": "stream",
     "text": [
      "Precision 0.38, accuracy 0.70, recall 0.88, false positive rate 0.34, false negative rate 0.12.\n"
     ]
    },
    {
     "data": {
      "image/png": "[encoded data removed]",
      "text/plain": [
       "<Figure size 432x288 with 2 Axes>"
      ]
     },
     "metadata": {},
     "output_type": "display_data"
    }
   ],
   "source": [
    "ys_1 = np.array([run_weak_classifier(x, weak_classifiers_4[6]) for x in test_xis])\n",
    "c, s = prediction_stats(test_ys, ys_1)\n",
    "\n",
    "sns.heatmap(c / c.sum(), cmap='YlGnBu', annot=True, square=True, fmt='.1%',\n",
    "            xticklabels=['Predicted negative', 'Predicted positive'], \n",
    "            yticklabels=['Negative', 'Positive'])\n",
    "plt.title(f'{weak_classifiers_4[6].classifier} alone');\n",
    "\n",
    "print(f'Precision {s.tp/(s.tp+s.fp):.2f}, accuracy {(s.tp+s.tn)/(s.tp+s.tn+s.fp+s.fn):.2f}, recall {s.tp/(s.tp+s.fn):.2f}, false positive rate {s.fp/(s.fp+s.tn):.2f}, false negative rate {s.fn/(s.tp+s.fn):.2f}.')"
   ]
  },
  {
   "cell_type": "code",
   "execution_count": 133,
   "metadata": {},
   "outputs": [
    {
     "name": "stdout",
     "output_type": "stream",
     "text": [
      "Precision 0.29, accuracy 0.65, recall 0.57, false positive rate 0.33, false negative rate 0.43.\n"
     ]
    },
    {
     "data": {
      "image/png": "[encoded data removed]",
      "text/plain": [
       "<Figure size 432x288 with 2 Axes>"
      ]
     },
     "metadata": {},
     "output_type": "display_data"
    }
   ],
   "source": [
    "ys_1 = np.array([run_weak_classifier(x, weak_classifiers_4[7]) for x in test_xis])\n",
    "c, s = prediction_stats(test_ys, ys_1)\n",
    "\n",
    "sns.heatmap(c / c.sum(), cmap='YlGnBu', annot=True, square=True, fmt='.1%',\n",
    "            xticklabels=['Predicted negative', 'Predicted positive'], \n",
    "            yticklabels=['Negative', 'Positive'])\n",
    "plt.title(f'{weak_classifiers_4[7].classifier} alone');\n",
    "\n",
    "print(f'Precision {s.tp/(s.tp+s.fp):.2f}, accuracy {(s.tp+s.tn)/(s.tp+s.tn+s.fp+s.fn):.2f}, recall {s.tp/(s.tp+s.fn):.2f}, false positive rate {s.fp/(s.fp+s.tn):.2f}, false negative rate {s.fn/(s.tp+s.fn):.2f}.')"
   ]
  },
  {
   "cell_type": "code",
   "execution_count": 134,
   "metadata": {},
   "outputs": [
    {
     "name": "stdout",
     "output_type": "stream",
     "text": [
      "Precision 0.72, accuracy 0.90, recall 0.79, false positive rate 0.07, false negative rate 0.21.\n"
     ]
    },
    {
     "data": {
      "image/png": "[encoded data removed]",
      "text/plain": [
       "<Figure size 432x288 with 2 Axes>"
      ]
     },
     "metadata": {},
     "output_type": "display_data"
    }
   ],
   "source": [
    "ys_1 = np.array([run_weak_classifier(x, weak_classifiers_4[8]) for x in test_xis])\n",
    "c, s = prediction_stats(test_ys, ys_1)\n",
    "\n",
    "sns.heatmap(c / c.sum(), cmap='YlGnBu', annot=True, square=True, fmt='.1%',\n",
    "            xticklabels=['Predicted negative', 'Predicted positive'], \n",
    "            yticklabels=['Negative', 'Positive'])\n",
    "plt.title(f'{weak_classifiers_4[8].classifier} alone');\n",
    "\n",
    "print(f'Precision {s.tp/(s.tp+s.fp):.2f}, accuracy {(s.tp+s.tn)/(s.tp+s.tn+s.fp+s.fn):.2f}, recall {s.tp/(s.tp+s.fn):.2f}, false positive rate {s.fp/(s.fp+s.tn):.2f}, false negative rate {s.fn/(s.tp+s.fn):.2f}.')"
   ]
  },
  {
   "cell_type": "code",
   "execution_count": 135,
   "metadata": {},
   "outputs": [
    {
     "name": "stdout",
     "output_type": "stream",
     "text": [
      "Precision 0.33, accuracy 0.63, recall 0.89, false positive rate 0.43, false negative rate 0.11.\n"
     ]
    },
    {
     "data": {
      "image/png": "[encoded data removed]",
      "text/plain": [
       "<Figure size 432x288 with 2 Axes>"
      ]
     },
     "metadata": {},
     "output_type": "display_data"
    }
   ],
   "source": [
    "ys_1 = np.array([run_weak_classifier(x, weak_classifiers_4[9]) for x in test_xis])\n",
    "c, s = prediction_stats(test_ys, ys_1)\n",
    "\n",
    "sns.heatmap(c / c.sum(), cmap='YlGnBu', annot=True, square=True, fmt='.1%',\n",
    "            xticklabels=['Predicted negative', 'Predicted positive'], \n",
    "            yticklabels=['Negative', 'Positive'])\n",
    "plt.title(f'{weak_classifiers_4[9].classifier} alone');\n",
    "\n",
    "print(f'Precision {s.tp/(s.tp+s.fp):.2f}, accuracy {(s.tp+s.tn)/(s.tp+s.tn+s.fp+s.fn):.2f}, recall {s.tp/(s.tp+s.fn):.2f}, false positive rate {s.fp/(s.fp+s.tn):.2f}, false negative rate {s.fn/(s.tp+s.fn):.2f}.')"
   ]
  },
  {
   "cell_type": "code",
   "execution_count": 136,
   "metadata": {},
   "outputs": [
    {
     "name": "stdout",
     "output_type": "stream",
     "text": [
      "Precision 0.71, accuracy 0.91, recall 0.92, false positive rate 0.09, false negative rate 0.08.\n"
     ]
    },
    {
     "data": {
      "image/png": "[encoded data removed]",
      "text/plain": [
       "<Figure size 432x288 with 2 Axes>"
      ]
     },
     "metadata": {},
     "output_type": "display_data"
    }
   ],
   "source": [
    "ys_strong = np.array([strong_classifier(x, weak_classifiers_4) for x in test_xis])\n",
    "c, s = prediction_stats(test_ys, ys_strong)\n",
    "\n",
    "sns.heatmap(c / c.sum(), cmap='YlGnBu', annot=True, square=True, fmt='.1%',\n",
    "            xticklabels=['Predicted negative', 'Predicted positive'], \n",
    "            yticklabels=['Negative', 'Positive'])\n",
    "plt.title(f'Confusion matrix for the strong classifier (stage 2)');\n",
    "\n",
    "print(f'Precision {s.tp/(s.tp+s.fp):.2f}, accuracy {(s.tp+s.tn)/(s.tp+s.tn+s.fp+s.fn):.2f}, recall {s.tp/(s.tp+s.fn):.2f}, false positive rate {s.fp/(s.fp+s.tn):.2f}, false negative rate {s.fn/(s.tp+s.fn):.2f}.')"
   ]
  },
  {
   "cell_type": "code",
   "execution_count": null,
   "metadata": {},
   "outputs": [],
   "source": []
  }
 ],
 "metadata": {
  "kernelspec": {
   "display_name": "Python 3",
   "language": "python",
   "name": "python3"
  },
  "language_info": {
   "codemirror_mode": {
    "name": "ipython",
    "version": 3
   },
   "file_extension": ".py",
   "mimetype": "text/x-python",
   "name": "python",
   "nbconvert_exporter": "python",
   "pygments_lexer": "ipython3",
   "version": "3.7.4"
  }
 },
 "nbformat": 4,
 "nbformat_minor": 2
}
