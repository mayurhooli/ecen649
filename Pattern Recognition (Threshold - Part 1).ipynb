{
 "cells": [
  {
   "cell_type": "markdown",
   "metadata": {},
   "source": [
    "# Pattern Recognition Project"
   ]
  },
  {
   "cell_type": "code",
   "execution_count": 1,
   "metadata": {},
   "outputs": [],
   "source": [
    "%matplotlib inline\n",
    "\n",
    "import os\n",
    "import tarfile\n",
    "import shutil\n",
    "import hashlib\n",
    "import glob\n",
    "import random\n",
    "import pickle\n",
    "from datetime import datetime\n",
    "from typing import *\n",
    "\n",
    "from numba import jit\n",
    "import requests\n",
    "from joblib import Parallel, delayed\n",
    "from pathlib import Path\n",
    "from PIL import Image, ImageOps\n",
    "import numpy as np\n",
    "from sklearn.metrics import *\n",
    "\n",
    "import matplotlib.pyplot as plt\n",
    "import seaborn as sns\n",
    "\n",
    "sns.set_style(\"whitegrid\")\n",
    "sns.set_palette('muted')"
   ]
  },
  {
   "cell_type": "markdown",
   "metadata": {},
   "source": [
    "## Functions Used"
   ]
  },
  {
   "cell_type": "code",
   "execution_count": 2,
   "metadata": {},
   "outputs": [],
   "source": [
    "def to_float_array(img: Image.Image) -> np.ndarray:\n",
    "    return np.array(img).astype(np.float32) / 255.\n",
    "\n",
    "def to_image(values: np.ndarray) -> Image.Image:\n",
    "    return Image.fromarray(np.uint8(values * 255.))\n",
    "\n",
    "def gamma(values: np.ndarray, coeff: float=2.2) -> np.ndarray:\n",
    "    return values**(1./coeff)\n",
    "\n",
    "def gleam(values: np.ndarray) -> np.ndarray:\n",
    "    return np.sum(gamma(values), axis=2) / values.shape[2]\n",
    "\n",
    "def to_integral(img: np.ndarray) -> np.ndarray:\n",
    "    integral = np.cumsum(np.cumsum(img, axis=0), axis=1)\n",
    "    return np.pad(integral, (1, 1), 'constant', constant_values=(0, 0))[:-1, :-1]"
   ]
  },
  {
   "cell_type": "code",
   "execution_count": 3,
   "metadata": {},
   "outputs": [],
   "source": [
    "class Box:\n",
    "    def __init__(self, x: int, y: int, width: int, height: int):\n",
    "        self.coords_x = [x, x + width, x,          x + width]\n",
    "        self.coords_y = [y, y,         y + height, y + height]\n",
    "        self.coeffs   = [1, -1,        -1,         1]\n",
    "    \n",
    "    def __call__(self, integral_image: np.ndarray) -> float:\n",
    "        return np.sum(np.multiply(integral_image[self.coords_y, self.coords_x], self.coeffs))"
   ]
  },
  {
   "cell_type": "markdown",
   "metadata": {},
   "source": [
    "## Input Data"
   ]
  },
  {
   "cell_type": "markdown",
   "metadata": {},
   "source": [
    "We give the link to the directory where the training and test sets are stored and from there, we get the faces and non-faces for the training set"
   ]
  },
  {
   "cell_type": "code",
   "execution_count": 4,
   "metadata": {},
   "outputs": [],
   "source": [
    "data_dir=\"C:\\\\Courses\\\\ECEN649\\\\Project\\\\dataset\"\n",
    "train_data_dir=os.path.join(data_dir,\"trainset\")\n",
    "train_faces=os.path.join(train_data_dir,\"faces\")\n",
    "train_non_faces=os.path.join(train_data_dir,\"non-faces\")"
   ]
  },
  {
   "cell_type": "markdown",
   "metadata": {},
   "source": [
    "We find the number of samples for the faces and non-faces in the training data set"
   ]
  },
  {
   "cell_type": "code",
   "execution_count": 5,
   "metadata": {},
   "outputs": [
    {
     "data": {
      "text/plain": [
       "499"
      ]
     },
     "execution_count": 5,
     "metadata": {},
     "output_type": "execute_result"
    }
   ],
   "source": [
    "face_image_files = glob.glob(os.path.join(train_faces, '**', '*.png'), recursive=True)\n",
    "len(face_image_files)"
   ]
  },
  {
   "cell_type": "code",
   "execution_count": 6,
   "metadata": {},
   "outputs": [
    {
     "data": {
      "text/plain": [
       "2000"
      ]
     },
     "execution_count": 6,
     "metadata": {},
     "output_type": "execute_result"
    }
   ],
   "source": [
    "background_image_files=glob.glob(os.path.join(train_non_faces, '**', '*.png'), recursive=True)\n",
    "len(background_image_files)"
   ]
  },
  {
   "cell_type": "markdown",
   "metadata": {},
   "source": [
    "The pictures in the data set are 19×19. While the standard samples in Viola-Jones paper are 24×24, we adjust the window size based on the size of pictures we have"
   ]
  },
  {
   "cell_type": "code",
   "execution_count": 7,
   "metadata": {},
   "outputs": [],
   "source": [
    "WINDOW_SIZE=19"
   ]
  },
  {
   "cell_type": "markdown",
   "metadata": {},
   "source": [
    "We use the antialiasing on the image. This step may not be required as it doesn't add much value to the code, but was performed as a test."
   ]
  },
  {
   "cell_type": "code",
   "execution_count": 8,
   "metadata": {},
   "outputs": [],
   "source": [
    "def open_face(path: str, resize: bool=True) -> Image.Image:\n",
    "    \n",
    "    img = Image.open(path)\n",
    "    img = to_image(gamma(to_float_array(img)[:, :]))\n",
    "    min_size = np.min(img.size)\n",
    "    img = ImageOps.fit(img, (min_size, min_size), Image.ANTIALIAS)\n",
    "    if resize:\n",
    "        img = img.resize((WINDOW_SIZE, WINDOW_SIZE), Image.ANTIALIAS)\n",
    "    return img.convert('L')"
   ]
  },
  {
   "cell_type": "markdown",
   "metadata": {},
   "source": [
    "We stitch the images together just to make a sense of this"
   ]
  },
  {
   "cell_type": "code",
   "execution_count": 9,
   "metadata": {},
   "outputs": [],
   "source": [
    "def merge_images(files: Iterable[str], open_fun: Callable, resize: bool=False) -> Image.Image:\n",
    "    images = [open_fun(f, resize) for f in files]\n",
    "    sizes = [img.size for img in images]\n",
    "    collage_width = np.sum([size[0] for size in sizes])\n",
    "    collage_height = np.max([size[1] for size in sizes])\n",
    "\n",
    "    result = Image.new('L', (collage_width, collage_height))\n",
    "    x_offset = 0\n",
    "    for img, size in zip(images, sizes):\n",
    "        result.paste(im=img, box=(x_offset, 0))\n",
    "        x_offset += size[0]\n",
    "    return result"
   ]
  },
  {
   "cell_type": "code",
   "execution_count": 10,
   "metadata": {},
   "outputs": [
    {
     "data": {
      "image/png": "[encoded data removed]",
      "text/plain": [
       "<PIL.Image.Image image mode=L size=95x19 at 0x22AE991FA48>"
      ]
     },
     "execution_count": 10,
     "metadata": {},
     "output_type": "execute_result"
    }
   ],
   "source": [
    "random.seed(1000)\n",
    "random_face_files = random.sample(face_image_files, 5)\n",
    "merge_images(random_face_files, open_face)"
   ]
  },
  {
   "cell_type": "markdown",
   "metadata": {},
   "source": [
    "We do the same process for the background"
   ]
  },
  {
   "cell_type": "code",
   "execution_count": 11,
   "metadata": {},
   "outputs": [],
   "source": [
    "def random_crop(img: Image.Image) -> Image.Image:\n",
    "    max_allowed_size = np.min(img.size)\n",
    "    size = random.randint(WINDOW_SIZE, max_allowed_size)\n",
    "    max_width = img.size[0] - size - 1\n",
    "    max_height = img.size[1] - size - 1\n",
    "    left = 0 if (max_width <= 1)  else random.randint(0, max_width)\n",
    "    top  = 0 if (max_height <= 1) else random.randint(0, max_height)\n",
    "    return img.crop((left,top,left+size,top+size))\n",
    "\n",
    "def open_background(path: str, resize: bool=True) -> Image.Image:\n",
    "    img = Image.open(path)\n",
    "    #img = to_image(gleam(to_float_array(img)))\n",
    "    img = random_crop(img)\n",
    "    if resize:\n",
    "        img = img.resize((WINDOW_SIZE, WINDOW_SIZE), Image.ANTIALIAS)\n",
    "    return img.convert('L')"
   ]
  },
  {
   "cell_type": "code",
   "execution_count": 12,
   "metadata": {},
   "outputs": [
    {
     "data": {
      "image/png": "[encoded data removed]",
      "text/plain": [
       "<PIL.Image.Image image mode=L size=95x19 at 0x22AE992D288>"
      ]
     },
     "execution_count": 12,
     "metadata": {},
     "output_type": "execute_result"
    }
   ],
   "source": [
    "random.seed(1000)\n",
    "random_background_files = random.sample(background_image_files, 5)\n",
    "merge_images(random_background_files, open_background)"
   ]
  },
  {
   "cell_type": "markdown",
   "metadata": {},
   "source": [
    "## Training the Classifier"
   ]
  },
  {
   "cell_type": "markdown",
   "metadata": {},
   "source": [
    "Before we can start the training process, we need to define the features in a way they can actually be evaluated. For this we're going to construct a class for each feature type and then parameterize it according to all possible values, yielding about 160k instances. The best features will be picked later by exhaustive search."
   ]
  },
  {
   "cell_type": "code",
   "execution_count": 13,
   "metadata": {},
   "outputs": [],
   "source": [
    "class Feature:\n",
    "    def __init__(self, x: int, y: int, width: int, height: int):\n",
    "        self.x = x\n",
    "        self.y = y\n",
    "        self.width = width\n",
    "        self.height = height\n",
    "    \n",
    "    def __call__(self, integral_image: np.ndarray) -> float:\n",
    "        try:\n",
    "            return np.sum(np.multiply(integral_image[self.coords_y, self.coords_x], self.coeffs))\n",
    "        except IndexError as e:\n",
    "            raise IndexError(str(e) + ' in ' + str(self))\n",
    "    \n",
    "    def __repr__(self):\n",
    "        return f'{self.__class__.__name__}(x={self.x}, y={self.y}, width={self.width}, height={self.height})'"
   ]
  },
  {
   "cell_type": "markdown",
   "metadata": {},
   "source": [
    "With this base class we can define our features:"
   ]
  },
  {
   "cell_type": "code",
   "execution_count": 14,
   "metadata": {},
   "outputs": [],
   "source": [
    "class Feature2h(Feature):\n",
    "    def __init__(self, x: int, y: int, width: int, height: int):\n",
    "        super().__init__(x, y, width, height)\n",
    "        hw = width // 2\n",
    "        self.coords_x = [x,      x + hw,     x,          x + hw,\n",
    "                         x + hw, x + width,  x + hw,     x + width]\n",
    "        self.coords_y = [y,      y,          y + height, y + height,\n",
    "                         y,      y,          y + height, y + height]\n",
    "        self.coeffs   = [1,     -1,         -1,          1,\n",
    "                         -1,     1,          1,         -1]"
   ]
  },
  {
   "cell_type": "code",
   "execution_count": 15,
   "metadata": {},
   "outputs": [],
   "source": [
    "class Feature2v(Feature):\n",
    "    def __init__(self, x: int, y: int, width: int, height: int):\n",
    "        super().__init__(x, y, width, height)\n",
    "        hh = height // 2        \n",
    "        self.coords_x = [x,      x + width,  x,          x + width,\n",
    "                         x,      x + width,  x,          x + width]\n",
    "        self.coords_y = [y,      y,          y + hh,     y + hh,\n",
    "                         y + hh, y + hh,     y + height, y + height]\n",
    "        self.coeffs   = [-1,     1,          1,         -1,\n",
    "                         1,     -1,         -1,          1]"
   ]
  },
  {
   "cell_type": "code",
   "execution_count": 16,
   "metadata": {},
   "outputs": [],
   "source": [
    "class Feature3h(Feature):\n",
    "    def __init__(self, x: int, y: int, width: int, height: int):\n",
    "        super().__init__(x, y, width, height)\n",
    "        tw = width // 3\n",
    "        self.coords_x = [x,        x + tw,    x,          x + tw,\n",
    "                         x + tw,   x + 2*tw,  x + tw,     x + 2*tw,\n",
    "                         x + 2*tw, x + width, x + 2*tw,   x + width]\n",
    "        self.coords_y = [y,        y,         y + height, y + height,\n",
    "                         y,        y,         y + height, y + height,\n",
    "                         y,        y,         y + height, y + height]\n",
    "        self.coeffs   = [-1,       1,         1,         -1,\n",
    "                          1,      -1,        -1,          1,\n",
    "                         -1,       1,         1,         -1]"
   ]
  },
  {
   "cell_type": "code",
   "execution_count": 17,
   "metadata": {},
   "outputs": [],
   "source": [
    "class Feature3v(Feature):\n",
    "    def __init__(self, x: int, y: int, width: int, height: int):\n",
    "        super().__init__(x, y, width, height)\n",
    "        th = height // 3\n",
    "        self.coords_x = [x,        x + width,  x,          x + width,\n",
    "                         x,        x + width,  x,          x + width,\n",
    "                         x,        x + width,  x,          x + width]\n",
    "        self.coords_y = [y,        y,          y + th,     y + th,\n",
    "                         y + th,   y + th,     y + 2*th,   y + 2*th,\n",
    "                         y + 2*th, y + 2*th,   y + height, y + height]\n",
    "        self.coeffs   = [-1,        1,         1,         -1,\n",
    "                          1,       -1,        -1,          1,\n",
    "                         -1,        1,         1,         -1]"
   ]
  },
  {
   "cell_type": "code",
   "execution_count": 18,
   "metadata": {},
   "outputs": [],
   "source": [
    "class Feature4(Feature):\n",
    "    def __init__(self, x: int, y: int, width: int, height: int):\n",
    "        super().__init__(x, y, width, height)\n",
    "        hw = width // 2\n",
    "        hh = height // 2\n",
    "        self.coords_x = [x,      x + hw,     x,          x + hw,     # upper row\n",
    "                         x + hw, x + width,  x + hw,     x + width,\n",
    "                         x,      x + hw,     x,          x + hw,     # lower row\n",
    "                         x + hw, x + width,  x + hw,     x + width]\n",
    "        self.coords_y = [y,      y,          y + hh,     y + hh,     # upper row\n",
    "                         y,      y,          y + hh,     y + hh,\n",
    "                         y + hh, y + hh,     y + height, y + height, # lower row\n",
    "                         y + hh, y + hh,     y + height, y + height]\n",
    "        self.coeffs   = [1,     -1,         -1,          1,          # upper row\n",
    "                         -1,     1,          1,         -1,\n",
    "                         -1,     1,          1,         -1,          # lower row\n",
    "                          1,    -1,         -1,          1]"
   ]
  },
  {
   "cell_type": "code",
   "execution_count": 19,
   "metadata": {},
   "outputs": [
    {
     "data": {
      "text/plain": [
       "-2"
      ]
     },
     "execution_count": 19,
     "metadata": {},
     "output_type": "execute_result"
    }
   ],
   "source": [
    "Feature4(0, 0, 2, 2)(to_integral(np.array([[0, 1], \n",
    "                                           [1, 0]])))"
   ]
  },
  {
   "cell_type": "markdown",
   "metadata": {},
   "source": [
    "We will now instantiate the feature detectors."
   ]
  },
  {
   "cell_type": "code",
   "execution_count": 20,
   "metadata": {},
   "outputs": [],
   "source": [
    "Size = NamedTuple('Size', [('height', int), ('width', int)])\n",
    "Location = NamedTuple('Location', [('top', int), ('left', int)])\n",
    "\n",
    "def possible_position(size: int, window_size: int = WINDOW_SIZE) -> Iterable[int]:\n",
    "    return range(0, window_size - size + 1)\n",
    "\n",
    "def possible_locations(base_shape: Size, window_size: int = WINDOW_SIZE) -> Iterable[Location]:\n",
    "    return (Location(left=x, top=y)\n",
    "            for x in possible_position(base_shape.width, window_size) \n",
    "            for y in possible_position(base_shape.height, window_size))\n",
    "\n",
    "def possible_shapes(base_shape: Size, window_size: int = WINDOW_SIZE) -> Iterable[Size]:\n",
    "    base_height = base_shape.height\n",
    "    base_width = base_shape.width\n",
    "    return (Size(height=height, width=width)\n",
    "            for width in range(base_width, window_size + 1, base_width)\n",
    "            for height in range(base_height, window_size + 1, base_height))"
   ]
  },
  {
   "cell_type": "markdown",
   "metadata": {},
   "source": [
    "We can instantiate all possible shapes of the feature:"
   ]
  },
  {
   "cell_type": "code",
   "execution_count": 21,
   "metadata": {},
   "outputs": [
    {
     "name": "stdout",
     "output_type": "stream",
     "text": [
      "Number of feature2h features: 17100\n",
      "Number of feature2v features: 17100\n",
      "Number of feature3h features: 10830\n",
      "Number of feature3v features: 10830\n",
      "Number of feature4 features:  8100\n",
      "Total number of features:     63960\n"
     ]
    }
   ],
   "source": [
    "feature2h = list(Feature2h(location.left, location.top, shape.width, shape.height)\n",
    "                 for shape in possible_shapes(Size(height=1, width=2), WINDOW_SIZE)\n",
    "                 for location in possible_locations(shape, WINDOW_SIZE))\n",
    "\n",
    "feature2v = list(Feature2v(location.left, location.top, shape.width, shape.height)\n",
    "                 for shape in possible_shapes(Size(height=2, width=1), WINDOW_SIZE)\n",
    "                 for location in possible_locations(shape, WINDOW_SIZE))\n",
    "\n",
    "feature3h = list(Feature3h(location.left, location.top, shape.width, shape.height)\n",
    "                 for shape in possible_shapes(Size(height=1, width=3), WINDOW_SIZE)\n",
    "                 for location in possible_locations(shape, WINDOW_SIZE))\n",
    "\n",
    "feature3v = list(Feature3v(location.left, location.top, shape.width, shape.height)\n",
    "                 for shape in possible_shapes(Size(height=3, width=1), WINDOW_SIZE)\n",
    "                 for location in possible_locations(shape, WINDOW_SIZE))\n",
    "\n",
    "feature4  = list(Feature4(location.left, location.top, shape.width, shape.height)\n",
    "                 for shape in possible_shapes(Size(height=2, width=2), WINDOW_SIZE)\n",
    "                 for location in possible_locations(shape, WINDOW_SIZE))\n",
    "\n",
    "features = feature2h + feature2v + feature3h + feature3v + feature4\n",
    "\n",
    "print(f'Number of feature2h features: {len(feature2h)}')\n",
    "print(f'Number of feature2v features: {len(feature2v)}')\n",
    "print(f'Number of feature3h features: {len(feature3h)}')\n",
    "print(f'Number of feature3v features: {len(feature3v)}')\n",
    "print(f'Number of feature4 features:  {len(feature4)}')\n",
    "print(f'Total number of features:     {len(features)}')"
   ]
  },
  {
   "cell_type": "markdown",
   "metadata": {},
   "source": [
    "These are the number of features we have obtained. This is our first result."
   ]
  },
  {
   "cell_type": "markdown",
   "metadata": {},
   "source": [
    "## Sampling Data"
   ]
  },
  {
   "cell_type": "markdown",
   "metadata": {},
   "source": [
    "For training, we want to online sample training data. We start by defining a function to sample examples:"
   ]
  },
  {
   "cell_type": "code",
   "execution_count": 22,
   "metadata": {},
   "outputs": [],
   "source": [
    "def sample_data(p: int, n: int) -> Tuple[np.ndarray, np.ndarray]:\n",
    "    xs = []\n",
    "    xs.extend([to_float_array(open_face(f)) for f in random.sample(face_image_files, p)])\n",
    "    xs.extend([to_float_array(open_background(f)) for f in np.random.choice(background_image_files, n, replace=True)])\n",
    "\n",
    "    ys = np.hstack([np.ones((p,)), np.zeros((n,))])\n",
    "    return np.array(xs), ys"
   ]
  },
  {
   "cell_type": "markdown",
   "metadata": {},
   "source": [
    "In order to compensate for lighting differences, we variance normalize the training data. For this we obtain a sample mean and standard deviation from the training set:"
   ]
  },
  {
   "cell_type": "code",
   "execution_count": 23,
   "metadata": {},
   "outputs": [
    {
     "name": "stdout",
     "output_type": "stream",
     "text": [
      "Sample mean: 0.47778645157814026, standard deviation: 0.22844739258289337\n"
     ]
    }
   ],
   "source": [
    "image_samples, _ = sample_data(499, 2000)\n",
    "\n",
    "sample_mean = image_samples.mean()\n",
    "sample_std = image_samples.std()\n",
    "del image_samples\n",
    "\n",
    "print(f'Sample mean: {sample_mean}, standard deviation: {sample_std}')"
   ]
  },
  {
   "cell_type": "code",
   "execution_count": 24,
   "metadata": {},
   "outputs": [],
   "source": [
    "def normalize(im: np.ndarray, mean: float = sample_mean, std: float = sample_std) -> np.ndarray:\n",
    "    return (im - mean) / std\n",
    "\n",
    "def sample_data_normalized(p: int, n: int, mean: float = sample_mean, std: float = sample_std) -> Tuple[np.ndarray, np.ndarray]:\n",
    "    xs, ys = sample_data(p, n)\n",
    "    xs = normalize(xs, mean, std)\n",
    "    return xs, ys"
   ]
  },
  {
   "cell_type": "markdown",
   "metadata": {},
   "source": [
    "Using normalization, we expect to see approximately zero mean and unit variance:"
   ]
  },
  {
   "cell_type": "code",
   "execution_count": 25,
   "metadata": {},
   "outputs": [
    {
     "name": "stdout",
     "output_type": "stream",
     "text": [
      "Example mean: 0.35005688667297363, standard deviation: 0.9446033835411072\n"
     ]
    }
   ],
   "source": [
    "xs, _ = sample_data_normalized(100, 100)\n",
    "\n",
    "print(f'Example mean: {xs.mean()}, standard deviation: {xs.std()}')\n",
    "del xs\n",
    "del _"
   ]
  },
  {
   "cell_type": "markdown",
   "metadata": {},
   "source": [
    "## Adaboost"
   ]
  },
  {
   "cell_type": "code",
   "execution_count": 26,
   "metadata": {},
   "outputs": [],
   "source": [
    "random.seed(18151210)\n",
    "np.random.seed(18151210)\n",
    "xs, ys = sample_data_normalized(499, 2000)"
   ]
  },
  {
   "cell_type": "markdown",
   "metadata": {},
   "source": [
    "Convert image to integral images"
   ]
  },
  {
   "cell_type": "code",
   "execution_count": 27,
   "metadata": {},
   "outputs": [
    {
     "data": {
      "text/plain": [
       "((2499, 19, 19), (2499, 20, 20))"
      ]
     },
     "execution_count": 27,
     "metadata": {},
     "output_type": "execute_result"
    }
   ],
   "source": [
    "xis = np.array([to_integral(x) for x in xs])\n",
    "xs.shape, xis.shape"
   ]
  },
  {
   "cell_type": "code",
   "execution_count": 28,
   "metadata": {},
   "outputs": [
    {
     "name": "stdout",
     "output_type": "stream",
     "text": [
      "<generator object <genexpr> at 0x0000022AEC29F0C8>\n"
     ]
    }
   ],
   "source": [
    "print(to_integral(x) for x in xs)"
   ]
  },
  {
   "cell_type": "markdown",
   "metadata": {},
   "source": [
    "In order to get a feeling for our dataset sample, here's what the average face looks like:"
   ]
  },
  {
   "cell_type": "code",
   "execution_count": 29,
   "metadata": {},
   "outputs": [
    {
     "data": {
      "image/png": "[encoded data removed]",
      "text/plain": [
       "<PIL.Image.Image image mode=L size=100x100 at 0x22AEC2FCB48>"
      ]
     },
     "execution_count": 29,
     "metadata": {},
     "output_type": "execute_result"
    }
   ],
   "source": [
    "average_face = np.sum(xs[ys > .6], axis=0) / xs[ys > .6].shape[0]\n",
    "average_face = (average_face - average_face.min()) / (average_face.max() - average_face.min())\n",
    "to_image(average_face).resize((100, 100))"
   ]
  },
  {
   "cell_type": "markdown",
   "metadata": {},
   "source": [
    "Here's the same image antialiased."
   ]
  },
  {
   "cell_type": "code",
   "execution_count": 30,
   "metadata": {},
   "outputs": [
    {
     "data": {
      "image/png": "[encoded data removed]",
      "text/plain": [
       "<PIL.Image.Image image mode=L size=100x100 at 0x22AEC2FC688>"
      ]
     },
     "execution_count": 30,
     "metadata": {},
     "output_type": "execute_result"
    }
   ],
   "source": [
    "to_image(average_face).resize((100, 100), Image.ANTIALIAS)"
   ]
  },
  {
   "cell_type": "markdown",
   "metadata": {},
   "source": [
    "Running the same for background, we get the following."
   ]
  },
  {
   "cell_type": "code",
   "execution_count": 31,
   "metadata": {},
   "outputs": [
    {
     "data": {
      "image/png": "[encoded data removed]",
      "text/plain": [
       "<PIL.Image.Image image mode=L size=100x100 at 0x22AE9955688>"
      ]
     },
     "execution_count": 31,
     "metadata": {},
     "output_type": "execute_result"
    }
   ],
   "source": [
    "average_background = np.sum(xs[ys < .6], axis=0) / xs[ys < .6].shape[0]\n",
    "average_background = (average_background - average_background.min()) / (average_background.max() - average_background.min())\n",
    "to_image(average_background).resize((100, 100), Image.ANTIALIAS)"
   ]
  },
  {
   "cell_type": "markdown",
   "metadata": {},
   "source": [
    "We also define some helper types to use later."
   ]
  },
  {
   "cell_type": "code",
   "execution_count": 32,
   "metadata": {},
   "outputs": [],
   "source": [
    "ThresholdPolarity = NamedTuple('ThresholdPolarity', [('threshold', float), ('polarity', float)])\n",
    "\n",
    "ClassifierResult = NamedTuple('ClassifierResult', [('threshold', float), ('polarity', int), \n",
    "                                                   ('classification_error', float),\n",
    "                                                   ('classifier', Callable[[np.ndarray], float])])\n",
    "\n",
    "WeakClassifier = NamedTuple('WeakClassifier', [('threshold', float), ('polarity', int), \n",
    "                                               ('alpha', float), \n",
    "                                               ('classifier', Callable[[np.ndarray], float])])"
   ]
  },
  {
   "cell_type": "markdown",
   "metadata": {},
   "source": [
    "Adaboost turns weak learners to strong learners. Here, we define the function for weak learners."
   ]
  },
  {
   "cell_type": "code",
   "execution_count": 33,
   "metadata": {},
   "outputs": [],
   "source": [
    "@jit\n",
    "def weak_classifier(x: np.ndarray, f: Feature, polarity: float, theta: float) -> float:\n",
    "    # return 1. if (polarity * f(x)) < (polarity * theta) else 0.\n",
    "    return (np.sign((polarity * theta) - (polarity * f(x))) + 1) // 2\n",
    "\n",
    "@jit\n",
    "def run_weak_classifier(x: np.ndarray, c: WeakClassifier) -> float:\n",
    "    return weak_classifier(x=x, f=c.classifier, polarity=c.polarity, theta=c.threshold)"
   ]
  },
  {
   "cell_type": "code",
   "execution_count": 34,
   "metadata": {},
   "outputs": [],
   "source": [
    "@jit\n",
    "def strong_classifier(x: np.ndarray, weak_classifiers: List[WeakClassifier]) -> int:\n",
    "    sum_hypotheses = 0.\n",
    "    sum_alphas = 0.\n",
    "    for c in weak_classifiers:\n",
    "        sum_hypotheses += c.alpha * run_weak_classifier(x, c)\n",
    "        sum_alphas += c.alpha\n",
    "    return 1 if (sum_hypotheses >= .5*sum_alphas) else 0"
   ]
  },
  {
   "cell_type": "markdown",
   "metadata": {},
   "source": [
    "We regularly need to renomarlize the input weights to obtain a probability distribution:"
   ]
  },
  {
   "cell_type": "code",
   "execution_count": 35,
   "metadata": {},
   "outputs": [],
   "source": [
    "def normalize_weights(w: np.ndarray) -> np.ndarray:\n",
    "    return w / w.sum()"
   ]
  },
  {
   "cell_type": "markdown",
   "metadata": {},
   "source": [
    "We also define the best threshold and polarity.\n",
    "We have changed the threshold from 0.5 to 0.6 here and have adjusted the same to other places."
   ]
  },
  {
   "cell_type": "code",
   "execution_count": 36,
   "metadata": {},
   "outputs": [],
   "source": [
    "@jit\n",
    "def build_running_sums(ys: np.ndarray, ws: np.ndarray) -> Tuple[float, float, List[float], List[float]]:\n",
    "    s_minus, s_plus = 0., 0.\n",
    "    t_minus, t_plus = 0., 0.\n",
    "    s_minuses, s_pluses = [], []\n",
    "    \n",
    "    for y, w in zip(ys, ws):\n",
    "        if y < .6:\n",
    "            s_minus += w\n",
    "            t_minus += w\n",
    "        else:\n",
    "            s_plus += w\n",
    "            t_plus += w\n",
    "        s_minuses.append(s_minus)\n",
    "        s_pluses.append(s_plus)\n",
    "    return t_minus, t_plus, s_minuses, s_pluses\n",
    "\n",
    "\n",
    "@jit\n",
    "def find_best_threshold(zs: np.ndarray, t_minus: float, t_plus: float, s_minuses: List[float], s_pluses: List[float]) -> ThresholdPolarity:\n",
    "    min_e = float('inf')\n",
    "    min_z, polarity = 0, 0\n",
    "    for z, s_m, s_p in zip(zs, s_minuses, s_pluses):\n",
    "        error_1 = s_p + (t_minus - s_m)\n",
    "        error_2 = s_m + (t_plus - s_p)\n",
    "        if error_1 < min_e:\n",
    "            min_e = error_1\n",
    "            min_z = z\n",
    "            polarity = -1\n",
    "        elif error_2 < min_e:\n",
    "            min_e = error_2\n",
    "            min_z = z\n",
    "            polarity = 1\n",
    "    return ThresholdPolarity(threshold=min_z, polarity=polarity)\n",
    "\n",
    "\n",
    "def determine_threshold_polarity(ys: np.ndarray, ws: np.ndarray, zs: np.ndarray) -> ThresholdPolarity:  \n",
    "    # Sort according to score\n",
    "    p = np.argsort(zs)\n",
    "    zs, ys, ws = zs[p], ys[p], ws[p]\n",
    "    \n",
    "    # Determine the best threshold: build running sums\n",
    "    t_minus, t_plus, s_minuses, s_pluses = build_running_sums(ys, ws)\n",
    "    \n",
    "    # Determine the best threshold: select optimal threshold.\n",
    "    return find_best_threshold(zs, t_minus, t_plus, s_minuses, s_pluses)"
   ]
  },
  {
   "cell_type": "markdown",
   "metadata": {},
   "source": [
    "With this, we can determine the weighted error alongside the best threshold and polarity for a feature:"
   ]
  },
  {
   "cell_type": "code",
   "execution_count": 37,
   "metadata": {},
   "outputs": [],
   "source": [
    "def apply_feature(f: Feature, xis: np.ndarray, ys: np.ndarray, ws: np.ndarray, parallel: Optional[Parallel] = None) -> ClassifierResult:   \n",
    "    if parallel is None:\n",
    "        parallel = Parallel(n_jobs=-1, backend='threading')\n",
    "    \n",
    "    # Determine all feature values\n",
    "    zs = np.array(parallel(delayed(f)(x) for x in xis))\n",
    "    \n",
    "    # Determine the best threshold\n",
    "    result = determine_threshold_polarity(ys, ws, zs)\n",
    "            \n",
    "    # Determine the classification error\n",
    "    classification_error = 0.\n",
    "    for x, y, w in zip(xis, ys, ws):\n",
    "        h = weak_classifier(x, f, result.polarity, result.threshold)\n",
    "        classification_error += w * np.abs(h - y)\n",
    "            \n",
    "    return ClassifierResult(threshold=result.threshold, polarity=result.polarity, \n",
    "                            classification_error=classification_error, classifier=f)"
   ]
  },
  {
   "cell_type": "code",
   "execution_count": 38,
   "metadata": {},
   "outputs": [],
   "source": [
    "STATUS_EVERY     = 2000\n",
    "KEEP_PROBABILITY = 1./4.\n",
    "\n",
    "def build_weak_classifiers(prefix: str, num_features: int, xis: np.ndarray, ys: np.ndarray, features: List[Feature], ws: Optional[np.ndarray] = None) -> Tuple[List[WeakClassifier], List[float]]:\n",
    "    if ws is None:\n",
    "        m = len(ys[ys < .6])  # number of negative example\n",
    "        l = len(ys[ys > .6])  # number of positive examples\n",
    "\n",
    "        # Initialize the weights\n",
    "        ws = np.zeros_like(ys)\n",
    "        ws[ys < .6] = 1./(2.*m)\n",
    "        ws[ys > .6] = 1./(2.*l)\n",
    "    \n",
    "    # Keep track of the history of the example weights.\n",
    "    w_history = [ws]\n",
    "\n",
    "    total_start_time = datetime.now()\n",
    "    with Parallel(n_jobs=-1, backend='threading') as parallel:\n",
    "        weak_classifiers = []  # type: List[WeakClassifier]\n",
    "        for t in range(num_features):\n",
    "            print(f'Building weak classifier {t+1}/{num_features} ...')\n",
    "            start_time = datetime.now()\n",
    "            \n",
    "            # Normalize the weights\n",
    "            ws = normalize_weights(ws)\n",
    "            \n",
    "            status_counter = STATUS_EVERY\n",
    "\n",
    "            # Select best weak classifier for this round\n",
    "            best = ClassifierResult(polarity=0, threshold=0, classification_error=float('inf'), classifier=None)\n",
    "            for i, f in enumerate(features):\n",
    "                status_counter -= 1\n",
    "                improved = False\n",
    "\n",
    "                # Python runs singlethreaded. To speed things up,\n",
    "                # we're only anticipating every other feature, give or take.\n",
    "                if KEEP_PROBABILITY < 1.:\n",
    "                    skip_probability = np.random.random()\n",
    "                    if skip_probability > KEEP_PROBABILITY:\n",
    "                        continue\n",
    "\n",
    "                result = apply_feature(f, xis, ys, ws, parallel)\n",
    "                if result.classification_error < best.classification_error:\n",
    "                    improved = True\n",
    "                    best = result\n",
    "\n",
    "                # Print status every couple of iterations.\n",
    "                if improved or status_counter == 0:\n",
    "                    current_time = datetime.now()\n",
    "                    duration = current_time - start_time\n",
    "                    total_duration = current_time - total_start_time\n",
    "                    status_counter = STATUS_EVERY\n",
    "                    if improved:\n",
    "                        print(f't={t+1}/{num_features} {total_duration.total_seconds():.2f}s ({duration.total_seconds():.2f}s in this stage) {i+1}/{len(features)} {100*i/len(features):.2f}% evaluated. Classification error improved to {best.classification_error:.5f} using {str(best.classifier)} ...')\n",
    "                    else:\n",
    "                        print(f't={t+1}/{num_features} {total_duration.total_seconds():.2f}s ({duration.total_seconds():.2f}s in this stage) {i+1}/{len(features)} {100*i/len(features):.2f}% evaluated.')\n",
    "\n",
    "            # After the best classifier was found, determine alpha\n",
    "            beta = best.classification_error / (1 - best.classification_error)\n",
    "            alpha = np.log(1. / beta)\n",
    "            \n",
    "            # Build the weak classifier\n",
    "            classifier = WeakClassifier(threshold=best.threshold, polarity=best.polarity, classifier=best.classifier, alpha=alpha)\n",
    "            \n",
    "            # Update the weights for misclassified examples\n",
    "            for i, (x, y) in enumerate(zip(xis, ys)):\n",
    "                h = run_weak_classifier(x, classifier)\n",
    "                e = np.abs(h - y)\n",
    "                ws[i] = ws[i] * np.power(beta, 1-e)\n",
    "                \n",
    "            # Register this weak classifier           \n",
    "            weak_classifiers.append(classifier)\n",
    "            w_history.append(ws)\n",
    "        \n",
    "            pickle.dump(classifier, open(f'{prefix}-weak-learner-{t+1}-of-{num_features}.pickle', 'wb'))\n",
    "    \n",
    "    print(f'Done building {num_features} weak classifiers.')\n",
    "    return weak_classifiers, w_history"
   ]
  },
  {
   "cell_type": "code",
   "execution_count": 39,
   "metadata": {},
   "outputs": [],
   "source": [
    "random.seed(1337)\n",
    "np.random.seed(1337)\n",
    "test_xs, test_ys = sample_data_normalized(499, 2000)\n",
    "test_xis = np.array([to_integral(x) for x in test_xs])"
   ]
  },
  {
   "cell_type": "code",
   "execution_count": 41,
   "metadata": {},
   "outputs": [
    {
     "name": "stdout",
     "output_type": "stream",
     "text": [
      "Building weak classifier 1/5 ...\n",
      "t=1/5 0.68s (0.68s in this stage) 5/63960 0.01% evaluated. Classification error improved to 0.29056 using Feature2h(x=0, y=4, width=2, height=1) ...\n",
      "t=1/5 23.00s (23.00s in this stage) 104/63960 0.16% evaluated. Classification error improved to 0.23315 using Feature2h(x=5, y=8, width=2, height=1) ...\n",
      "t=1/5 32.37s (32.37s in this stage) 158/63960 0.25% evaluated. Classification error improved to 0.20190 using Feature2h(x=8, y=5, width=2, height=1) ...\n",
      "t=1/5 93.43s (93.43s in this stage) 490/63960 0.76% evaluated. Classification error improved to 0.18037 using Feature2h(x=8, y=3, width=2, height=2) ...\n",
      "t=1/5 261.54s (261.54s in this stage) 1385/63960 2.16% evaluated. Classification error improved to 0.17734 using Feature2h(x=8, y=4, width=2, height=5) ...\n",
      "t=1/5 350.98s (350.98s in this stage) 1891/63960 2.95% evaluated. Classification error improved to 0.16758 using Feature2h(x=8, y=4, width=2, height=7) ...\n",
      "t=1/5 434.32s (434.32s in this stage) 2324/63960 3.63% evaluated. Classification error improved to 0.16410 using Feature2h(x=8, y=3, width=2, height=9) ...\n",
      "t=1/5 474.65s (474.65s in this stage) 2513/63960 3.93% evaluated. Classification error improved to 0.16233 using Feature2h(x=8, y=2, width=2, height=10) ...\n",
      "t=1/5 6492.27s (6492.27s in this stage) 34247/63960 53.54% evaluated. Classification error improved to 0.13029 using Feature3h(x=2, y=8, width=3, height=1) ...\n",
      "t=1/5 6529.26s (6529.26s in this stage) 34456/63960 53.87% evaluated. Classification error improved to 0.10453 using Feature3h(x=13, y=8, width=3, height=1) ...\n",
      "t=1/5 6536.48s (6536.48s in this stage) 34494/63960 53.93% evaluated. Classification error improved to 0.09478 using Feature3h(x=15, y=8, width=3, height=1) ...\n",
      "t=1/5 6599.24s (6599.24s in this stage) 34801/63960 54.41% evaluated. Classification error improved to 0.09379 using Feature3h(x=15, y=7, width=3, height=2) ...\n",
      "t=1/5 6646.80s (6646.80s in this stage) 35075/63960 54.84% evaluated. Classification error improved to 0.09304 using Feature3h(x=14, y=7, width=3, height=3) ...\n",
      "t=1/5 6649.02s (6649.02s in this stage) 35092/63960 54.86% evaluated. Classification error improved to 0.08729 using Feature3h(x=15, y=7, width=3, height=3) ...\n",
      "t=1/5 7082.74s (7082.74s in this stage) 37533/63960 58.68% evaluated. Classification error improved to 0.08679 using Feature3h(x=5, y=7, width=6, height=1) ...\n",
      "t=1/5 10468.68s (10468.68s in this stage) 55853/63960 87.32% evaluated. Classification error improved to 0.08679 using Feature3v(x=0, y=7, width=19, height=12) ...\n"
     ]
    },
    {
     "name": "stderr",
     "output_type": "stream",
     "text": [
      "<ipython-input-33-e47a16af2a40>:6: NumbaWarning: \u001b[1m\n",
      "Compilation is falling back to object mode WITH looplifting enabled because Function \"run_weak_classifier\" failed type inference due to: \u001b[1m\u001b[1mnon-precise type pyobject\u001b[0m\n",
      "\u001b[0m\u001b[1m[1] During: typing of argument at <ipython-input-33-e47a16af2a40> (8)\u001b[0m\n",
      "\u001b[1m\n",
      "File \"<ipython-input-33-e47a16af2a40>\", line 8:\u001b[0m\n",
      "\u001b[1mdef run_weak_classifier(x: np.ndarray, c: WeakClassifier) -> float:\n",
      "\u001b[1m    return weak_classifier(x=x, f=c.classifier, polarity=c.polarity, theta=c.threshold)\n",
      "\u001b[0m    \u001b[1m^\u001b[0m\u001b[0m\n",
      "\u001b[0m\n",
      "  @jit\n",
      "C:\\Users\\redma\\Anaconda3\\lib\\site-packages\\numba\\compiler.py:742: NumbaWarning: \u001b[1mFunction \"run_weak_classifier\" was compiled in object mode without forceobj=True.\n",
      "\u001b[1m\n",
      "File \"<ipython-input-33-e47a16af2a40>\", line 7:\u001b[0m\n",
      "\u001b[1m@jit\n",
      "\u001b[1mdef run_weak_classifier(x: np.ndarray, c: WeakClassifier) -> float:\n",
      "\u001b[0m\u001b[1m^\u001b[0m\u001b[0m\n",
      "\u001b[0m\n",
      "  self.func_ir.loc))\n",
      "C:\\Users\\redma\\Anaconda3\\lib\\site-packages\\numba\\compiler.py:751: NumbaDeprecationWarning: \u001b[1m\n",
      "Fall-back from the nopython compilation path to the object mode compilation path has been detected, this is deprecated behaviour.\n",
      "\n",
      "For more information visit http://numba.pydata.org/numba-doc/latest/reference/deprecation.html#deprecation-of-object-mode-fall-back-behaviour-when-using-jit\n",
      "\u001b[1m\n",
      "File \"<ipython-input-33-e47a16af2a40>\", line 7:\u001b[0m\n",
      "\u001b[1m@jit\n",
      "\u001b[1mdef run_weak_classifier(x: np.ndarray, c: WeakClassifier) -> float:\n",
      "\u001b[0m\u001b[1m^\u001b[0m\u001b[0m\n",
      "\u001b[0m\n",
      "  warnings.warn(errors.NumbaDeprecationWarning(msg, self.func_ir.loc))\n"
     ]
    },
    {
     "name": "stdout",
     "output_type": "stream",
     "text": [
      "Building weak classifier 2/5 ...\n",
      "t=2/5 12013.84s (0.80s in this stage) 3/63960 0.00% evaluated. Classification error improved to 0.33800 using Feature2h(x=0, y=2, width=2, height=1) ...\n",
      "t=2/5 12014.68s (1.64s in this stage) 4/63960 0.00% evaluated. Classification error improved to 0.29656 using Feature2h(x=0, y=3, width=2, height=1) ...\n",
      "t=2/5 12016.30s (3.26s in this stage) 9/63960 0.01% evaluated. Classification error improved to 0.28542 using Feature2h(x=0, y=8, width=2, height=1) ...\n",
      "t=2/5 12031.94s (18.90s in this stage) 107/63960 0.17% evaluated. Classification error improved to 0.28504 using Feature2h(x=5, y=11, width=2, height=1) ...\n",
      "t=2/5 12045.26s (32.22s in this stage) 157/63960 0.24% evaluated. Classification error improved to 0.19752 using Feature2h(x=8, y=4, width=2, height=1) ...\n",
      "t=2/5 12118.43s (105.39s in this stage) 491/63960 0.77% evaluated. Classification error improved to 0.19033 using Feature2h(x=8, y=4, width=2, height=2) ...\n",
      "t=2/5 12392.41s (379.37s in this stage) 1891/63960 2.95% evaluated. Classification error improved to 0.18117 using Feature2h(x=8, y=4, width=2, height=7) ...\n",
      "t=2/5 12443.54s (430.50s in this stage) 2116/63960 3.31% evaluated. Classification error improved to 0.17631 using Feature2h(x=8, y=3, width=2, height=8) ...\n",
      "Building weak classifier 3/5 ...\n",
      "t=3/5 24651.62s (0.75s in this stage) 4/63960 0.00% evaluated. Classification error improved to 0.28520 using Feature2h(x=0, y=3, width=2, height=1) ...\n",
      "t=3/5 24697.00s (46.13s in this stage) 238/63960 0.37% evaluated. Classification error improved to 0.27452 using Feature2h(x=12, y=9, width=2, height=1) ...\n",
      "t=3/5 24723.95s (73.08s in this stage) 360/63960 0.56% evaluated. Classification error improved to 0.24265 using Feature2h(x=0, y=17, width=2, height=2) ...\n",
      "t=3/5 25066.94s (416.07s in this stage) 1946/63960 3.04% evaluated. Classification error improved to 0.24188 using Feature2h(x=12, y=7, width=2, height=7) ...\n",
      "t=3/5 25583.91s (933.04s in this stage) 4468/63960 6.98% evaluated. Classification error improved to 0.23494 using Feature2h(x=11, y=7, width=4, height=4) ...\n",
      "t=3/5 25584.66s (933.80s in this stage) 4469/63960 6.99% evaluated. Classification error improved to 0.21499 using Feature2h(x=11, y=8, width=4, height=4) ...\n",
      "t=3/5 28986.51s (4335.64s in this stage) 20604/63960 32.21% evaluated. Classification error improved to 0.21005 using Feature2v(x=9, y=11, width=3, height=2) ...\n",
      "t=3/5 29354.77s (4703.90s in this stage) 22476/63960 35.14% evaluated. Classification error improved to 0.20419 using Feature2v(x=14, y=3, width=4, height=4) ...\n",
      "t=3/5 29558.39s (4907.52s in this stage) 23538/63960 36.80% evaluated. Classification error improved to 0.20389 using Feature2v(x=7, y=11, width=5, height=2) ...\n",
      "Building weak classifier 4/5 ...\n",
      "t=4/5 37321.02s (0.86s in this stage) 5/63960 0.01% evaluated. Classification error improved to 0.34504 using Feature2h(x=0, y=4, width=2, height=1) ...\n",
      "t=4/5 37322.87s (2.71s in this stage) 28/63960 0.04% evaluated. Classification error improved to 0.34258 using Feature2h(x=1, y=8, width=2, height=1) ...\n",
      "t=4/5 37324.57s (4.41s in this stage) 35/63960 0.05% evaluated. Classification error improved to 0.32641 using Feature2h(x=1, y=15, width=2, height=1) ...\n",
      "t=4/5 37342.92s (22.76s in this stage) 148/63960 0.23% evaluated. Classification error improved to 0.30376 using Feature2h(x=7, y=14, width=2, height=1) ...\n",
      "t=4/5 37358.81s (38.65s in this stage) 238/63960 0.37% evaluated. Classification error improved to 0.27930 using Feature2h(x=12, y=9, width=2, height=1) ...\n",
      "t=4/5 37382.58s (62.43s in this stage) 334/63960 0.52% evaluated. Classification error improved to 0.26075 using Feature2h(x=17, y=10, width=2, height=1) ...\n",
      "t=4/5 37447.44s (127.28s in this stage) 675/63960 1.05% evaluated. Classification error improved to 0.24646 using Feature2h(x=0, y=8, width=2, height=3) ...\n",
      "t=4/5 37506.62s (186.47s in this stage) 980/63960 1.53% evaluated. Classification error improved to 0.24584 using Feature2h(x=0, y=7, width=2, height=4) ...\n",
      "t=4/5 38156.91s (836.75s in this stage) 4225/63960 6.60% evaluated. Classification error improved to 0.23533 using Feature2h(x=12, y=8, width=4, height=3) ...\n",
      "t=4/5 38557.14s (1236.98s in this stage) 6225/63960 9.73% evaluated.\n",
      "t=4/5 38651.63s (1331.47s in this stage) 6679/63960 10.44% evaluated. Classification error improved to 0.23128 using Feature2h(x=11, y=9, width=6, height=1) ...\n",
      "t=4/5 38938.02s (1617.86s in this stage) 8169/63960 12.77% evaluated. Classification error improved to 0.23124 using Feature2h(x=11, y=8, width=6, height=8) ...\n",
      "t=4/5 39320.45s (2000.29s in this stage) 9937/63960 15.53% evaluated. Classification error improved to 0.22440 using Feature2h(x=10, y=8, width=8, height=4) ...\n",
      "t=4/5 39729.11s (2408.95s in this stage) 11937/63960 18.66% evaluated.\n",
      "Building weak classifier 5/5 ...\n",
      "t=5/5 49815.94s (0.81s in this stage) 29/63960 0.04% evaluated. Classification error improved to 0.35524 using Feature2h(x=1, y=9, width=2, height=1) ...\n",
      "t=5/5 49818.70s (3.57s in this stage) 34/63960 0.05% evaluated. Classification error improved to 0.35295 using Feature2h(x=1, y=14, width=2, height=1) ...\n",
      "t=5/5 49819.49s (4.36s in this stage) 37/63960 0.06% evaluated. Classification error improved to 0.35150 using Feature2h(x=1, y=17, width=2, height=1) ...\n",
      "t=5/5 49827.46s (12.33s in this stage) 77/63960 0.12% evaluated. Classification error improved to 0.32290 using Feature2h(x=4, y=0, width=2, height=1) ...\n",
      "t=5/5 49829.04s (13.91s in this stage) 92/63960 0.14% evaluated. Classification error improved to 0.31198 using Feature2h(x=4, y=15, width=2, height=1) ...\n",
      "t=5/5 49874.80s (59.68s in this stage) 335/63960 0.52% evaluated. Classification error improved to 0.29972 using Feature2h(x=17, y=11, width=2, height=1) ...\n",
      "t=5/5 49878.04s (62.92s in this stage) 347/63960 0.54% evaluated. Classification error improved to 0.29334 using Feature2h(x=0, y=4, width=2, height=2) ...\n",
      "t=5/5 49990.82s (175.69s in this stage) 983/63960 1.54% evaluated. Classification error improved to 0.28672 using Feature2h(x=0, y=10, width=2, height=4) ...\n",
      "t=5/5 50146.57s (331.44s in this stage) 1778/63960 2.78% evaluated. Classification error improved to 0.28373 using Feature2h(x=17, y=9, width=2, height=6) ...\n",
      "t=5/5 50574.22s (759.09s in this stage) 3778/63960 5.91% evaluated.\n",
      "t=5/5 51218.77s (1403.64s in this stage) 6759/63960 10.57% evaluated. Classification error improved to 0.25697 using Feature2h(x=1, y=14, width=6, height=2) ...\n",
      "t=5/5 53247.33s (3432.20s in this stage) 17353/63960 27.13% evaluated. Classification error improved to 0.25654 using Feature2v(x=14, y=0, width=1, height=2) ...\n",
      "t=5/5 53570.32s (3755.19s in this stage) 18916/63960 29.57% evaluated. Classification error improved to 0.25469 using Feature2v(x=5, y=15, width=2, height=2) ...\n",
      "t=5/5 53600.78s (3785.65s in this stage) 19045/63960 29.77% evaluated. Classification error improved to 0.24606 using Feature2v(x=13, y=0, width=2, height=2) ...\n",
      "t=5/5 53968.45s (4153.32s in this stage) 21045/63960 32.90% evaluated.\n",
      "t=5/5 54529.37s (4714.24s in this stage) 23617/63960 36.92% evaluated. Classification error improved to 0.24164 using Feature2v(x=12, y=0, width=5, height=2) ...\n",
      "t=5/5 54536.71s (4721.59s in this stage) 23635/63960 36.95% evaluated. Classification error improved to 0.23405 using Feature2v(x=13, y=0, width=5, height=2) ...\n",
      "t=5/5 61628.63s (11813.50s in this stage) 59379/63960 92.84% evaluated. Classification error improved to 0.21987 using Feature4(x=12, y=14, width=6, height=4) ...\n",
      "Done building 5 weak classifiers.\n"
     ]
    }
   ],
   "source": [
    "assert xis.shape[1:3] == (WINDOW_SIZE+1, WINDOW_SIZE+1), xis.shape\n",
    "weak_classifiers_3, w_history = build_weak_classifiers('3rd', 5, xis, ys, features)"
   ]
  },
  {
   "cell_type": "code",
   "execution_count": 42,
   "metadata": {},
   "outputs": [
    {
     "data": {
      "text/plain": [
       "[WeakClassifier(threshold=-34.94171142578125, polarity=1, alpha=2.3535240166187434, classifier=Feature3v(x=0, y=7, width=19, height=12)),\n",
       " WeakClassifier(threshold=-1.3389663696289062, polarity=1, alpha=1.5415739225706282, classifier=Feature2h(x=8, y=3, width=2, height=8)),\n",
       " WeakClassifier(threshold=0.9956474304199219, polarity=-1, alpha=1.3621383392395696, classifier=Feature2v(x=7, y=11, width=5, height=2)),\n",
       " WeakClassifier(threshold=-2.0256080627441406, polarity=1, alpha=1.240216739953939, classifier=Feature2h(x=10, y=8, width=8, height=4)),\n",
       " WeakClassifier(threshold=-1.0986175537109375, polarity=1, alpha=1.2664070651570087, classifier=Feature4(x=12, y=14, width=6, height=4))]"
      ]
     },
     "execution_count": 42,
     "metadata": {},
     "output_type": "execute_result"
    }
   ],
   "source": [
    "weak_classifiers_3"
   ]
  },
  {
   "cell_type": "markdown",
   "metadata": {},
   "source": [
    "## Test Case"
   ]
  },
  {
   "cell_type": "code",
   "execution_count": 43,
   "metadata": {},
   "outputs": [],
   "source": [
    "test_data_dir=os.path.join(data_dir,\"testset\")\n",
    "test_faces=os.path.join(test_data_dir,\"faces\")\n",
    "test_non_faces=os.path.join(test_data_dir,\"non-faces\")"
   ]
  },
  {
   "cell_type": "code",
   "execution_count": 44,
   "metadata": {},
   "outputs": [
    {
     "data": {
      "text/plain": [
       "472"
      ]
     },
     "execution_count": 44,
     "metadata": {},
     "output_type": "execute_result"
    }
   ],
   "source": [
    "face_image_files_test = glob.glob(os.path.join(test_faces, '**', '*.png'), recursive=True)\n",
    "len(face_image_files_test)"
   ]
  },
  {
   "cell_type": "code",
   "execution_count": 45,
   "metadata": {},
   "outputs": [
    {
     "data": {
      "text/plain": [
       "2001"
      ]
     },
     "execution_count": 45,
     "metadata": {},
     "output_type": "execute_result"
    }
   ],
   "source": [
    "background_image_files_test=glob.glob(os.path.join(test_non_faces, '**', '*.png'), recursive=True)\n",
    "len(background_image_files_test)"
   ]
  },
  {
   "cell_type": "code",
   "execution_count": 46,
   "metadata": {},
   "outputs": [
    {
     "data": {
      "image/png": "[encoded data removed]",
      "text/plain": [
       "<PIL.Image.Image image mode=L size=95x19 at 0x22AEF536948>"
      ]
     },
     "execution_count": 46,
     "metadata": {},
     "output_type": "execute_result"
    }
   ],
   "source": [
    "random.seed(1000)\n",
    "random_face_files_test = random.sample(face_image_files_test, 5)\n",
    "merge_images(random_face_files_test, open_face)"
   ]
  },
  {
   "cell_type": "code",
   "execution_count": 47,
   "metadata": {},
   "outputs": [
    {
     "data": {
      "image/png": "[encoded data removed]",
      "text/plain": [
       "<PIL.Image.Image image mode=L size=95x19 at 0x22AEF990608>"
      ]
     },
     "execution_count": 47,
     "metadata": {},
     "output_type": "execute_result"
    }
   ],
   "source": [
    "random.seed(1000)\n",
    "random_background_files_test = random.sample(background_image_files_test, 5)\n",
    "merge_images(random_background_files_test, open_background)"
   ]
  },
  {
   "cell_type": "code",
   "execution_count": 48,
   "metadata": {},
   "outputs": [],
   "source": [
    "def sample_data_test(p: int, n: int) -> Tuple[np.ndarray, np.ndarray]:\n",
    "    xs = []\n",
    "    xs.extend([to_float_array(open_face(f)) for f in random.sample(face_image_files_test, p)])\n",
    "    xs.extend([to_float_array(open_background(f)) for f in np.random.choice(background_image_files_test, n, replace=True)])\n",
    "\n",
    "    ys = np.hstack([np.ones((p,)), np.zeros((n,))])\n",
    "    return np.array(xs), ys"
   ]
  },
  {
   "cell_type": "code",
   "execution_count": 49,
   "metadata": {},
   "outputs": [
    {
     "name": "stdout",
     "output_type": "stream",
     "text": [
      "Sample mean: 0.5171371698379517, standard deviation: 0.235338494181633\n"
     ]
    }
   ],
   "source": [
    "image_samples_test, _ = sample_data_test(100, 100)\n",
    "\n",
    "sample_mean = image_samples_test.mean()\n",
    "sample_std = image_samples_test.std()\n",
    "del image_samples_test\n",
    "\n",
    "print(f'Sample mean: {sample_mean}, standard deviation: {sample_std}')"
   ]
  },
  {
   "cell_type": "code",
   "execution_count": 50,
   "metadata": {},
   "outputs": [],
   "source": [
    "def normalize_test(im: np.ndarray, mean: float = sample_mean, std: float = sample_std) -> np.ndarray:\n",
    "    return (im - mean) / std\n",
    "\n",
    "def sample_data_normalized_test(p: int, n: int, mean: float = sample_mean, std: float = sample_std) -> Tuple[np.ndarray, np.ndarray]:\n",
    "    xs, ys = sample_data_test(p, n)\n",
    "    xs = normalize_test(xs, mean, std)\n",
    "    return xs, ys"
   ]
  },
  {
   "cell_type": "code",
   "execution_count": 51,
   "metadata": {
    "scrolled": true
   },
   "outputs": [
    {
     "name": "stdout",
     "output_type": "stream",
     "text": [
      "Example mean: 0.03398381918668747, standard deviation: 1.0249199867248535\n"
     ]
    }
   ],
   "source": [
    "xs, _ = sample_data_normalized_test(100, 100)\n",
    "\n",
    "print(f'Example mean: {xs.mean()}, standard deviation: {xs.std()}')\n",
    "del xs\n",
    "del _"
   ]
  },
  {
   "cell_type": "code",
   "execution_count": 52,
   "metadata": {},
   "outputs": [],
   "source": [
    "random.seed(18151210)\n",
    "np.random.seed(18151210)\n",
    "xs, ys = sample_data_normalized_test(100, 100)"
   ]
  },
  {
   "cell_type": "code",
   "execution_count": 53,
   "metadata": {},
   "outputs": [
    {
     "data": {
      "text/plain": [
       "((200, 19, 19), (200, 20, 20))"
      ]
     },
     "execution_count": 53,
     "metadata": {},
     "output_type": "execute_result"
    }
   ],
   "source": [
    "xis = np.array([to_integral(x) for x in xs])\n",
    "xs.shape, xis.shape"
   ]
  },
  {
   "cell_type": "code",
   "execution_count": 54,
   "metadata": {},
   "outputs": [
    {
     "data": {
      "image/png": "[encoded data removed]",
      "text/plain": [
       "<PIL.Image.Image image mode=L size=100x100 at 0x22AEF87C208>"
      ]
     },
     "execution_count": 54,
     "metadata": {},
     "output_type": "execute_result"
    }
   ],
   "source": [
    "average_face = np.sum(xs[ys > .6], axis=0) / xs[ys > .6].shape[0]\n",
    "average_face = (average_face - average_face.min()) / (average_face.max() - average_face.min())\n",
    "to_image(average_face).resize((100, 100))"
   ]
  },
  {
   "cell_type": "code",
   "execution_count": 55,
   "metadata": {},
   "outputs": [
    {
     "data": {
      "image/png": "[encoded data removed]",
      "text/plain": [
       "<PIL.Image.Image image mode=L size=100x100 at 0x22AED44E6C8>"
      ]
     },
     "execution_count": 55,
     "metadata": {},
     "output_type": "execute_result"
    }
   ],
   "source": [
    "to_image(average_face).resize((100, 100), Image.ANTIALIAS)"
   ]
  },
  {
   "cell_type": "code",
   "execution_count": 56,
   "metadata": {},
   "outputs": [
    {
     "data": {
      "image/png": "[encoded data removed]",
      "text/plain": [
       "<PIL.Image.Image image mode=L size=100x100 at 0x22AEF536188>"
      ]
     },
     "execution_count": 56,
     "metadata": {},
     "output_type": "execute_result"
    }
   ],
   "source": [
    "average_background = np.sum(xs[ys < .6], axis=0) / xs[ys < .6].shape[0]\n",
    "average_background = (average_background - average_background.min()) / (average_background.max() - average_background.min())\n",
    "to_image(average_background).resize((100, 100), Image.ANTIALIAS)"
   ]
  },
  {
   "cell_type": "code",
   "execution_count": 57,
   "metadata": {},
   "outputs": [],
   "source": [
    "random.seed(1337)\n",
    "np.random.seed(1337)\n",
    "test_xs, test_ys = sample_data_normalized_test(100, 100)\n",
    "test_xis = np.array([to_integral(x) for x in test_xs])"
   ]
  },
  {
   "cell_type": "markdown",
   "metadata": {},
   "source": [
    "## Evaluation of the classifier(s)"
   ]
  },
  {
   "cell_type": "code",
   "execution_count": 58,
   "metadata": {},
   "outputs": [],
   "source": [
    "PredictionStats = NamedTuple('PredictionStats', [('tn', int), ('fp', int), ('fn', int), ('tp', int)])\n",
    "\n",
    "def prediction_stats(y_true: np.ndarray, y_pred: np.ndarray) -> Tuple[np.ndarray, PredictionStats]:\n",
    "    c = confusion_matrix(y_true, y_pred)\n",
    "    tn, fp, fn, tp = c.ravel()\n",
    "    return c, PredictionStats(tn=tn, fp=fp, fn=fn, tp=tp)"
   ]
  },
  {
   "cell_type": "code",
   "execution_count": 64,
   "metadata": {},
   "outputs": [
    {
     "name": "stdout",
     "output_type": "stream",
     "text": [
      "Precision 0.91, accuracy 0.87, recall 0.82, false positive rate 0.08, false negative rate 0.18.\n"
     ]
    },
    {
     "data": {
      "image/png": "[encoded data removed]",
      "text/plain": [
       "<Figure size 432x288 with 2 Axes>"
      ]
     },
     "metadata": {
      "needs_background": "light"
     },
     "output_type": "display_data"
    }
   ],
   "source": [
    "ys_1 = np.array([run_weak_classifier(x, weak_classifiers_3[0]) for x in test_xis])\n",
    "c, s = prediction_stats(test_ys, ys_1)\n",
    "\n",
    "sns.heatmap(c / c.sum(), cmap='YlGnBu', annot=True, square=True, fmt='.1%',\n",
    "            xticklabels=['Predicted negative', 'Predicted positive'], \n",
    "            yticklabels=['Negative', 'Positive'])\n",
    "plt.title(f'{weak_classifiers_3[0].classifier} alone');\n",
    "\n",
    "print(f'Precision {s.tp/(s.tp+s.fp):.2f}, accuracy {(s.tp+s.tn)/(s.tp+s.tn+s.fp+s.fn):.2f}, recall {s.tp/(s.tp+s.fn):.2f}, false positive rate {s.fp/(s.fp+s.tn):.2f}, false negative rate {s.fn/(s.tp+s.fn):.2f}.')"
   ]
  },
  {
   "cell_type": "code",
   "execution_count": 65,
   "metadata": {},
   "outputs": [
    {
     "name": "stdout",
     "output_type": "stream",
     "text": [
      "Precision 0.53, accuracy 0.51, recall 0.19, false positive rate 0.17, false negative rate 0.81.\n"
     ]
    },
    {
     "data": {
      "image/png": "[encoded data removed]",
      "text/plain": [
       "<Figure size 432x288 with 2 Axes>"
      ]
     },
     "metadata": {
      "needs_background": "light"
     },
     "output_type": "display_data"
    }
   ],
   "source": [
    "ys_1 = np.array([run_weak_classifier(x, weak_classifiers_3[1]) for x in test_xis])\n",
    "c, s = prediction_stats(test_ys, ys_1)\n",
    "\n",
    "sns.heatmap(c / c.sum(), cmap='YlGnBu', annot=True, square=True, fmt='.1%',\n",
    "            xticklabels=['Predicted negative', 'Predicted positive'], \n",
    "            yticklabels=['Negative', 'Positive'])\n",
    "plt.title(f'{weak_classifiers_3[1].classifier} alone');\n",
    "\n",
    "print(f'Precision {s.tp/(s.tp+s.fp):.2f}, accuracy {(s.tp+s.tn)/(s.tp+s.tn+s.fp+s.fn):.2f}, recall {s.tp/(s.tp+s.fn):.2f}, false positive rate {s.fp/(s.fp+s.tn):.2f}, false negative rate {s.fn/(s.tp+s.fn):.2f}.')"
   ]
  },
  {
   "cell_type": "code",
   "execution_count": 66,
   "metadata": {},
   "outputs": [
    {
     "name": "stdout",
     "output_type": "stream",
     "text": [
      "Precision 0.93, accuracy 0.56, recall 0.13, false positive rate 0.01, false negative rate 0.87.\n"
     ]
    },
    {
     "data": {
      "image/png": "[encoded data removed]",
      "text/plain": [
       "<Figure size 432x288 with 2 Axes>"
      ]
     },
     "metadata": {
      "needs_background": "light"
     },
     "output_type": "display_data"
    }
   ],
   "source": [
    "ys_1 = np.array([run_weak_classifier(x, weak_classifiers_3[2]) for x in test_xis])\n",
    "c, s = prediction_stats(test_ys, ys_1)\n",
    "\n",
    "sns.heatmap(c / c.sum(), cmap='YlGnBu', annot=True, square=True, fmt='.1%',\n",
    "            xticklabels=['Predicted negative', 'Predicted positive'], \n",
    "            yticklabels=['Negative', 'Positive'])\n",
    "plt.title(f'{weak_classifiers_3[2].classifier} alone');\n",
    "\n",
    "print(f'Precision {s.tp/(s.tp+s.fp):.2f}, accuracy {(s.tp+s.tn)/(s.tp+s.tn+s.fp+s.fn):.2f}, recall {s.tp/(s.tp+s.fn):.2f}, false positive rate {s.fp/(s.fp+s.tn):.2f}, false negative rate {s.fn/(s.tp+s.fn):.2f}.')"
   ]
  },
  {
   "cell_type": "code",
   "execution_count": 67,
   "metadata": {},
   "outputs": [
    {
     "name": "stdout",
     "output_type": "stream",
     "text": [
      "Precision 0.60, accuracy 0.57, recall 0.46, false positive rate 0.31, false negative rate 0.54.\n"
     ]
    },
    {
     "data": {
      "image/png": "[encoded data removed]",
      "text/plain": [
       "<Figure size 432x288 with 2 Axes>"
      ]
     },
     "metadata": {
      "needs_background": "light"
     },
     "output_type": "display_data"
    }
   ],
   "source": [
    "ys_1 = np.array([run_weak_classifier(x, weak_classifiers_3[3]) for x in test_xis])\n",
    "c, s = prediction_stats(test_ys, ys_1)\n",
    "\n",
    "sns.heatmap(c / c.sum(), cmap='YlGnBu', annot=True, square=True, fmt='.1%',\n",
    "            xticklabels=['Predicted negative', 'Predicted positive'], \n",
    "            yticklabels=['Negative', 'Positive'])\n",
    "plt.title(f'{weak_classifiers_3[3].classifier} alone');\n",
    "\n",
    "print(f'Precision {s.tp/(s.tp+s.fp):.2f}, accuracy {(s.tp+s.tn)/(s.tp+s.tn+s.fp+s.fn):.2f}, recall {s.tp/(s.tp+s.fn):.2f}, false positive rate {s.fp/(s.fp+s.tn):.2f}, false negative rate {s.fn/(s.tp+s.fn):.2f}.')"
   ]
  },
  {
   "cell_type": "code",
   "execution_count": 68,
   "metadata": {},
   "outputs": [
    {
     "name": "stdout",
     "output_type": "stream",
     "text": [
      "Precision 0.50, accuracy 0.50, recall 0.11, false positive rate 0.11, false negative rate 0.89.\n"
     ]
    },
    {
     "data": {
      "image/png": "[encoded data removed]",
      "text/plain": [
       "<Figure size 432x288 with 2 Axes>"
      ]
     },
     "metadata": {
      "needs_background": "light"
     },
     "output_type": "display_data"
    }
   ],
   "source": [
    "ys_1 = np.array([run_weak_classifier(x, weak_classifiers_3[4]) for x in test_xis])\n",
    "c, s = prediction_stats(test_ys, ys_1)\n",
    "\n",
    "sns.heatmap(c / c.sum(), cmap='YlGnBu', annot=True, square=True, fmt='.1%',\n",
    "            xticklabels=['Predicted negative', 'Predicted positive'], \n",
    "            yticklabels=['Negative', 'Positive'])\n",
    "plt.title(f'{weak_classifiers_3[4].classifier} alone');\n",
    "\n",
    "print(f'Precision {s.tp/(s.tp+s.fp):.2f}, accuracy {(s.tp+s.tn)/(s.tp+s.tn+s.fp+s.fn):.2f}, recall {s.tp/(s.tp+s.fn):.2f}, false positive rate {s.fp/(s.fp+s.tn):.2f}, false negative rate {s.fn/(s.tp+s.fn):.2f}.')"
   ]
  },
  {
   "cell_type": "code",
   "execution_count": 69,
   "metadata": {},
   "outputs": [
    {
     "name": "stderr",
     "output_type": "stream",
     "text": [
      "<ipython-input-34-886b5b384fd2>:1: NumbaWarning: \u001b[1m\n",
      "Compilation is falling back to object mode WITH looplifting enabled because Function \"strong_classifier\" failed type inference due to: \u001b[1m\u001b[1mnon-precise type pyobject\u001b[0m\n",
      "\u001b[0m\u001b[1m[1] During: typing of argument at <ipython-input-34-886b5b384fd2> (3)\u001b[0m\n",
      "\u001b[1m\n",
      "File \"<ipython-input-34-886b5b384fd2>\", line 3:\u001b[0m\n",
      "\u001b[1mdef strong_classifier(x: np.ndarray, weak_classifiers: List[WeakClassifier]) -> int:\n",
      "\u001b[1m    sum_hypotheses = 0.\n",
      "\u001b[0m    \u001b[1m^\u001b[0m\u001b[0m\n",
      "\u001b[0m\n",
      "  @jit\n",
      "<ipython-input-34-886b5b384fd2>:1: NumbaWarning: \u001b[1m\n",
      "Compilation is falling back to object mode WITHOUT looplifting enabled because Function \"strong_classifier\" failed type inference due to: \u001b[1m\u001b[1mcannot determine Numba type of <class 'numba.dispatcher.LiftedLoop'>\u001b[0m\n",
      "\u001b[1m\n",
      "File \"<ipython-input-34-886b5b384fd2>\", line 5:\u001b[0m\n",
      "\u001b[1mdef strong_classifier(x: np.ndarray, weak_classifiers: List[WeakClassifier]) -> int:\n",
      "    <source elided>\n",
      "    sum_alphas = 0.\n",
      "\u001b[1m    for c in weak_classifiers:\n",
      "\u001b[0m    \u001b[1m^\u001b[0m\u001b[0m\n",
      "\u001b[0m\u001b[0m\n",
      "  @jit\n",
      "C:\\Users\\redma\\Anaconda3\\lib\\site-packages\\numba\\compiler.py:742: NumbaWarning: \u001b[1mFunction \"strong_classifier\" was compiled in object mode without forceobj=True, but has lifted loops.\n",
      "\u001b[1m\n",
      "File \"<ipython-input-34-886b5b384fd2>\", line 2:\u001b[0m\n",
      "\u001b[1m@jit\n",
      "\u001b[1mdef strong_classifier(x: np.ndarray, weak_classifiers: List[WeakClassifier]) -> int:\n",
      "\u001b[0m\u001b[1m^\u001b[0m\u001b[0m\n",
      "\u001b[0m\n",
      "  self.func_ir.loc))\n",
      "C:\\Users\\redma\\Anaconda3\\lib\\site-packages\\numba\\compiler.py:751: NumbaDeprecationWarning: \u001b[1m\n",
      "Fall-back from the nopython compilation path to the object mode compilation path has been detected, this is deprecated behaviour.\n",
      "\n",
      "For more information visit http://numba.pydata.org/numba-doc/latest/reference/deprecation.html#deprecation-of-object-mode-fall-back-behaviour-when-using-jit\n",
      "\u001b[1m\n",
      "File \"<ipython-input-34-886b5b384fd2>\", line 2:\u001b[0m\n",
      "\u001b[1m@jit\n",
      "\u001b[1mdef strong_classifier(x: np.ndarray, weak_classifiers: List[WeakClassifier]) -> int:\n",
      "\u001b[0m\u001b[1m^\u001b[0m\u001b[0m\n",
      "\u001b[0m\n",
      "  warnings.warn(errors.NumbaDeprecationWarning(msg, self.func_ir.loc))\n",
      "<ipython-input-34-886b5b384fd2>:1: NumbaWarning: \u001b[1m\n",
      "Compilation is falling back to object mode WITHOUT looplifting enabled because Function \"strong_classifier\" failed type inference due to: \u001b[1m\u001b[1mnon-precise type pyobject\u001b[0m\n",
      "\u001b[0m\u001b[1m[1] During: typing of argument at <ipython-input-34-886b5b384fd2> (5)\u001b[0m\n",
      "\u001b[1m\n",
      "File \"<ipython-input-34-886b5b384fd2>\", line 5:\u001b[0m\n",
      "\u001b[1mdef strong_classifier(x: np.ndarray, weak_classifiers: List[WeakClassifier]) -> int:\n",
      "    <source elided>\n",
      "    sum_alphas = 0.\n",
      "\u001b[1m    for c in weak_classifiers:\n",
      "\u001b[0m    \u001b[1m^\u001b[0m\u001b[0m\n",
      "\u001b[0m\n",
      "  @jit\n",
      "C:\\Users\\redma\\Anaconda3\\lib\\site-packages\\numba\\compiler.py:742: NumbaWarning: \u001b[1mFunction \"strong_classifier\" was compiled in object mode without forceobj=True.\n",
      "\u001b[1m\n",
      "File \"<ipython-input-34-886b5b384fd2>\", line 5:\u001b[0m\n",
      "\u001b[1mdef strong_classifier(x: np.ndarray, weak_classifiers: List[WeakClassifier]) -> int:\n",
      "    <source elided>\n",
      "    sum_alphas = 0.\n",
      "\u001b[1m    for c in weak_classifiers:\n",
      "\u001b[0m    \u001b[1m^\u001b[0m\u001b[0m\n",
      "\u001b[0m\n",
      "  self.func_ir.loc))\n",
      "C:\\Users\\redma\\Anaconda3\\lib\\site-packages\\numba\\compiler.py:751: NumbaDeprecationWarning: \u001b[1m\n",
      "Fall-back from the nopython compilation path to the object mode compilation path has been detected, this is deprecated behaviour.\n",
      "\n",
      "For more information visit http://numba.pydata.org/numba-doc/latest/reference/deprecation.html#deprecation-of-object-mode-fall-back-behaviour-when-using-jit\n",
      "\u001b[1m\n",
      "File \"<ipython-input-34-886b5b384fd2>\", line 5:\u001b[0m\n",
      "\u001b[1mdef strong_classifier(x: np.ndarray, weak_classifiers: List[WeakClassifier]) -> int:\n",
      "    <source elided>\n",
      "    sum_alphas = 0.\n",
      "\u001b[1m    for c in weak_classifiers:\n",
      "\u001b[0m    \u001b[1m^\u001b[0m\u001b[0m\n",
      "\u001b[0m\n",
      "  warnings.warn(errors.NumbaDeprecationWarning(msg, self.func_ir.loc))\n"
     ]
    },
    {
     "name": "stdout",
     "output_type": "stream",
     "text": [
      "Precision 0.83, accuracy 0.60, recall 0.25, false positive rate 0.05, false negative rate 0.75.\n"
     ]
    },
    {
     "data": {
      "image/png": "[encoded data removed]",
      "text/plain": [
       "<Figure size 432x288 with 2 Axes>"
      ]
     },
     "metadata": {
      "needs_background": "light"
     },
     "output_type": "display_data"
    }
   ],
   "source": [
    "ys_strong = np.array([strong_classifier(x, weak_classifiers_3) for x in test_xis])\n",
    "c, s = prediction_stats(test_ys, ys_strong)\n",
    "\n",
    "sns.heatmap(c / c.sum(), cmap='YlGnBu', annot=True, square=True, fmt='.1%',\n",
    "            xticklabels=['Predicted negative', 'Predicted positive'], \n",
    "            yticklabels=['Negative', 'Positive'])\n",
    "plt.title(f'Confusion matrix for the strong classifier (stage 2)');\n",
    "\n",
    "print(f'Precision {s.tp/(s.tp+s.fp):.2f}, accuracy {(s.tp+s.tn)/(s.tp+s.tn+s.fp+s.fn):.2f}, recall {s.tp/(s.tp+s.fn):.2f}, false positive rate {s.fp/(s.fp+s.tn):.2f}, false negative rate {s.fn/(s.tp+s.fn):.2f}.')"
   ]
  },
  {
   "cell_type": "code",
   "execution_count": null,
   "metadata": {},
   "outputs": [],
   "source": []
  }
 ],
 "metadata": {
  "kernelspec": {
   "display_name": "Python 3",
   "language": "python",
   "name": "python3"
  },
  "language_info": {
   "codemirror_mode": {
    "name": "ipython",
    "version": 3
   },
   "file_extension": ".py",
   "mimetype": "text/x-python",
   "name": "python",
   "nbconvert_exporter": "python",
   "pygments_lexer": "ipython3",
   "version": "3.7.4"
  }
 },
 "nbformat": 4,
 "nbformat_minor": 2
}
